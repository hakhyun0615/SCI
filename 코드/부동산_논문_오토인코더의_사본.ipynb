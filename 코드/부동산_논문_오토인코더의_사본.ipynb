{
  "cells": [
    {
      "cell_type": "code",
      "execution_count": null,
      "metadata": {
        "id": "rn7a2iWyqLIW"
      },
      "outputs": [],
      "source": [
        "import numpy as np\n",
        "import pandas as pd\n",
        "import torch\n",
        "import matplotlib.pyplot as plt\n",
        "\n",
        "import torch.nn as nn\n",
        "from sklearn.preprocessing import MinMaxScaler\n",
        "from torch.utils.data import DataLoader, Dataset"
      ]
    },
    {
      "cell_type": "code",
      "execution_count": null,
      "metadata": {
        "id": "cjdoVL0BEef-"
      },
      "outputs": [],
      "source": [
        "# 데이터 다운 & 전처리\n",
        "\n",
        "df = pd.read_excel('/content/더미데이터.xlsx')"
      ]
    },
    {
      "cell_type": "code",
      "execution_count": null,
      "metadata": {
        "id": "BdsWRAXdDhd9"
      },
      "outputs": [],
      "source": [
        "def to_list(x):\n",
        "  x = x.replace('[','').replace(']','').replace('  ','').split(' ')\n",
        "  return np.array(x,dtype=np.float64)"
      ]
    },
    {
      "cell_type": "code",
      "execution_count": null,
      "metadata": {
        "id": "RWLZeNVGLmAM"
      },
      "outputs": [],
      "source": [
        "df[0] = df[0].apply(to_list)\n",
        "df[1] = df[1].apply(to_list)"
      ]
    },
    {
      "cell_type": "code",
      "execution_count": null,
      "metadata": {
        "id": "FXYCo0XzqQcJ"
      },
      "outputs": [],
      "source": [
        "#### 문제가 있어!!!!!!!!!!!!!!!\n",
        "\n",
        "# 필요하다면 파라미터 개수를 늘려\n",
        "class windowDataset(Dataset):\n",
        "    def __init__(self, data):\n",
        "\n",
        "        data_len = len(data)\n",
        "        X, Y =[],[]\n",
        "        for j in range(data_len):\n",
        "          X.append(data[0].values[j])\n",
        "\n",
        "        for j in range(data_len):\n",
        "          Y.append(df[1].values[j])\n",
        "\n",
        "        self.x = torch.FloatTensor(X)\n",
        "        self.y = torch.FloatTensor(Y)\n",
        "\n",
        "        self.len = len(X)\n",
        "\n",
        "    # return 값들\n",
        "    def __getitem__(self, i):\n",
        "        return self.x[i], self.y[i]\n",
        "\n",
        "    def __len__(self):\n",
        "        return self.len"
      ]
    },
    {
      "cell_type": "code",
      "execution_count": null,
      "metadata": {
        "id": "aYrtN5tUr82t"
      },
      "outputs": [],
      "source": [
        "train_dataset = windowDataset(df)\n",
        "train_loader = DataLoader(train_dataset, batch_size=64)"
      ]
    },
    {
      "cell_type": "code",
      "execution_count": null,
      "metadata": {
        "colab": {
          "base_uri": "https://localhost:8080/"
        },
        "id": "mHRw2D_ANPca",
        "outputId": "f5c9ecb1-93c0-4ca5-e9a5-a7d6809ba13e"
      },
      "outputs": [
        {
          "name": "stdout",
          "output_type": "stream",
          "text": [
            "X 크기 : tensor([[    0.,     0., 59500.,     0.,     0.,     0.,     0.],\n",
            "        [    0.,     0., 59500.,     0.,     0.,     0.,     0.],\n",
            "        [    0.,     0., 59500.,     0.,     0.,     0.,     0.],\n",
            "        [    0.,     0., 59500.,     0.,     0.,     0.,     0.],\n",
            "        [    0.,     0., 59500.,     0.,     0.,     0.,     0.],\n",
            "        [    0.,     0., 59500.,     0.,     0.,     0.,     0.],\n",
            "        [    0.,     0., 60000.,     0.,     0.,     0.,     0.],\n",
            "        [    0.,     0., 60000.,     0.,     0.,     0.,     0.],\n",
            "        [    0.,     0., 60000.,     0.,     0.,     0.,     0.],\n",
            "        [    0.,     0., 60000.,     0.,     0.,     0.,     0.],\n",
            "        [    0.,     0., 60000.,     0.,     0.,     0.,     0.],\n",
            "        [    0.,     0., 67000.,     0.,     0.,     0.,     0.],\n",
            "        [    0.,     0., 67000.,     0.,     0.,     0.,     0.],\n",
            "        [    0.,     0., 67000.,     0.,     0.,     0.,     0.],\n",
            "        [    0.,     0., 67000.,     0.,     0.,     0.,     0.],\n",
            "        [    0.,     0., 60000.,     0.,     0.,     0.,     0.],\n",
            "        [    0.,     0., 60000.,     0.,     0.,     0.,     0.],\n",
            "        [    0.,     0., 60000.,     0.,     0.,     0.,     0.],\n",
            "        [    0.,     0., 72250.,     0.,     0.,     0.,     0.],\n",
            "        [    0.,     0., 72250.,     0.,     0.,     0.,     0.],\n",
            "        [    0.,     0., 73500.,     0.,     0.,     0.,     0.]])\n"
          ]
        }
      ],
      "source": [
        "for x,y in train_loader:\n",
        "  print(\"X 크기 : {}\".format(x))\n",
        "  break"
      ]
    },
    {
      "cell_type": "code",
      "execution_count": null,
      "metadata": {
        "id": "f6q6qdvOsF9N"
      },
      "outputs": [],
      "source": [
        "class Model(nn.Module):\n",
        "    def __init__(self, input_size=7):\n",
        "        super(Model, self).__init__()\n",
        "\n",
        "        # 인코더(encoder) 정의\n",
        "        self.encoder = nn.Sequential(\n",
        "            nn.Linear(input_size, 4),\n",
        "            nn.ReLU(),\n",
        "            nn.Linear(4, 2),\n",
        "            nn.ReLU()\n",
        "        )\n",
        "\n",
        "        # 디코더(decoder) 정의\n",
        "        self.decoder = nn.Sequential(\n",
        "            nn.Linear(2, 4),\n",
        "            nn.ReLU(),\n",
        "            nn.Linear(4, input_size),\n",
        "            nn.Sigmoid()\n",
        "        )\n",
        "\n",
        "    def forward(self, x):\n",
        "        encoded = self.encoder(x)\n",
        "        decoded = self.decoder(encoded)\n",
        "        return decoded\n"
      ]
    },
    {
      "cell_type": "code",
      "execution_count": null,
      "metadata": {
        "colab": {
          "base_uri": "https://localhost:8080/"
        },
        "id": "3kreJFAisc7f",
        "outputId": "c7c37071-375c-4b4b-bfc6-55bcd5f57188"
      },
      "outputs": [
        {
          "name": "stdout",
          "output_type": "stream",
          "text": [
            "cpu is available\n",
            "작동하는지 실험\n"
          ]
        },
        {
          "data": {
            "text/plain": [
              "tensor([[0.4597, 0.6331, 0.4248, 0.5375, 0.5385, 0.4315, 0.4162]],\n",
              "       grad_fn=<SigmoidBackward0>)"
            ]
          },
          "execution_count": 341,
          "metadata": {},
          "output_type": "execute_result"
        }
      ],
      "source": [
        "# 데이터 & 모델에 device 붙임!!!\n",
        "device = torch.device('cuda:0' if torch.cuda.is_available() else 'cpu')\n",
        "print(f'{device} is available')\n",
        "\n",
        "model = Model().to(device)\n",
        "\n",
        "\n",
        "print('작동하는지 실험')\n",
        "basic_data = torch.rand((1,7))\n",
        "model(basic_data)\n"
      ]
    },
    {
      "cell_type": "code",
      "execution_count": null,
      "metadata": {
        "id": "7BOv6HoctFWe"
      },
      "outputs": [],
      "source": [
        "criterion = nn.MSELoss()\n",
        "\n",
        "lr = 1e-3\n",
        "num_epochs = 5\n",
        "optimizer = torch.optim.Adam(model.parameters(), lr=lr)"
      ]
    },
    {
      "cell_type": "code",
      "execution_count": null,
      "metadata": {
        "colab": {
          "base_uri": "https://localhost:8080/"
        },
        "id": "R6q1Ah1dtFuh",
        "outputId": "5308e22e-5f0f-48b2-e5f5-65c5695f9df8"
      },
      "outputs": [
        {
          "name": "stdout",
          "output_type": "stream",
          "text": [
            "epoch : 0\n",
            "train\n",
            "718056588.8\n",
            "Calculating validation results...\n",
            "val\n",
            "loss: 7.1805659e+08 || \n",
            "======================================================\n",
            "epoch : 1\n",
            "train\n",
            "718056588.8\n",
            "Calculating validation results...\n",
            "val\n",
            "loss: 7.1805659e+08 || \n",
            "======================================================\n",
            "epoch : 2\n",
            "train\n",
            "718056588.8\n",
            "Calculating validation results...\n",
            "val\n",
            "loss: 7.1805659e+08 || \n",
            "======================================================\n",
            "epoch : 3\n",
            "train\n",
            "718056588.8\n",
            "Calculating validation results...\n",
            "val\n",
            "loss: 7.1805659e+08 || \n",
            "======================================================\n",
            "epoch : 4\n",
            "train\n",
            "718056588.8\n",
            "Calculating validation results...\n",
            "val\n",
            "loss: 7.1805659e+08 || \n",
            "======================================================\n"
          ]
        }
      ],
      "source": [
        "## 학습하는 코드를 짜봐!!!\n",
        "\n",
        "train_dataset = windowDataset(df)\n",
        "train_loader = DataLoader(train_dataset, batch_size=2, drop_last=True)\n",
        "val_dataset = windowDataset(df)\n",
        "val_loader = DataLoader(val_dataset, batch_size=2, drop_last=True)\n",
        "test_dataset = windowDataset(df)\n",
        "test_loader = DataLoader(test_dataset, batch_size=2, drop_last=True)\n",
        "\n",
        "\n",
        "train_n = len(train_loader)\n",
        "val_n = len(val_loader)\n",
        "\n",
        "# print(train_loader)\n",
        "best_val_loss = np.inf\n",
        "\n",
        "for epoch in range(num_epochs):\n",
        "    print('epoch : {}'.format(epoch))\n",
        "    running_loss = 0.0\n",
        "    num = 0\n",
        "    print(\"train\")\n",
        "    model.train()\n",
        "    for inputs, labels in train_loader:  # dataloader 함수에 def __len__에 return 값만큼 반복함\n",
        "        inputs = inputs.to(device)\n",
        "        labels = labels.to(device)\n",
        "        out = model(inputs)\n",
        "        loss = criterion(out, labels)\n",
        "\n",
        "        optimizer.zero_grad() #\n",
        "        loss.backward() # loss가 최소가 되게하는\n",
        "        optimizer.step() # 어떤 방법으로 learning rate를 움직일거이냐\n",
        "        running_loss += loss.item() # 한 배치의 loss 더해주고,\n",
        "\n",
        "\n",
        "    print(running_loss/train_n)\n",
        "\n",
        "    with torch.no_grad():\n",
        "              print(\"Calculating validation results...\")\n",
        "              model.eval()\n",
        "              val_loss = 0\n",
        "              for inputs, labels in val_loader:\n",
        "                  inputs = inputs.to(device)\n",
        "                  labels = labels.to(device)\n",
        "\n",
        "                  outs = model(inputs)\n",
        "\n",
        "                  loss= criterion(outs, labels)\n",
        "                  val_loss += loss.item()\n",
        "\n",
        "\n",
        "\n",
        "              # if val_acc > best_val_acc:\n",
        "              #     print(f\"New best model for val accuracy : {val_acc:4.2%}! saving the best model..\")\n",
        "              #     # torch.save(model.module.state_dict(), f\"{save_dir}/best.pth\")\n",
        "              #     best_val_acc = val_acc\n",
        "              # torch.save(model.module.state_dict(), f\"{save_dir}/last.pth\")\n",
        "              print(\"val\")\n",
        "              print(\n",
        "                  f\"loss: {val_loss/val_n:4.8} || \"\n",
        "              )\n",
        "    print('======================================================')\n",
        "\n"
      ]
    },
    {
      "cell_type": "code",
      "execution_count": null,
      "metadata": {
        "id": "LH9SiQRzemU_"
      },
      "outputs": [],
      "source": []
    }
  ],
  "metadata": {
    "colab": {
      "provenance": []
    },
    "kernelspec": {
      "display_name": "Python 3",
      "name": "python3"
    },
    "language_info": {
      "name": "python"
    }
  },
  "nbformat": 4,
  "nbformat_minor": 0
}
