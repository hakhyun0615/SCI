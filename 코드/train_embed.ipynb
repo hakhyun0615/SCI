{
 "cells": [
  {
   "cell_type": "code",
   "execution_count": 1,
   "metadata": {},
   "outputs": [],
   "source": [
    "import numpy as np\n",
    "import pandas as pd\n",
    "import torch\n",
    "\n",
    "import torch.nn as nn\n",
    "from torch.utils.data import DataLoader\n",
    "\n",
    "from Dataset.emb_auto import AutoDataset\n",
    "from Model.AE import Auto\n",
    "\n",
    "import utils\n",
    "\n",
    "import matplotlib.pyplot as plt"
   ]
  },
  {
   "cell_type": "code",
   "execution_count": 2,
   "metadata": {},
   "outputs": [],
   "source": [
    "# 데이터 다운 & 전처리\n",
    "\n",
    "df = pd.read_excel('../데이터/더미데이터.xlsx')\n",
    "\n",
    "try: del df['Unnamed: 0']\n",
    "except: pass"
   ]
  },
  {
   "cell_type": "code",
   "execution_count": 3,
   "metadata": {},
   "outputs": [],
   "source": [
    "df[0] = df[0].apply(utils.to_list)\n",
    "df[1] = df[1].apply(utils.to_list)"
   ]
  },
  {
   "cell_type": "code",
   "execution_count": 4,
   "metadata": {},
   "outputs": [
    {
     "name": "stderr",
     "output_type": "stream",
     "text": [
      "c:\\Users\\hkyoo\\OneDrive\\바탕 화면\\SCI\\코드\\Dataset\\emb_auto.py:16: UserWarning: Creating a tensor from a list of numpy.ndarrays is extremely slow. Please consider converting the list to a single numpy.ndarray with numpy.array() before converting to a tensor. (Triggered internally at ..\\torch\\csrc\\utils\\tensor_new.cpp:248.)\n",
      "  self.x = torch.FloatTensor(X)\n"
     ]
    }
   ],
   "source": [
    "len_df = len(df)\n",
    "train_len = int(len_df *0.6)\n",
    "val_len = int(len_df * 0.3)\n",
    "\n",
    "batch_size = 64\n",
    "\n",
    "train_dataset = AutoDataset(df[:train_len])\n",
    "train_loader = DataLoader(train_dataset, batch_size=batch_size)\n",
    "\n",
    "val_dataset = AutoDataset(df[train_len:train_len+val_len])\n",
    "val_loader = DataLoader(val_dataset, batch_size=batch_size)\n",
    "\n",
    "test_dataset = AutoDataset(df[train_len+val_len:])\n",
    "test_loader = DataLoader(test_dataset, batch_size=batch_size)"
   ]
  },
  {
   "cell_type": "code",
   "execution_count": 5,
   "metadata": {},
   "outputs": [
    {
     "name": "stdout",
     "output_type": "stream",
     "text": [
      "X 크기 : torch.Size([12, 7])\n",
      "Y 크기 : torch.Size([12, 7])\n"
     ]
    }
   ],
   "source": [
    "for x,y in train_loader:\n",
    "  print(\"X 크기 : {}\".format(x.shape))\n",
    "  print(\"Y 크기 : {}\".format(y.shape))\n",
    "  break"
   ]
  },
  {
   "cell_type": "code",
   "execution_count": 6,
   "metadata": {},
   "outputs": [],
   "source": [
    "input_size = 7\n",
    "Model = Auto(input_size)"
   ]
  },
  {
   "cell_type": "code",
   "execution_count": 7,
   "metadata": {},
   "outputs": [
    {
     "name": "stdout",
     "output_type": "stream",
     "text": [
      "cpu is available\n",
      "작동하는지 실험\n"
     ]
    },
    {
     "data": {
      "text/plain": [
       "(tensor([[0.1095, 0.0000, 0.0000, 0.0000, 0.0000, 0.0694, 0.0204, 0.0364, 0.0193,\n",
       "          0.0027, 0.0182, 0.0000, 0.0000, 0.1846, 0.1365, 0.3248, 0.1272, 0.0000,\n",
       "          0.0000, 0.0000, 0.0000, 0.0105, 0.1987, 0.0000, 0.0000, 0.0000, 0.3260,\n",
       "          0.0262, 0.0000, 0.2100, 0.0000, 0.0000, 0.0676, 0.1857, 0.0000, 0.0214,\n",
       "          0.0338, 0.0483, 0.0000, 0.0000, 0.0074, 0.3087, 0.0490, 0.0000, 0.0936,\n",
       "          0.0000, 0.0000, 0.0000, 0.0000, 0.0000, 0.0000, 0.0862, 0.0098, 0.1497,\n",
       "          0.0459, 0.0000, 0.0714, 0.1472, 0.0090, 0.0000, 0.1057, 0.0244, 0.0454,\n",
       "          0.0000, 0.0088, 0.0653, 0.0000, 0.0570, 0.0647, 0.0000, 0.0000, 0.0980,\n",
       "          0.0000, 0.0281, 0.0000, 0.0000, 0.0308, 0.0000, 0.0000, 0.0000, 0.0000,\n",
       "          0.0565, 0.0000, 0.0262, 0.0000, 0.0000, 0.0000, 0.0000, 0.0000, 0.0064,\n",
       "          0.0021, 0.1715, 0.0000, 0.0000, 0.1324, 0.1727, 0.0424, 0.2357, 0.0000,\n",
       "          0.0000, 0.0887, 0.0244, 0.0345, 0.2940, 0.1133, 0.0000, 0.0000, 0.0000,\n",
       "          0.0000, 0.0000, 0.1220, 0.1360, 0.0390, 0.0000, 0.2088, 0.0329, 0.1497,\n",
       "          0.1002, 0.0000, 0.0000, 0.0634, 0.1683, 0.0000, 0.0177, 0.0575, 0.1130,\n",
       "          0.0000, 0.0805, 0.0645, 0.0000, 0.0155, 0.1147, 0.0000, 0.0463, 0.0000,\n",
       "          0.1456, 0.0000, 0.0377, 0.0503, 0.1671, 0.2360, 0.2684, 0.0000, 0.1244,\n",
       "          0.0182, 0.0319, 0.1376, 0.0320, 0.0000, 0.1256, 0.0000, 0.2859, 0.1014,\n",
       "          0.0518, 0.0939, 0.0000, 0.0000, 0.0207, 0.0151, 0.0000, 0.0199, 0.1031,\n",
       "          0.0000, 0.0000, 0.1257, 0.1123, 0.0000, 0.0120, 0.0000, 0.1250, 0.0448,\n",
       "          0.0000, 0.0635, 0.0000, 0.0000, 0.0026, 0.0000, 0.0000, 0.0000, 0.0338,\n",
       "          0.0000, 0.0000, 0.0000, 0.0000, 0.0000, 0.0442, 0.0000, 0.0000, 0.0058,\n",
       "          0.2406, 0.0000, 0.0000, 0.0000, 0.1142, 0.1250, 0.0118, 0.0000, 0.0000,\n",
       "          0.0000, 0.1444, 0.0000, 0.0000, 0.1834, 0.2208, 0.0000, 0.1516, 0.0000,\n",
       "          0.0396, 0.0263, 0.0000, 0.0000, 0.0851, 0.0000, 0.0563, 0.1655, 0.0000,\n",
       "          0.0078, 0.0000, 0.0000, 0.0654, 0.0000, 0.0000, 0.0000, 0.0000, 0.0000,\n",
       "          0.2768, 0.1923, 0.0446, 0.0000, 0.0000, 0.0000, 0.0834, 0.0000, 0.0153,\n",
       "          0.0000, 0.0000, 0.0485, 0.0139, 0.0000, 0.1027, 0.0195, 0.0000, 0.0000,\n",
       "          0.0644, 0.0000, 0.1383, 0.1141, 0.0000, 0.0681, 0.0000, 0.0000, 0.0000,\n",
       "          0.1404, 0.0113, 0.0000, 0.0237]], grad_fn=<ReluBackward0>),\n",
       " tensor([[0.5015, 0.4620, 0.4848, 0.4726, 0.4539, 0.5085, 0.4842]],\n",
       "        grad_fn=<SigmoidBackward0>))"
      ]
     },
     "execution_count": 7,
     "metadata": {},
     "output_type": "execute_result"
    }
   ],
   "source": [
    "# 데이터 & 모델에 device 붙임!!!\n",
    "device = torch.device('cuda:0' if torch.cuda.is_available() else 'cpu')\n",
    "print(f'{device} is available')\n",
    "\n",
    "model = Model.to(device)\n",
    "\n",
    "print('작동하는지 실험')\n",
    "basic_data = torch.rand((1,input_size))\n",
    "model(basic_data)\n"
   ]
  },
  {
   "cell_type": "code",
   "execution_count": 8,
   "metadata": {},
   "outputs": [],
   "source": [
    "criterion = nn.MSELoss()\n",
    "\n",
    "lr = 1e-3\n",
    "num_epochs = 1\n",
    "optimizer = torch.optim.Adam(model.parameters(), lr=lr)"
   ]
  },
  {
   "cell_type": "code",
   "execution_count": 9,
   "metadata": {},
   "outputs": [
    {
     "name": "stdout",
     "output_type": "stream",
     "text": [
      "epoch : 0\n",
      "train\n",
      "670541568.0\n",
      "Calculating validation results...\n",
      "val\n",
      "loss: 7.8448179e+08 || \n",
      "======================================================\n"
     ]
    }
   ],
   "source": [
    "## 학습하는 코드를 짜봐!!!\n",
    "\n",
    "train_n = len(train_loader)\n",
    "val_n = len(val_loader)\n",
    "\n",
    "# print(train_loader)\n",
    "best_val_loss = np.inf\n",
    "\n",
    "for epoch in range(num_epochs):\n",
    "    print('epoch : {}'.format(epoch))\n",
    "    running_loss = 0.0\n",
    "    num = 0\n",
    "    print(\"train\")\n",
    "    model.train()\n",
    "    for inputs, labels in train_loader:  # dataloader 함수에 def __len__에 return 값만큼 반복함\n",
    "        inputs = inputs.to(device)\n",
    "        labels = labels.to(device)\n",
    "        vec, out = model(inputs)\n",
    "        loss = criterion(out, labels)\n",
    "\n",
    "        optimizer.zero_grad() #\n",
    "        loss.backward() # loss가 최소가 되게하는\n",
    "        optimizer.step() # 어떤 방법으로 learning rate를 움직일거이냐\n",
    "        running_loss += loss.item() # 한 배치의 loss 더해주고,\n",
    "\n",
    "\n",
    "    print(running_loss/train_n)\n",
    "\n",
    "    with torch.no_grad():\n",
    "              print(\"Calculating validation results...\")\n",
    "              model.eval()\n",
    "              val_loss = 0\n",
    "              for inputs, labels in val_loader:\n",
    "                  inputs = inputs.to(device)\n",
    "                  labels = labels.to(device)\n",
    "\n",
    "                  vec, outs = model(inputs)\n",
    "\n",
    "                  loss= criterion(outs, labels)\n",
    "                  val_loss += loss.item()\n",
    "\n",
    "\n",
    "\n",
    "              # if val_acc > best_val_acc:\n",
    "              #     print(f\"New best model for val accuracy : {val_acc:4.2%}! saving the best model..\")\n",
    "              #     # torch.save(model.module.state_dict(), f\"{save_dir}/best.pth\")\n",
    "              #     best_val_acc = val_acc\n",
    "              # torch.save(model.module.state_dict(), f\"{save_dir}/last.pth\")\n",
    "              print(\"val\")\n",
    "              print(\n",
    "                  f\"loss: {val_loss/val_n:4.8} || \"\n",
    "              )\n",
    "    print('======================================================')\n",
    "\n"
   ]
  },
  {
   "cell_type": "code",
   "execution_count": null,
   "metadata": {},
   "outputs": [],
   "source": []
  },
  {
   "cell_type": "code",
   "execution_count": null,
   "metadata": {},
   "outputs": [],
   "source": []
  },
  {
   "cell_type": "markdown",
   "metadata": {},
   "source": [
    "### 더미데이터 생성"
   ]
  },
  {
   "cell_type": "code",
   "execution_count": 84,
   "metadata": {},
   "outputs": [],
   "source": [
    "data = []\n",
    "model = model.requires_grad_(False)\n",
    "for i, (x,_) in enumerate(test_dataset):\n",
    "    data.append(str(model(x)[0].tolist()))\n",
    "    if i==100:\n",
    "        break"
   ]
  },
  {
   "cell_type": "code",
   "execution_count": 87,
   "metadata": {},
   "outputs": [],
   "source": [
    "pd.DataFrame(data).to_excel('../데이터/인베딩더미.xlsx')"
   ]
  },
  {
   "cell_type": "code",
   "execution_count": null,
   "metadata": {},
   "outputs": [],
   "source": []
  }
 ],
 "metadata": {
  "kernelspec": {
   "display_name": "Python 3",
   "language": "python",
   "name": "python3"
  },
  "language_info": {
   "codemirror_mode": {
    "name": "ipython",
    "version": 3
   },
   "file_extension": ".py",
   "mimetype": "text/x-python",
   "name": "python",
   "nbconvert_exporter": "python",
   "pygments_lexer": "ipython3",
   "version": "3.11.4"
  },
  "orig_nbformat": 4
 },
 "nbformat": 4,
 "nbformat_minor": 2
}
