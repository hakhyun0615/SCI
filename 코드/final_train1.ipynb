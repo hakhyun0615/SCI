{
 "cells": [
  {
   "cell_type": "code",
   "execution_count": 1,
   "metadata": {},
   "outputs": [],
   "source": [
    "import pandas as pd\n",
    "import numpy as np\n",
    "from Dataset.WindowDataset import WindowDataset\n",
    "from torch.utils.data import DataLoader"
   ]
  },
  {
   "cell_type": "code",
   "execution_count": 2,
   "metadata": {},
   "outputs": [],
   "source": [
    "eco = '콜금리'\n",
    "batch_size = 4\n",
    "max_apart_size = 7  # 0~60평 아파트만 돌림"
   ]
  },
  {
   "cell_type": "code",
   "execution_count": 3,
   "metadata": {},
   "outputs": [],
   "source": [
    "def make_estimate(x):\n",
    "    vec = np.zeros((max_apart_size))\n",
    "    vec[int(x[0]//10)] = x[1]\n",
    "    return vec"
   ]
  },
  {
   "cell_type": "code",
   "execution_count": 4,
   "metadata": {},
   "outputs": [],
   "source": [
    "df = pd.read_csv('../데이터/merge.csv')\n",
    "df['시점'] = df['계약년월'] + df['계약일']\n",
    "df = df[:100] # //////////////////////////////\n",
    "df['시점'].apply(lambda x : int(x))\n",
    "df['평수'] = df['전용면적(㎡)'].apply(lambda x : x // 3.3058)//10*10\n",
    "df['가격'] = df['거래금액(만원)'].apply(lambda x : int(x.replace(',','')))\n",
    "df = df.sort_values(by=['시점'])\n",
    "df['부동산'] = df[['평수','가격']].apply(make_estimate,axis=1)\n",
    "df.reset_index(drop=True)\n",
    "df['경제'] = df[eco]\n",
    "df = df[['시점','부동산','경제']]"
   ]
  },
  {
   "cell_type": "code",
   "execution_count": 5,
   "metadata": {},
   "outputs": [
    {
     "name": "stderr",
     "output_type": "stream",
     "text": [
      "c:\\Users\\hkyoo\\OneDrive\\바탕 화면\\SCI\\코드\\Dataset\\WindowDataset.py:16: UserWarning: Creating a tensor from a list of numpy.ndarrays is extremely slow. Please consider converting the list to a single numpy.ndarray with numpy.array() before converting to a tensor. (Triggered internally at ..\\torch\\csrc\\utils\\tensor_new.cpp:248.)\n",
      "  self.x1 = torch.FloatTensor(X1)\n"
     ]
    }
   ],
   "source": [
    "len_df = len(df)\n",
    "train_len = int(len_df *0.6)\n",
    "val_len = int(len_df * 0.3)\n",
    "\n",
    "batch_size = 2\n",
    "\n",
    "train_dataset = WindowDataset(df[:train_len])\n",
    "train_loader = DataLoader(train_dataset, batch_size=batch_size)\n",
    "\n",
    "val_dataset = WindowDataset(df[train_len:train_len+val_len])\n",
    "val_loader = DataLoader(val_dataset, batch_size=batch_size)\n",
    "\n",
    "test_dataset = WindowDataset(df[train_len+val_len:])\n",
    "test_loader = DataLoader(test_dataset, batch_size=batch_size)"
   ]
  },
  {
   "cell_type": "code",
   "execution_count": 6,
   "metadata": {},
   "outputs": [
    {
     "name": "stdout",
     "output_type": "stream",
     "text": [
      "tensor([[[2.0060e+05, 3.9200e+00],\n",
      "         [2.0060e+05, 3.7400e+00],\n",
      "         [2.0060e+05, 3.7400e+00],\n",
      "         [2.0060e+05, 3.7400e+00],\n",
      "         [2.0060e+05, 3.7400e+00]],\n",
      "\n",
      "        [[2.0060e+05, 3.7400e+00],\n",
      "         [2.0060e+05, 3.7400e+00],\n",
      "         [2.0060e+05, 3.7400e+00],\n",
      "         [2.0060e+05, 3.7400e+00],\n",
      "         [2.0060e+05, 3.7400e+00]]])\n"
     ]
    }
   ],
   "source": [
    "for x1,x2,y1,y2 in train_loader:\n",
    "    print(x1)\n",
    "    break"
   ]
  },
  {
   "cell_type": "code",
   "execution_count": null,
   "metadata": {},
   "outputs": [],
   "source": []
  }
 ],
 "metadata": {
  "kernelspec": {
   "display_name": "Python 3",
   "language": "python",
   "name": "python3"
  },
  "language_info": {
   "codemirror_mode": {
    "name": "ipython",
    "version": 3
   },
   "file_extension": ".py",
   "mimetype": "text/x-python",
   "name": "python",
   "nbconvert_exporter": "python",
   "pygments_lexer": "ipython3",
   "version": "3.11.4"
  },
  "orig_nbformat": 4
 },
 "nbformat": 4,
 "nbformat_minor": 2
}
