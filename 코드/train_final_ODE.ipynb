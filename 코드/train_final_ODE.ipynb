{
 "cells": [
  {
   "cell_type": "code",
   "execution_count": 2,
   "metadata": {},
   "outputs": [],
   "source": [
    "import numpy as np\n",
    "import pandas as pd\n",
    "import torch\n",
    "\n",
    "import torch.nn as nn\n",
    "from torch.utils.data import DataLoader, Dataset\n",
    "\n",
    "from Dataset.Economy_Dataset import Economy_Dataset\n",
    "from Dataset.NODE_Transformer_Dataset import NODE_Transformer_Dataset\n",
    "\n",
    "from Model.SelfAttention import Self_attention, Attention_LSTM\n",
    "from Model.LSTM import LSTM\n",
    "\n",
    "import matplotlib.pyplot as plt"
   ]
  },
  {
   "cell_type": "code",
   "execution_count": 3,
   "metadata": {},
   "outputs": [],
   "source": [
    "# 데이터 다운 & 전처리\n",
    "\n",
    "transaction_df = pd.read_excel('../데이터/transaction/transaction_final.xlsx',index_col=0)\n",
    "economy_df = pd.read_excel('../데이터/economy/economy_all.xlsx')['국고채금리']"
   ]
  },
  {
   "cell_type": "code",
   "execution_count": 4,
   "metadata": {},
   "outputs": [],
   "source": [
    "# len_df = len(transaction_df)\n",
    "# train_len = int(len_df *0.7)\n",
    "# val_len = int(len_df * 0.3)\n",
    "\n",
    "batch_size = 4\n",
    "train_dataset = NODE_Transformer_Dataset(transaction_df, economy_df)\n",
    "train_loader = DataLoader(train_dataset, batch_size=batch_size)\n",
    "# val_dataset = RNN_Transformer_Dataset(df[train_len:train_len+val_len])\n",
    "# val_loader = DataLoader(val_dataset, batch_size=batch_size)"
   ]
  },
  {
   "cell_type": "code",
   "execution_count": 5,
   "metadata": {},
   "outputs": [
    {
     "name": "stdout",
     "output_type": "stream",
     "text": [
      "X 크기 : torch.Size([4, 158, 5])\n",
      "Y 크기 : torch.Size([4, 158, 5])\n",
      "Z 크기 : torch.Size([4, 158, 1])\n",
      "W 크기 : torch.Size([4, 158, 1])\n"
     ]
    }
   ],
   "source": [
    "for x,y,z,w in train_loader:\n",
    "  print(\"X 크기 : {}\".format(x.shape))\n",
    "  print(\"Y 크기 : {}\".format(y.shape))\n",
    "  print(\"Z 크기 : {}\".format(z.shape))\n",
    "  print(\"W 크기 : {}\".format(w.shape))\n",
    "  break"
   ]
  },
  {
   "cell_type": "code",
   "execution_count": 11,
   "metadata": {},
   "outputs": [],
   "source": [
    "max_size = 158\n",
    "window_size = 5\n",
    "hidden_size =256"
   ]
  },
  {
   "cell_type": "code",
   "execution_count": 12,
   "metadata": {},
   "outputs": [
    {
     "name": "stdout",
     "output_type": "stream",
     "text": [
      "cpu is available\n"
     ]
    },
    {
     "data": {
      "text/plain": [
       "torch.Size([4, 158, 1])"
      ]
     },
     "execution_count": 12,
     "metadata": {},
     "output_type": "execute_result"
    }
   ],
   "source": [
    "# gpu 연결\n",
    "device = torch.device('cuda:0' if torch.cuda.is_available() else 'cpu')\n",
    "print(f'{device} is available')\n",
    "\n",
    "# checkpoint 받기\n",
    "eco_lstm = LSTM(window_size,256).to(device)\n",
    "eco_lstm.load_state_dict(torch.load(\"../데이터/checkpoint/best_rnn_economy_model.pth\"))\n",
    "\n",
    "tran_lstm = LSTM(window_size,256).to(device)\n",
    "tran_lstm.load_state_dict(torch.load(\"../데이터/checkpoint/best_rnn_transaction_model.pth\"))\n",
    "\n",
    "model = Self_attention(max_size, hidden_size, 1).to(device)\n",
    "\n",
    "dummy = torch.rand((batch_size,max_size,hidden_size)).to(device)\n",
    "model(dummy).shape"
   ]
  },
  {
   "cell_type": "code",
   "execution_count": 13,
   "metadata": {},
   "outputs": [],
   "source": [
    "criterion = nn.MSELoss()\n",
    "\n",
    "lr = 1e-3\n",
    "num_epochs = 100\n",
    "optimizer = torch.optim.Adam(model.parameters(), lr=lr)"
   ]
  },
  {
   "cell_type": "code",
   "execution_count": null,
   "metadata": {},
   "outputs": [],
   "source": [
    "iszero_vector = torch.ones((batch_size,max_len)).to(device)\n",
    "        for i in range(batch_size):\n",
    "            for j in range(max_len):\n",
    "                if tran_inputs[i][j][0] == 0 or tran_inputs[i][j][-1] == 0:\n",
    "                    iszero_vector[i][j] = 0"
   ]
  },
  {
   "cell_type": "code",
   "execution_count": null,
   "metadata": {},
   "outputs": [],
   "source": []
  },
  {
   "cell_type": "markdown",
   "metadata": {},
   "source": [
    "### 학습하기"
   ]
  },
  {
   "cell_type": "code",
   "execution_count": 18,
   "metadata": {},
   "outputs": [
    {
     "name": "stdout",
     "output_type": "stream",
     "text": [
      "epoch : 0\n",
      "train\n",
      "0.0\n",
      "======================================================\n",
      "epoch : 1\n",
      "train\n",
      "0.0\n",
      "======================================================\n",
      "epoch : 2\n",
      "train\n",
      "0.0\n",
      "======================================================\n",
      "epoch : 3\n",
      "train\n",
      "0.0\n",
      "======================================================\n",
      "epoch : 4\n",
      "train\n",
      "0.0\n",
      "======================================================\n",
      "epoch : 5\n",
      "train\n",
      "0.0\n",
      "======================================================\n",
      "epoch : 6\n",
      "train\n",
      "0.0\n",
      "======================================================\n",
      "epoch : 7\n",
      "train\n",
      "0.0\n",
      "======================================================\n",
      "epoch : 8\n",
      "train\n"
     ]
    },
    {
     "ename": "KeyboardInterrupt",
     "evalue": "",
     "output_type": "error",
     "traceback": [
      "\u001b[1;31m---------------------------------------------------------------------------\u001b[0m",
      "\u001b[1;31mKeyboardInterrupt\u001b[0m                         Traceback (most recent call last)",
      "Cell \u001b[1;32mIn[18], line 29\u001b[0m\n\u001b[0;32m     27\u001b[0m tran_tensor \u001b[39m=\u001b[39m torch\u001b[39m.\u001b[39mzeros((batch_size,max_len,hidden_size))\u001b[39m.\u001b[39mto(device)\n\u001b[0;32m     28\u001b[0m \u001b[39mfor\u001b[39;00m i \u001b[39min\u001b[39;00m \u001b[39mrange\u001b[39m(max_len):\n\u001b[1;32m---> 29\u001b[0m     tran_tensor[:,i,:] \u001b[39m=\u001b[39m tran_lstm(tran_inputs)[\u001b[39m1\u001b[39m][\u001b[39m0\u001b[39m]\u001b[39m.\u001b[39msqueeze()\n\u001b[0;32m     31\u001b[0m emb_vecor \u001b[39m=\u001b[39m tran_tensor \u001b[39m+\u001b[39m eco_tensor\n\u001b[0;32m     33\u001b[0m \u001b[39m# 부동산 데이터가 0인 행은 embedding_vector도 0으로 전환  \u001b[39;00m\n",
      "File \u001b[1;32mc:\\Users\\hkyoo\\AppData\\Local\\Programs\\Python\\Python311\\Lib\\site-packages\\torch\\nn\\modules\\module.py:1501\u001b[0m, in \u001b[0;36mModule._call_impl\u001b[1;34m(self, *args, **kwargs)\u001b[0m\n\u001b[0;32m   1496\u001b[0m \u001b[39m# If we don't have any hooks, we want to skip the rest of the logic in\u001b[39;00m\n\u001b[0;32m   1497\u001b[0m \u001b[39m# this function, and just call forward.\u001b[39;00m\n\u001b[0;32m   1498\u001b[0m \u001b[39mif\u001b[39;00m \u001b[39mnot\u001b[39;00m (\u001b[39mself\u001b[39m\u001b[39m.\u001b[39m_backward_hooks \u001b[39mor\u001b[39;00m \u001b[39mself\u001b[39m\u001b[39m.\u001b[39m_backward_pre_hooks \u001b[39mor\u001b[39;00m \u001b[39mself\u001b[39m\u001b[39m.\u001b[39m_forward_hooks \u001b[39mor\u001b[39;00m \u001b[39mself\u001b[39m\u001b[39m.\u001b[39m_forward_pre_hooks\n\u001b[0;32m   1499\u001b[0m         \u001b[39mor\u001b[39;00m _global_backward_pre_hooks \u001b[39mor\u001b[39;00m _global_backward_hooks\n\u001b[0;32m   1500\u001b[0m         \u001b[39mor\u001b[39;00m _global_forward_hooks \u001b[39mor\u001b[39;00m _global_forward_pre_hooks):\n\u001b[1;32m-> 1501\u001b[0m     \u001b[39mreturn\u001b[39;00m forward_call(\u001b[39m*\u001b[39;49margs, \u001b[39m*\u001b[39;49m\u001b[39m*\u001b[39;49mkwargs)\n\u001b[0;32m   1502\u001b[0m \u001b[39m# Do not call functions when jit is used\u001b[39;00m\n\u001b[0;32m   1503\u001b[0m full_backward_hooks, non_full_backward_hooks \u001b[39m=\u001b[39m [], []\n",
      "File \u001b[1;32mc:\\Users\\hkyoo\\OneDrive\\바탕 화면\\SCI\\코드\\Model\\LSTM.py:11\u001b[0m, in \u001b[0;36mLSTM.forward\u001b[1;34m(self, x)\u001b[0m\n\u001b[0;32m     10\u001b[0m \u001b[39mdef\u001b[39;00m \u001b[39mforward\u001b[39m(\u001b[39mself\u001b[39m, x):\n\u001b[1;32m---> 11\u001b[0m     out, hidden \u001b[39m=\u001b[39m \u001b[39mself\u001b[39;49m\u001b[39m.\u001b[39;49mlstm(x)\n\u001b[0;32m     12\u001b[0m     out \u001b[39m=\u001b[39m \u001b[39mself\u001b[39m\u001b[39m.\u001b[39mfc(out)\n\u001b[0;32m     13\u001b[0m     \u001b[39mreturn\u001b[39;00m out, hidden\n",
      "File \u001b[1;32mc:\\Users\\hkyoo\\AppData\\Local\\Programs\\Python\\Python311\\Lib\\site-packages\\torch\\nn\\modules\\module.py:1501\u001b[0m, in \u001b[0;36mModule._call_impl\u001b[1;34m(self, *args, **kwargs)\u001b[0m\n\u001b[0;32m   1496\u001b[0m \u001b[39m# If we don't have any hooks, we want to skip the rest of the logic in\u001b[39;00m\n\u001b[0;32m   1497\u001b[0m \u001b[39m# this function, and just call forward.\u001b[39;00m\n\u001b[0;32m   1498\u001b[0m \u001b[39mif\u001b[39;00m \u001b[39mnot\u001b[39;00m (\u001b[39mself\u001b[39m\u001b[39m.\u001b[39m_backward_hooks \u001b[39mor\u001b[39;00m \u001b[39mself\u001b[39m\u001b[39m.\u001b[39m_backward_pre_hooks \u001b[39mor\u001b[39;00m \u001b[39mself\u001b[39m\u001b[39m.\u001b[39m_forward_hooks \u001b[39mor\u001b[39;00m \u001b[39mself\u001b[39m\u001b[39m.\u001b[39m_forward_pre_hooks\n\u001b[0;32m   1499\u001b[0m         \u001b[39mor\u001b[39;00m _global_backward_pre_hooks \u001b[39mor\u001b[39;00m _global_backward_hooks\n\u001b[0;32m   1500\u001b[0m         \u001b[39mor\u001b[39;00m _global_forward_hooks \u001b[39mor\u001b[39;00m _global_forward_pre_hooks):\n\u001b[1;32m-> 1501\u001b[0m     \u001b[39mreturn\u001b[39;00m forward_call(\u001b[39m*\u001b[39;49margs, \u001b[39m*\u001b[39;49m\u001b[39m*\u001b[39;49mkwargs)\n\u001b[0;32m   1502\u001b[0m \u001b[39m# Do not call functions when jit is used\u001b[39;00m\n\u001b[0;32m   1503\u001b[0m full_backward_hooks, non_full_backward_hooks \u001b[39m=\u001b[39m [], []\n",
      "File \u001b[1;32mc:\\Users\\hkyoo\\AppData\\Local\\Programs\\Python\\Python311\\Lib\\site-packages\\torch\\nn\\modules\\rnn.py:812\u001b[0m, in \u001b[0;36mLSTM.forward\u001b[1;34m(self, input, hx)\u001b[0m\n\u001b[0;32m    810\u001b[0m \u001b[39mself\u001b[39m\u001b[39m.\u001b[39mcheck_forward_args(\u001b[39minput\u001b[39m, hx, batch_sizes)\n\u001b[0;32m    811\u001b[0m \u001b[39mif\u001b[39;00m batch_sizes \u001b[39mis\u001b[39;00m \u001b[39mNone\u001b[39;00m:\n\u001b[1;32m--> 812\u001b[0m     result \u001b[39m=\u001b[39m _VF\u001b[39m.\u001b[39;49mlstm(\u001b[39minput\u001b[39;49m, hx, \u001b[39mself\u001b[39;49m\u001b[39m.\u001b[39;49m_flat_weights, \u001b[39mself\u001b[39;49m\u001b[39m.\u001b[39;49mbias, \u001b[39mself\u001b[39;49m\u001b[39m.\u001b[39;49mnum_layers,\n\u001b[0;32m    813\u001b[0m                       \u001b[39mself\u001b[39;49m\u001b[39m.\u001b[39;49mdropout, \u001b[39mself\u001b[39;49m\u001b[39m.\u001b[39;49mtraining, \u001b[39mself\u001b[39;49m\u001b[39m.\u001b[39;49mbidirectional, \u001b[39mself\u001b[39;49m\u001b[39m.\u001b[39;49mbatch_first)\n\u001b[0;32m    814\u001b[0m \u001b[39melse\u001b[39;00m:\n\u001b[0;32m    815\u001b[0m     result \u001b[39m=\u001b[39m _VF\u001b[39m.\u001b[39mlstm(\u001b[39minput\u001b[39m, batch_sizes, hx, \u001b[39mself\u001b[39m\u001b[39m.\u001b[39m_flat_weights, \u001b[39mself\u001b[39m\u001b[39m.\u001b[39mbias,\n\u001b[0;32m    816\u001b[0m                       \u001b[39mself\u001b[39m\u001b[39m.\u001b[39mnum_layers, \u001b[39mself\u001b[39m\u001b[39m.\u001b[39mdropout, \u001b[39mself\u001b[39m\u001b[39m.\u001b[39mtraining, \u001b[39mself\u001b[39m\u001b[39m.\u001b[39mbidirectional)\n",
      "\u001b[1;31mKeyboardInterrupt\u001b[0m: "
     ]
    }
   ],
   "source": [
    "train_n = len(train_dataset)\n",
    "# val_n = len(val_dataset)\n",
    "\n",
    "# val_loss_list = []\n",
    "best_train_loss = float('inf')\n",
    "stop_counter = 0\n",
    "stop_criteria = 3\n",
    "max_len = max_size\n",
    "\n",
    "for epoch in range(num_epochs):\n",
    "    print('epoch : {}'.format(epoch))\n",
    "    running_loss = 0.0\n",
    "    num = 0\n",
    "    print(\"train\")\n",
    "    model.train()\n",
    "    for tran_inputs, eco_inputs, tran_labels, eco_label in train_loader:  # dataloader 함수에 def __len__에 return 값만큼 반복함\n",
    "        tran_inputs = tran_inputs.to(device) \n",
    "        eco_inputs = eco_inputs.to(device)\n",
    "        tran_labels = tran_labels.to(device)  # batch_size*max_size*1\n",
    "        eco_label = eco_label.to(device) \n",
    "        \n",
    "        # transaction hidden_state + economy hidden_state\n",
    "        # batch 단위로 한번에 더함\n",
    "        # 콜금리 사용\n",
    "        eco_tensor = eco_lstm(eco_inputs)[1][0].squeeze().unsqueeze(1).to(device)   # batch * hidden_state\n",
    "        eco_tensor = eco_tensor.repeat(1,max_len,1)\n",
    "        tran_tensor = torch.zeros((batch_size,max_len,hidden_size)).to(device)\n",
    "        for i in range(max_len):\n",
    "            tran_tensor[:,i,:] = tran_lstm(tran_inputs)[1][0].squeeze()\n",
    "            \n",
    "        emb_vecor = tran_tensor + eco_tensor\n",
    "        \n",
    "        # 부동산 데이터가 0인 행은 embedding_vector도 0으로 전환  \n",
    "        iszero_vector = torch.where(tran_labels.squeeze() == 0, tran_labels.squeeze(), 1.0)\n",
    "           \n",
    "        # 차원에 맞게 변경 후 계산 \n",
    "        emb_vecor = emb_vecor.mul(iszero_vector.unsqueeze(2).repeat(1,1,hidden_size))\n",
    "        \n",
    "        #####################################\n",
    "        # transformer 적용\n",
    "        # loss 값은 부동산 가격이 0이 아닌 것에만 적용해서 학습\n",
    "        out = model(emb_vecor) # batch_size*max_size*1\n",
    "        \n",
    "        # out 값중 필요 없는 값은 0으로 변경\n",
    "        out = out.mul(iszero_vector.unsqueeze(2))   \n",
    "        \n",
    "        labels = tran_labels.mul(iszero_vector.unsqueeze(2))\n",
    "        \n",
    "        # x값이 0이면 y값도 0인 상태!!!에서 아래 진행\n",
    "        loss_all = 0\n",
    "        for i in range(out.shape[1]):\n",
    "            loss = criterion(out[:,i,:], labels[:,i,:])\n",
    "            loss_all += loss\n",
    "        loss_all = loss_all/iszero_vector.sum()   # 평균치만큼 업데이트!!!!!!!!\n",
    "        \n",
    "        mean_loss = loss_all/out.shape[1]\n",
    "        optimizer.zero_grad() #\n",
    "        mean_loss.backward() # loss가 최소가 되게하는\n",
    "        optimizer.step() # 어떤 방법으로 learning rate를 움직일거이냐\n",
    "        running_loss += loss_all.item() # 한 배치의 loss 더해주고,\n",
    "\n",
    "        if mean_loss < best_train_loss:\n",
    "            best_train_loss = mean_loss\n",
    "            torch.save(model.state_dict(), '../데이터/checkpoint/best_rnn_transformer_model.pth')\n",
    "\n",
    "    print(running_loss/train_n)\n",
    "\n",
    "    # with torch.no_grad():\n",
    "    #         print(\"Calculating validation results...\")\n",
    "    #         model.eval()\n",
    "    #         val_loss = 0\n",
    "    #         for inputs, labels in val_loader:\n",
    "    #             price, economy = inputs\n",
    "    #             price = price.to(device) # batch_size*max_size*256  (max_size = 최대 단지 개수)\n",
    "    #             economy = economy.to(device)\n",
    "    #             labels = labels.to(device) # batch_size*max_size*1\n",
    "                \n",
    "    #             # labels 가 0이 아니면 lstm 넣기\n",
    "    #             embed = torch.zeros((batch_size,max_size,hidden_size))\n",
    "    #             for i in range(labels.shape[0]):\n",
    "    #                 for j in range(labels.shape[1]):\n",
    "    #                     if labels[i][j] != 0:\n",
    "    #                         embed[i][j] = lstm_price(price[i][j]) \n",
    "                            \n",
    "    #             outs = model(inputs)\n",
    "\n",
    "    #             loss_all = 0\n",
    "    #             for i in range(out.shape[1]):\n",
    "    #                 loss = criterion(out[:,i,:], labels[:,i,:])\n",
    "    #                 loss_all += loss\n",
    "\n",
    "    #         avg_val_loss = val_loss/val_n/out.shape[1]\n",
    "    #         val_loss_list.append(avg_val_loss)\n",
    "\n",
    "    #         if avg_val_loss < best_val_loss:\n",
    "    #             best_val_loss = avg_val_loss\n",
    "    #             stop_counter = 0            \n",
    "    #             torch.save(model.state_dict(), 'Checkpoint/economic_best_model.pth')\n",
    "    #         else:\n",
    "    #             stop_counter += 1\n",
    "\n",
    "    #         print(\"val\")\n",
    "    #         print(\n",
    "    #             f\"loss: {avg_val_loss:4.8} || \"\n",
    "    #         )\n",
    "\n",
    "    #         if stop_counter >= stop_criteria:\n",
    "    #             print('Early stopping triggered.')\n",
    "    #             break\n",
    "    \n",
    "    print('======================================================')\n",
    "\n",
    "# plt.figure(figsize=(10, 5))\n",
    "# plt.plot(val_loss_list, label='Validation loss')\n",
    "# plt.xlabel('Epochs')\n",
    "# plt.ylabel('Loss')\n",
    "# plt.legend()\n",
    "# plt.show()"
   ]
  },
  {
   "cell_type": "code",
   "execution_count": null,
   "metadata": {},
   "outputs": [],
   "source": []
  }
 ],
 "metadata": {
  "kernelspec": {
   "display_name": "Python 3",
   "language": "python",
   "name": "python3"
  },
  "language_info": {
   "codemirror_mode": {
    "name": "ipython",
    "version": 3
   },
   "file_extension": ".py",
   "mimetype": "text/x-python",
   "name": "python",
   "nbconvert_exporter": "python",
   "pygments_lexer": "ipython3",
   "version": "3.11.4"
  },
  "orig_nbformat": 4
 },
 "nbformat": 4,
 "nbformat_minor": 2
}
