{
 "cells": [
  {
   "cell_type": "code",
   "execution_count": 1,
   "metadata": {},
   "outputs": [],
   "source": [
    "import numpy as np\n",
    "import pandas as pd\n",
    "import torch\n",
    "\n",
    "import torch.nn as nn\n",
    "from torch.utils.data import DataLoader, Dataset\n",
    "\n",
    "from Dataset.Economy_Dataset import Economy_Dataset\n",
    "from Dataset.ODE_Transformer_Dataset import ODE_Transformer_Dataset\n",
    "\n",
    "from Model.SelfAttention import Self_attention, Attention_LSTM\n",
    "from Model.LSTM import LSTM\n",
    "from Model.ODERNN import ODE_RNN\n",
    "\n",
    "from Model.ODE_Attention import ODE_Attention\n",
    "\n",
    "from utils import preprocess"
   ]
  },
  {
   "cell_type": "code",
   "execution_count": 2,
   "metadata": {},
   "outputs": [
    {
     "ename": "KeyError",
     "evalue": "'시군구'",
     "output_type": "error",
     "traceback": [
      "\u001b[1;31m---------------------------------------------------------------------------\u001b[0m",
      "\u001b[1;31mKeyError\u001b[0m                                  Traceback (most recent call last)",
      "File \u001b[1;32mc:\\Users\\hkyoo\\AppData\\Local\\Programs\\Python\\Python311\\Lib\\site-packages\\pandas\\core\\indexes\\base.py:3653\u001b[0m, in \u001b[0;36mIndex.get_loc\u001b[1;34m(self, key)\u001b[0m\n\u001b[0;32m   3652\u001b[0m \u001b[39mtry\u001b[39;00m:\n\u001b[1;32m-> 3653\u001b[0m     \u001b[39mreturn\u001b[39;00m \u001b[39mself\u001b[39;49m\u001b[39m.\u001b[39;49m_engine\u001b[39m.\u001b[39;49mget_loc(casted_key)\n\u001b[0;32m   3654\u001b[0m \u001b[39mexcept\u001b[39;00m \u001b[39mKeyError\u001b[39;00m \u001b[39mas\u001b[39;00m err:\n",
      "File \u001b[1;32mc:\\Users\\hkyoo\\AppData\\Local\\Programs\\Python\\Python311\\Lib\\site-packages\\pandas\\_libs\\index.pyx:147\u001b[0m, in \u001b[0;36mpandas._libs.index.IndexEngine.get_loc\u001b[1;34m()\u001b[0m\n",
      "File \u001b[1;32mc:\\Users\\hkyoo\\AppData\\Local\\Programs\\Python\\Python311\\Lib\\site-packages\\pandas\\_libs\\index.pyx:176\u001b[0m, in \u001b[0;36mpandas._libs.index.IndexEngine.get_loc\u001b[1;34m()\u001b[0m\n",
      "File \u001b[1;32mpandas\\_libs\\hashtable_class_helper.pxi:7080\u001b[0m, in \u001b[0;36mpandas._libs.hashtable.PyObjectHashTable.get_item\u001b[1;34m()\u001b[0m\n",
      "File \u001b[1;32mpandas\\_libs\\hashtable_class_helper.pxi:7088\u001b[0m, in \u001b[0;36mpandas._libs.hashtable.PyObjectHashTable.get_item\u001b[1;34m()\u001b[0m\n",
      "\u001b[1;31mKeyError\u001b[0m: '시군구'",
      "\nThe above exception was the direct cause of the following exception:\n",
      "\u001b[1;31mKeyError\u001b[0m                                  Traceback (most recent call last)",
      "\u001b[1;32mc:\\Users\\hkyoo\\OneDrive\\바탕 화면\\SCI\\코드\\train_final_ODE.ipynb Cell 2\u001b[0m line \u001b[0;36m6\n\u001b[0;32m      <a href='vscode-notebook-cell:/c%3A/Users/hkyoo/OneDrive/%EB%B0%94%ED%83%95%20%ED%99%94%EB%A9%B4/SCI/%EC%BD%94%EB%93%9C/train_final_ODE.ipynb#W1sZmlsZQ%3D%3D?line=2'>3</a>\u001b[0m transaction_df \u001b[39m=\u001b[39m pd\u001b[39m.\u001b[39mread_csv(\u001b[39m'\u001b[39m\u001b[39m../데이터/transaction/transaction_final.csv\u001b[39m\u001b[39m'\u001b[39m,index_col\u001b[39m=\u001b[39m\u001b[39m0\u001b[39m)\n\u001b[0;32m      <a href='vscode-notebook-cell:/c%3A/Users/hkyoo/OneDrive/%EB%B0%94%ED%83%95%20%ED%99%94%EB%A9%B4/SCI/%EC%BD%94%EB%93%9C/train_final_ODE.ipynb#W1sZmlsZQ%3D%3D?line=3'>4</a>\u001b[0m economy_df \u001b[39m=\u001b[39m pd\u001b[39m.\u001b[39mread_excel(\u001b[39m'\u001b[39m\u001b[39m../데이터/economy/economy_all.xlsx\u001b[39m\u001b[39m'\u001b[39m)\n\u001b[1;32m----> <a href='vscode-notebook-cell:/c%3A/Users/hkyoo/OneDrive/%EB%B0%94%ED%83%95%20%ED%99%94%EB%A9%B4/SCI/%EC%BD%94%EB%93%9C/train_final_ODE.ipynb#W1sZmlsZQ%3D%3D?line=5'>6</a>\u001b[0m transaction_df, economy_df \u001b[39m=\u001b[39m preprocess(transaction_df, economy_df, window_size\u001b[39m=\u001b[39;49m\u001b[39m5\u001b[39;49m)\n",
      "File \u001b[1;32mc:\\Users\\hkyoo\\OneDrive\\바탕 화면\\SCI\\코드\\utils.py:13\u001b[0m, in \u001b[0;36mpreprocess\u001b[1;34m(transaction_all, economy_all, window_size)\u001b[0m\n\u001b[0;32m     11\u001b[0m transaction_all[\u001b[39m'\u001b[39m\u001b[39m거래금액(만원)\u001b[39m\u001b[39m'\u001b[39m] \u001b[39m=\u001b[39m transaction_all[\u001b[39m'\u001b[39m\u001b[39m거래금액(만원)\u001b[39m\u001b[39m'\u001b[39m]\u001b[39m.\u001b[39mapply(\u001b[39mlambda\u001b[39;00m x: \u001b[39mint\u001b[39m(x\u001b[39m.\u001b[39mreplace(\u001b[39m'\u001b[39m\u001b[39m,\u001b[39m\u001b[39m'\u001b[39m,\u001b[39m'\u001b[39m\u001b[39m'\u001b[39m)))\n\u001b[0;32m     12\u001b[0m transaction_all[\u001b[39m'\u001b[39m\u001b[39m제곱미터당 거래금액(만원)\u001b[39m\u001b[39m'\u001b[39m] \u001b[39m=\u001b[39m transaction_all[\u001b[39m'\u001b[39m\u001b[39m거래금액(만원)\u001b[39m\u001b[39m'\u001b[39m] \u001b[39m/\u001b[39m transaction_all[\u001b[39m'\u001b[39m\u001b[39m전용면적(㎡)\u001b[39m\u001b[39m'\u001b[39m]\n\u001b[1;32m---> 13\u001b[0m transaction_all[\u001b[39m'\u001b[39m\u001b[39m단지\u001b[39m\u001b[39m'\u001b[39m] \u001b[39m=\u001b[39m transaction_all[\u001b[39m'\u001b[39;49m\u001b[39m시군구\u001b[39;49m\u001b[39m'\u001b[39;49m] \u001b[39m+\u001b[39m \u001b[39m'\u001b[39m\u001b[39m \u001b[39m\u001b[39m'\u001b[39m \u001b[39m+\u001b[39m transaction_all[\u001b[39m'\u001b[39m\u001b[39m단지명\u001b[39m\u001b[39m'\u001b[39m]\n\u001b[0;32m     14\u001b[0m transaction_all \u001b[39m=\u001b[39m transaction_all[[\u001b[39m'\u001b[39m\u001b[39m단지\u001b[39m\u001b[39m'\u001b[39m, \u001b[39m'\u001b[39m\u001b[39m계약년월\u001b[39m\u001b[39m'\u001b[39m, \u001b[39m'\u001b[39m\u001b[39m건축년도\u001b[39m\u001b[39m'\u001b[39m, \u001b[39m'\u001b[39m\u001b[39m제곱미터당 거래금액(만원)\u001b[39m\u001b[39m'\u001b[39m]]\n\u001b[0;32m     16\u001b[0m \u001b[39m# economy_all 전처리\u001b[39;00m\n",
      "File \u001b[1;32mc:\\Users\\hkyoo\\AppData\\Local\\Programs\\Python\\Python311\\Lib\\site-packages\\pandas\\core\\frame.py:3761\u001b[0m, in \u001b[0;36mDataFrame.__getitem__\u001b[1;34m(self, key)\u001b[0m\n\u001b[0;32m   3759\u001b[0m \u001b[39mif\u001b[39;00m \u001b[39mself\u001b[39m\u001b[39m.\u001b[39mcolumns\u001b[39m.\u001b[39mnlevels \u001b[39m>\u001b[39m \u001b[39m1\u001b[39m:\n\u001b[0;32m   3760\u001b[0m     \u001b[39mreturn\u001b[39;00m \u001b[39mself\u001b[39m\u001b[39m.\u001b[39m_getitem_multilevel(key)\n\u001b[1;32m-> 3761\u001b[0m indexer \u001b[39m=\u001b[39m \u001b[39mself\u001b[39;49m\u001b[39m.\u001b[39;49mcolumns\u001b[39m.\u001b[39;49mget_loc(key)\n\u001b[0;32m   3762\u001b[0m \u001b[39mif\u001b[39;00m is_integer(indexer):\n\u001b[0;32m   3763\u001b[0m     indexer \u001b[39m=\u001b[39m [indexer]\n",
      "File \u001b[1;32mc:\\Users\\hkyoo\\AppData\\Local\\Programs\\Python\\Python311\\Lib\\site-packages\\pandas\\core\\indexes\\base.py:3655\u001b[0m, in \u001b[0;36mIndex.get_loc\u001b[1;34m(self, key)\u001b[0m\n\u001b[0;32m   3653\u001b[0m     \u001b[39mreturn\u001b[39;00m \u001b[39mself\u001b[39m\u001b[39m.\u001b[39m_engine\u001b[39m.\u001b[39mget_loc(casted_key)\n\u001b[0;32m   3654\u001b[0m \u001b[39mexcept\u001b[39;00m \u001b[39mKeyError\u001b[39;00m \u001b[39mas\u001b[39;00m err:\n\u001b[1;32m-> 3655\u001b[0m     \u001b[39mraise\u001b[39;00m \u001b[39mKeyError\u001b[39;00m(key) \u001b[39mfrom\u001b[39;00m \u001b[39merr\u001b[39;00m\n\u001b[0;32m   3656\u001b[0m \u001b[39mexcept\u001b[39;00m \u001b[39mTypeError\u001b[39;00m:\n\u001b[0;32m   3657\u001b[0m     \u001b[39m# If we have a listlike key, _check_indexing_error will raise\u001b[39;00m\n\u001b[0;32m   3658\u001b[0m     \u001b[39m#  InvalidIndexError. Otherwise we fall through and re-raise\u001b[39;00m\n\u001b[0;32m   3659\u001b[0m     \u001b[39m#  the TypeError.\u001b[39;00m\n\u001b[0;32m   3660\u001b[0m     \u001b[39mself\u001b[39m\u001b[39m.\u001b[39m_check_indexing_error(key)\n",
      "\u001b[1;31mKeyError\u001b[0m: '시군구'"
     ]
    }
   ],
   "source": [
    "# 데이터 다운 & 전처리\n",
    "\n",
    "transaction_df = pd.read_csv('../데이터/transaction/transaction_final.csv',index_col=0)\n",
    "economy_df = pd.read_excel('../데이터/economy/economy_all.xlsx')\n",
    "\n",
    "transaction_df, economy_df = preprocess(transaction_df, economy_df, window_size=5)"
   ]
  },
  {
   "cell_type": "code",
   "execution_count": 3,
   "metadata": {},
   "outputs": [
    {
     "name": "stderr",
     "output_type": "stream",
     "text": [
      "c:\\Users\\hkyoo\\OneDrive\\바탕 화면\\SCI\\코드\\Dataset\\ODE_Transformer_Dataset.py:9: SettingWithCopyWarning: \n",
      "A value is trying to be set on a copy of a slice from a DataFrame.\n",
      "Try using .loc[row_indexer,col_indexer] = value instead\n",
      "\n",
      "See the caveats in the documentation: https://pandas.pydata.org/pandas-docs/stable/user_guide/indexing.html#returning-a-view-versus-a-copy\n",
      "  transaction_data['계약년월'] = pd.to_datetime(transaction_data['계약년월'].astype(str), format='%Y%m')\n"
     ]
    },
    {
     "ename": "KeyError",
     "evalue": "'동'",
     "output_type": "error",
     "traceback": [
      "\u001b[1;31m---------------------------------------------------------------------------\u001b[0m",
      "\u001b[1;31mKeyError\u001b[0m                                  Traceback (most recent call last)",
      "File \u001b[1;32mc:\\Users\\hkyoo\\AppData\\Local\\Programs\\Python\\Python311\\Lib\\site-packages\\pandas\\core\\indexes\\base.py:3653\u001b[0m, in \u001b[0;36mIndex.get_loc\u001b[1;34m(self, key)\u001b[0m\n\u001b[0;32m   3652\u001b[0m \u001b[39mtry\u001b[39;00m:\n\u001b[1;32m-> 3653\u001b[0m     \u001b[39mreturn\u001b[39;00m \u001b[39mself\u001b[39;49m\u001b[39m.\u001b[39;49m_engine\u001b[39m.\u001b[39;49mget_loc(casted_key)\n\u001b[0;32m   3654\u001b[0m \u001b[39mexcept\u001b[39;00m \u001b[39mKeyError\u001b[39;00m \u001b[39mas\u001b[39;00m err:\n",
      "File \u001b[1;32mc:\\Users\\hkyoo\\AppData\\Local\\Programs\\Python\\Python311\\Lib\\site-packages\\pandas\\_libs\\index.pyx:147\u001b[0m, in \u001b[0;36mpandas._libs.index.IndexEngine.get_loc\u001b[1;34m()\u001b[0m\n",
      "File \u001b[1;32mc:\\Users\\hkyoo\\AppData\\Local\\Programs\\Python\\Python311\\Lib\\site-packages\\pandas\\_libs\\index.pyx:176\u001b[0m, in \u001b[0;36mpandas._libs.index.IndexEngine.get_loc\u001b[1;34m()\u001b[0m\n",
      "File \u001b[1;32mpandas\\_libs\\hashtable_class_helper.pxi:7080\u001b[0m, in \u001b[0;36mpandas._libs.hashtable.PyObjectHashTable.get_item\u001b[1;34m()\u001b[0m\n",
      "File \u001b[1;32mpandas\\_libs\\hashtable_class_helper.pxi:7088\u001b[0m, in \u001b[0;36mpandas._libs.hashtable.PyObjectHashTable.get_item\u001b[1;34m()\u001b[0m\n",
      "\u001b[1;31mKeyError\u001b[0m: '동'",
      "\nThe above exception was the direct cause of the following exception:\n",
      "\u001b[1;31mKeyError\u001b[0m                                  Traceback (most recent call last)",
      "\u001b[1;32mc:\\Users\\hkyoo\\OneDrive\\바탕 화면\\SCI\\코드\\train_final_ODE.ipynb Cell 3\u001b[0m line \u001b[0;36m6\n\u001b[0;32m      <a href='vscode-notebook-cell:/c%3A/Users/hkyoo/OneDrive/%EB%B0%94%ED%83%95%20%ED%99%94%EB%A9%B4/SCI/%EC%BD%94%EB%93%9C/train_final_ODE.ipynb#W2sZmlsZQ%3D%3D?line=0'>1</a>\u001b[0m \u001b[39m# len_df = len(transaction_df)\u001b[39;00m\n\u001b[0;32m      <a href='vscode-notebook-cell:/c%3A/Users/hkyoo/OneDrive/%EB%B0%94%ED%83%95%20%ED%99%94%EB%A9%B4/SCI/%EC%BD%94%EB%93%9C/train_final_ODE.ipynb#W2sZmlsZQ%3D%3D?line=1'>2</a>\u001b[0m \u001b[39m# train_len = int(len_df *0.7)\u001b[39;00m\n\u001b[0;32m      <a href='vscode-notebook-cell:/c%3A/Users/hkyoo/OneDrive/%EB%B0%94%ED%83%95%20%ED%99%94%EB%A9%B4/SCI/%EC%BD%94%EB%93%9C/train_final_ODE.ipynb#W2sZmlsZQ%3D%3D?line=2'>3</a>\u001b[0m \u001b[39m# val_len = int(len_df * 0.3)\u001b[39;00m\n\u001b[0;32m      <a href='vscode-notebook-cell:/c%3A/Users/hkyoo/OneDrive/%EB%B0%94%ED%83%95%20%ED%99%94%EB%A9%B4/SCI/%EC%BD%94%EB%93%9C/train_final_ODE.ipynb#W2sZmlsZQ%3D%3D?line=4'>5</a>\u001b[0m batch_size \u001b[39m=\u001b[39m \u001b[39m1\u001b[39m\n\u001b[1;32m----> <a href='vscode-notebook-cell:/c%3A/Users/hkyoo/OneDrive/%EB%B0%94%ED%83%95%20%ED%99%94%EB%A9%B4/SCI/%EC%BD%94%EB%93%9C/train_final_ODE.ipynb#W2sZmlsZQ%3D%3D?line=5'>6</a>\u001b[0m train_dataset \u001b[39m=\u001b[39m ODE_Transformer_Dataset(transaction_df[:\u001b[39m300\u001b[39;49m], economy_df)\n\u001b[0;32m      <a href='vscode-notebook-cell:/c%3A/Users/hkyoo/OneDrive/%EB%B0%94%ED%83%95%20%ED%99%94%EB%A9%B4/SCI/%EC%BD%94%EB%93%9C/train_final_ODE.ipynb#W2sZmlsZQ%3D%3D?line=6'>7</a>\u001b[0m train_loader \u001b[39m=\u001b[39m DataLoader(train_dataset, batch_size\u001b[39m=\u001b[39mbatch_size, drop_last\u001b[39m=\u001b[39m\u001b[39mTrue\u001b[39;00m)\n\u001b[0;32m      <a href='vscode-notebook-cell:/c%3A/Users/hkyoo/OneDrive/%EB%B0%94%ED%83%95%20%ED%99%94%EB%A9%B4/SCI/%EC%BD%94%EB%93%9C/train_final_ODE.ipynb#W2sZmlsZQ%3D%3D?line=7'>8</a>\u001b[0m \u001b[39m# val_dataset = RNN_Transformer_Dataset(df[train_len:train_len+val_len])\u001b[39;00m\n\u001b[0;32m      <a href='vscode-notebook-cell:/c%3A/Users/hkyoo/OneDrive/%EB%B0%94%ED%83%95%20%ED%99%94%EB%A9%B4/SCI/%EC%BD%94%EB%93%9C/train_final_ODE.ipynb#W2sZmlsZQ%3D%3D?line=8'>9</a>\u001b[0m \u001b[39m# val_loader = DataLoader(val_dataset, batch_size=batch_size)\u001b[39;00m\n",
      "File \u001b[1;32mc:\\Users\\hkyoo\\OneDrive\\바탕 화면\\SCI\\코드\\Dataset\\ODE_Transformer_Dataset.py:16\u001b[0m, in \u001b[0;36mODE_Transformer_Dataset.__init__\u001b[1;34m(self, transaction_data, economy_data, window_size)\u001b[0m\n\u001b[0;32m     13\u001b[0m dongs_x, dongs_y \u001b[39m=\u001b[39m [], []\n\u001b[0;32m     15\u001b[0m \u001b[39m# 동별로 탐색\u001b[39;00m\n\u001b[1;32m---> 16\u001b[0m \u001b[39mfor\u001b[39;00m dong \u001b[39min\u001b[39;00m transaction_data[\u001b[39m'\u001b[39;49m\u001b[39m동\u001b[39;49m\u001b[39m'\u001b[39;49m]\u001b[39m.\u001b[39munique():\n\u001b[0;32m     17\u001b[0m     filtered_data \u001b[39m=\u001b[39m transaction_data[transaction_data[\u001b[39m'\u001b[39m\u001b[39m동\u001b[39m\u001b[39m'\u001b[39m] \u001b[39m==\u001b[39m dong]\n\u001b[0;32m     19\u001b[0m     \u001b[39m# 200601부터 sequence_length(window_size)만큼 탐색\u001b[39;00m\n",
      "File \u001b[1;32mc:\\Users\\hkyoo\\AppData\\Local\\Programs\\Python\\Python311\\Lib\\site-packages\\pandas\\core\\frame.py:3761\u001b[0m, in \u001b[0;36mDataFrame.__getitem__\u001b[1;34m(self, key)\u001b[0m\n\u001b[0;32m   3759\u001b[0m \u001b[39mif\u001b[39;00m \u001b[39mself\u001b[39m\u001b[39m.\u001b[39mcolumns\u001b[39m.\u001b[39mnlevels \u001b[39m>\u001b[39m \u001b[39m1\u001b[39m:\n\u001b[0;32m   3760\u001b[0m     \u001b[39mreturn\u001b[39;00m \u001b[39mself\u001b[39m\u001b[39m.\u001b[39m_getitem_multilevel(key)\n\u001b[1;32m-> 3761\u001b[0m indexer \u001b[39m=\u001b[39m \u001b[39mself\u001b[39;49m\u001b[39m.\u001b[39;49mcolumns\u001b[39m.\u001b[39;49mget_loc(key)\n\u001b[0;32m   3762\u001b[0m \u001b[39mif\u001b[39;00m is_integer(indexer):\n\u001b[0;32m   3763\u001b[0m     indexer \u001b[39m=\u001b[39m [indexer]\n",
      "File \u001b[1;32mc:\\Users\\hkyoo\\AppData\\Local\\Programs\\Python\\Python311\\Lib\\site-packages\\pandas\\core\\indexes\\base.py:3655\u001b[0m, in \u001b[0;36mIndex.get_loc\u001b[1;34m(self, key)\u001b[0m\n\u001b[0;32m   3653\u001b[0m     \u001b[39mreturn\u001b[39;00m \u001b[39mself\u001b[39m\u001b[39m.\u001b[39m_engine\u001b[39m.\u001b[39mget_loc(casted_key)\n\u001b[0;32m   3654\u001b[0m \u001b[39mexcept\u001b[39;00m \u001b[39mKeyError\u001b[39;00m \u001b[39mas\u001b[39;00m err:\n\u001b[1;32m-> 3655\u001b[0m     \u001b[39mraise\u001b[39;00m \u001b[39mKeyError\u001b[39;00m(key) \u001b[39mfrom\u001b[39;00m \u001b[39merr\u001b[39;00m\n\u001b[0;32m   3656\u001b[0m \u001b[39mexcept\u001b[39;00m \u001b[39mTypeError\u001b[39;00m:\n\u001b[0;32m   3657\u001b[0m     \u001b[39m# If we have a listlike key, _check_indexing_error will raise\u001b[39;00m\n\u001b[0;32m   3658\u001b[0m     \u001b[39m#  InvalidIndexError. Otherwise we fall through and re-raise\u001b[39;00m\n\u001b[0;32m   3659\u001b[0m     \u001b[39m#  the TypeError.\u001b[39;00m\n\u001b[0;32m   3660\u001b[0m     \u001b[39mself\u001b[39m\u001b[39m.\u001b[39m_check_indexing_error(key)\n",
      "\u001b[1;31mKeyError\u001b[0m: '동'"
     ]
    }
   ],
   "source": [
    "# len_df = len(transaction_df)\n",
    "# train_len = int(len_df *0.7)\n",
    "# val_len = int(len_df * 0.3)\n",
    "\n",
    "batch_size = 1\n",
    "train_dataset = ODE_Transformer_Dataset(transaction_df[:300], economy_df)\n",
    "train_loader = DataLoader(train_dataset, batch_size=batch_size, drop_last=True)\n",
    "# val_dataset = RNN_Transformer_Dataset(df[train_len:train_len+val_len])\n",
    "# val_loader = DataLoader(val_dataset, batch_size=batch_size)"
   ]
  },
  {
   "cell_type": "code",
   "execution_count": null,
   "metadata": {},
   "outputs": [
    {
     "name": "stdout",
     "output_type": "stream",
     "text": [
      "X 크기 : torch.Size([1, 311, 5])\n",
      "Y 크기 : torch.Size([1, 5, 5])\n",
      "Z 크기 : torch.Size([1, 1, 5])\n",
      "W 크기 : torch.Size([1, 5, 1])\n",
      "A 크기 : torch.Size([1, 5, 1])\n",
      "B 크기 : torch.Size([1, 1, 1])\n"
     ]
    }
   ],
   "source": [
    "for x,y,z,w,a,b in train_loader:\n",
    "  print(\"X 크기 : {}\".format(x.shape))\n",
    "  print(\"Y 크기 : {}\".format(y.shape))\n",
    "  print(\"Z 크기 : {}\".format(z.shape))\n",
    "  print(\"W 크기 : {}\".format(w.shape))\n",
    "  print(\"A 크기 : {}\".format(a.shape))\n",
    "  print(\"B 크기 : {}\".format(b.shape))\n",
    "  break"
   ]
  },
  {
   "cell_type": "code",
   "execution_count": null,
   "metadata": {},
   "outputs": [
    {
     "name": "stdout",
     "output_type": "stream",
     "text": [
      "X 크기 : torch.float32\n",
      "Y 크기 : torch.float32\n",
      "Z 크기 : torch.float32\n",
      "W 크기 : torch.float32\n",
      "A 크기 : torch.float32\n",
      "B 크기 : torch.float32\n"
     ]
    }
   ],
   "source": [
    "for x,y,z,w,a,b in train_loader:\n",
    "      print(\"X 크기 : {}\".format(x.dtype))\n",
    "      print(\"Y 크기 : {}\".format(y.dtype))\n",
    "      print(\"Z 크기 : {}\".format(z.dtype))\n",
    "      print(\"W 크기 : {}\".format(w.dtype))\n",
    "      print(\"A 크기 : {}\".format(a.dtype))\n",
    "      print(\"B 크기 : {}\".format(b.dtype))\n",
    "      break"
   ]
  },
  {
   "cell_type": "code",
   "execution_count": null,
   "metadata": {},
   "outputs": [],
   "source": [
    "max_size = 311\n",
    "window_size = 5\n",
    "hidden_size =256"
   ]
  },
  {
   "cell_type": "code",
   "execution_count": 7,
   "metadata": {},
   "outputs": [
    {
     "name": "stdout",
     "output_type": "stream",
     "text": [
      "cpu is available\n"
     ]
    },
    {
     "ename": "TypeError",
     "evalue": "ODE_Attention.forward() missing 6 required positional arguments: 'tran_data', 'tran_data_label', 'time_x', 'time_y', 'alpha', and 'eco_model'",
     "output_type": "error",
     "traceback": [
      "\u001b[1;31m---------------------------------------------------------------------------\u001b[0m",
      "\u001b[1;31mTypeError\u001b[0m                                 Traceback (most recent call last)",
      "\u001b[1;32mc:\\Users\\hkyoo\\OneDrive\\바탕 화면\\SCI\\코드\\train_final_ODE.ipynb Cell 7\u001b[0m line \u001b[0;36m1\n\u001b[0;32m     <a href='vscode-notebook-cell:/c%3A/Users/hkyoo/OneDrive/%EB%B0%94%ED%83%95%20%ED%99%94%EB%A9%B4/SCI/%EC%BD%94%EB%93%9C/train_final_ODE.ipynb#W6sZmlsZQ%3D%3D?line=12'>13</a>\u001b[0m model \u001b[39m=\u001b[39m ODE_Attention(max_size, hidden_size, \u001b[39m1\u001b[39m, \u001b[39m64\u001b[39m, device)\u001b[39m.\u001b[39mto(device)\n\u001b[0;32m     <a href='vscode-notebook-cell:/c%3A/Users/hkyoo/OneDrive/%EB%B0%94%ED%83%95%20%ED%99%94%EB%A9%B4/SCI/%EC%BD%94%EB%93%9C/train_final_ODE.ipynb#W6sZmlsZQ%3D%3D?line=14'>15</a>\u001b[0m dummy \u001b[39m=\u001b[39m torch\u001b[39m.\u001b[39mrand((batch_size,max_size,hidden_size))\u001b[39m.\u001b[39mto(device)\n\u001b[1;32m---> <a href='vscode-notebook-cell:/c%3A/Users/hkyoo/OneDrive/%EB%B0%94%ED%83%95%20%ED%99%94%EB%A9%B4/SCI/%EC%BD%94%EB%93%9C/train_final_ODE.ipynb#W6sZmlsZQ%3D%3D?line=15'>16</a>\u001b[0m model(dummy)\u001b[39m.\u001b[39mshape\n",
      "File \u001b[1;32mc:\\Users\\hkyoo\\AppData\\Local\\Programs\\Python\\Python311\\Lib\\site-packages\\torch\\nn\\modules\\module.py:1501\u001b[0m, in \u001b[0;36mModule._call_impl\u001b[1;34m(self, *args, **kwargs)\u001b[0m\n\u001b[0;32m   1496\u001b[0m \u001b[39m# If we don't have any hooks, we want to skip the rest of the logic in\u001b[39;00m\n\u001b[0;32m   1497\u001b[0m \u001b[39m# this function, and just call forward.\u001b[39;00m\n\u001b[0;32m   1498\u001b[0m \u001b[39mif\u001b[39;00m \u001b[39mnot\u001b[39;00m (\u001b[39mself\u001b[39m\u001b[39m.\u001b[39m_backward_hooks \u001b[39mor\u001b[39;00m \u001b[39mself\u001b[39m\u001b[39m.\u001b[39m_backward_pre_hooks \u001b[39mor\u001b[39;00m \u001b[39mself\u001b[39m\u001b[39m.\u001b[39m_forward_hooks \u001b[39mor\u001b[39;00m \u001b[39mself\u001b[39m\u001b[39m.\u001b[39m_forward_pre_hooks\n\u001b[0;32m   1499\u001b[0m         \u001b[39mor\u001b[39;00m _global_backward_pre_hooks \u001b[39mor\u001b[39;00m _global_backward_hooks\n\u001b[0;32m   1500\u001b[0m         \u001b[39mor\u001b[39;00m _global_forward_hooks \u001b[39mor\u001b[39;00m _global_forward_pre_hooks):\n\u001b[1;32m-> 1501\u001b[0m     \u001b[39mreturn\u001b[39;00m forward_call(\u001b[39m*\u001b[39;49margs, \u001b[39m*\u001b[39;49m\u001b[39m*\u001b[39;49mkwargs)\n\u001b[0;32m   1502\u001b[0m \u001b[39m# Do not call functions when jit is used\u001b[39;00m\n\u001b[0;32m   1503\u001b[0m full_backward_hooks, non_full_backward_hooks \u001b[39m=\u001b[39m [], []\n",
      "\u001b[1;31mTypeError\u001b[0m: ODE_Attention.forward() missing 6 required positional arguments: 'tran_data', 'tran_data_label', 'time_x', 'time_y', 'alpha', and 'eco_model'"
     ]
    }
   ],
   "source": [
    "# gpu 연결\n",
    "device = torch.device('cuda:0' if torch.cuda.is_available() else 'cpu')\n",
    "print(f'{device} is available')\n",
    "\n",
    "# checkpoint 받기\n",
    "eco_lstm = LSTM(window_size,256).to(device)\n",
    "eco_lstm.load_state_dict(torch.load(\"../데이터/checkpoint/best_rnn_economy_model.pth\"))\n",
    "\n",
    "############## cpu?\n",
    "tran_ODE = ODE_RNN(output_dim=1,hidden_dim=256,latent_dim=64).to(device)\n",
    "tran_ODE.load_state_dict(torch.load(\"../데이터/checkpoint/best_ODE_transaction_model.pth\",map_location=torch.device('cpu')))\n",
    "\n",
    "model = ODE_Attention(max_size, hidden_size, 1, 64, eco_lstm, tran_ODE, device).to(device)\n",
    "\n",
    "t = torch.cat((y,a),dim=2)\n",
    "alpha = 0.2\n",
    "model(z, x, w, t, alpha).shape"
   ]
  },
  {
   "cell_type": "code",
   "execution_count": 43,
   "metadata": {},
   "outputs": [],
   "source": [
    "criterion = nn.MSELoss()\n",
    "\n",
    "lr = 1e-3\n",
    "num_epochs = 100\n",
    "optimizer = torch.optim.Adam(model.parameters(), lr=lr)\n",
    "\n",
    "alpha = 0.2"
   ]
  },
  {
   "cell_type": "markdown",
   "metadata": {},
   "source": [
    "### 학습하기"
   ]
  },
  {
   "cell_type": "code",
   "execution_count": 56,
   "metadata": {},
   "outputs": [
    {
     "name": "stdout",
     "output_type": "stream",
     "text": [
      "epoch : 0\n",
      "train\n"
     ]
    },
    {
     "ename": "RuntimeError",
     "evalue": "Trying to backward through the graph a second time (or directly access saved tensors after they have already been freed). Saved intermediate values of the graph are freed when you call .backward() or autograd.grad(). Specify retain_graph=True if you need to backward through the graph a second time or if you need to access saved tensors after calling backward.",
     "output_type": "error",
     "traceback": [
      "\u001b[1;31m---------------------------------------------------------------------------\u001b[0m",
      "\u001b[1;31mRuntimeError\u001b[0m                              Traceback (most recent call last)",
      "Cell \u001b[1;32mIn[56], line 66\u001b[0m\n\u001b[0;32m     64\u001b[0m \u001b[39m# mean_loss = loss_all/out.shape[1]\u001b[39;00m\n\u001b[0;32m     65\u001b[0m optimizer\u001b[39m.\u001b[39mzero_grad() \u001b[39m#\u001b[39;00m\n\u001b[1;32m---> 66\u001b[0m mean_loss\u001b[39m.\u001b[39;49mbackward() \u001b[39m# loss가 최소가 되게하는\u001b[39;00m\n\u001b[0;32m     67\u001b[0m optimizer\u001b[39m.\u001b[39mstep() \u001b[39m# 어떤 방법으로 learning rate를 움직일거이냐\u001b[39;00m\n\u001b[0;32m     68\u001b[0m running_loss \u001b[39m+\u001b[39m\u001b[39m=\u001b[39m loss_all\u001b[39m.\u001b[39mitem() \u001b[39m# 한 배치의 loss 더해주고,\u001b[39;00m\n",
      "File \u001b[1;32mc:\\Users\\hkyoo\\AppData\\Local\\Programs\\Python\\Python311\\Lib\\site-packages\\torch\\_tensor.py:487\u001b[0m, in \u001b[0;36mTensor.backward\u001b[1;34m(self, gradient, retain_graph, create_graph, inputs)\u001b[0m\n\u001b[0;32m    477\u001b[0m \u001b[39mif\u001b[39;00m has_torch_function_unary(\u001b[39mself\u001b[39m):\n\u001b[0;32m    478\u001b[0m     \u001b[39mreturn\u001b[39;00m handle_torch_function(\n\u001b[0;32m    479\u001b[0m         Tensor\u001b[39m.\u001b[39mbackward,\n\u001b[0;32m    480\u001b[0m         (\u001b[39mself\u001b[39m,),\n\u001b[1;32m   (...)\u001b[0m\n\u001b[0;32m    485\u001b[0m         inputs\u001b[39m=\u001b[39minputs,\n\u001b[0;32m    486\u001b[0m     )\n\u001b[1;32m--> 487\u001b[0m torch\u001b[39m.\u001b[39;49mautograd\u001b[39m.\u001b[39;49mbackward(\n\u001b[0;32m    488\u001b[0m     \u001b[39mself\u001b[39;49m, gradient, retain_graph, create_graph, inputs\u001b[39m=\u001b[39;49minputs\n\u001b[0;32m    489\u001b[0m )\n",
      "File \u001b[1;32mc:\\Users\\hkyoo\\AppData\\Local\\Programs\\Python\\Python311\\Lib\\site-packages\\torch\\autograd\\__init__.py:200\u001b[0m, in \u001b[0;36mbackward\u001b[1;34m(tensors, grad_tensors, retain_graph, create_graph, grad_variables, inputs)\u001b[0m\n\u001b[0;32m    195\u001b[0m     retain_graph \u001b[39m=\u001b[39m create_graph\n\u001b[0;32m    197\u001b[0m \u001b[39m# The reason we repeat same the comment below is that\u001b[39;00m\n\u001b[0;32m    198\u001b[0m \u001b[39m# some Python versions print out the first line of a multi-line function\u001b[39;00m\n\u001b[0;32m    199\u001b[0m \u001b[39m# calls in the traceback and some print out the last line\u001b[39;00m\n\u001b[1;32m--> 200\u001b[0m Variable\u001b[39m.\u001b[39;49m_execution_engine\u001b[39m.\u001b[39;49mrun_backward(  \u001b[39m# Calls into the C++ engine to run the backward pass\u001b[39;49;00m\n\u001b[0;32m    201\u001b[0m     tensors, grad_tensors_, retain_graph, create_graph, inputs,\n\u001b[0;32m    202\u001b[0m     allow_unreachable\u001b[39m=\u001b[39;49m\u001b[39mTrue\u001b[39;49;00m, accumulate_grad\u001b[39m=\u001b[39;49m\u001b[39mTrue\u001b[39;49;00m)\n",
      "\u001b[1;31mRuntimeError\u001b[0m: Trying to backward through the graph a second time (or directly access saved tensors after they have already been freed). Saved intermediate values of the graph are freed when you call .backward() or autograd.grad(). Specify retain_graph=True if you need to backward through the graph a second time or if you need to access saved tensors after calling backward."
     ]
    }
   ],
   "source": [
    "train_n = len(train_dataset)\n",
    "# val_n = len(val_dataset)\n",
    "\n",
    "# val_loss_list = []\n",
    "best_train_loss = float('inf')\n",
    "stop_counter = 0\n",
    "stop_criteria = 3\n",
    "max_len = max_size\n",
    "\n",
    "for epoch in range(num_epochs):\n",
    "    print('epoch : {}'.format(epoch))\n",
    "    running_loss = 0.0\n",
    "    num = 0\n",
    "    print(\"train\")\n",
    "    model.train()\n",
    "    for tran_inputs, t_inputs, eco_inputs, tran_labels, t_label, eco_label in train_loader:  # dataloader 함수에 def __len__에 return 값만큼 반복함\n",
    "        tran_inputs = tran_inputs.to(device) \n",
    "        t_inputs = t_inputs.to(device)  # batch * size * window_size\n",
    "        eco_inputs = eco_inputs.to(device)  # batch*1*window_size\n",
    "        tran_labels = tran_labels.to(device)  # batch_size*max_size*1\n",
    "        t_label = t_label.to(device)   # batch * size * 1\n",
    "        eco_label = eco_label.to(device) \n",
    "        t = torch.cat((t_inputs,t_label),dim=2)  # batch * size * window_size+1 (batch*158*6)\n",
    "        \n",
    "        # transaction hidden_state + economy hidden_state\n",
    "\n",
    "        for i in range(max_len):\n",
    "            # batch * window -> window * batch * 1 \n",
    "            one_tran_input = tran_inputs[:,i,:].permute(1,0).unsqueeze(2)\n",
    "            # batch * window+1 -> window+1 * batch * 1\n",
    "            one_time = t[:,i,:].permute(1,0).unsqueeze(2)\n",
    "            # 1 * batch * hidden\n",
    "            one_NODE = tran_NODE(one_tran_input, one_time)[1][-1]\n",
    "            tran_tensor[:,i,:] = one_NODE\n",
    "            \n",
    "        emb_vector = tran_tensor + eco_tensor\n",
    "        \n",
    "        # 부동산 데이터가 0인 행은 embedding_vector도 0으로 전환  \n",
    "        iszero_vector = torch.where(tran_labels.squeeze() == 0, tran_labels.squeeze(), 1.0)\n",
    "           \n",
    "        # 차원에 맞게 변경 후 계산 \n",
    "        emb_vector = emb_vector.mul(iszero_vector.unsqueeze(2).repeat(1,1,hidden_size))\n",
    "        \n",
    "        #####################################\n",
    "        # transformer 적용\n",
    "        # loss 값은 부동산 가격이 0이 아닌 것에만 적용해서 학습\n",
    "        out = model(emb_vector) # batch_size*max_size*1\n",
    "        \n",
    "        # out 값중 필요 없는 값은 0으로 변경\n",
    "        out = out.mul(iszero_vector.unsqueeze(2))   \n",
    "        \n",
    "        labels = tran_labels.mul(iszero_vector.unsqueeze(2))\n",
    "        \n",
    "        # x값이 0이면 y값도 0인 상태!!!에서 아래 진행\n",
    "        loss_all = 0\n",
    "        loss_all = criterion(out,labels)\n",
    "        mean_all = loss_all/(iszero_vector.sum())   # 평균치만큼 업데이트!!!!!!!!\n",
    "        \n",
    "        # mean_loss = loss_all/out.shape[1]\n",
    "        optimizer.zero_grad() #\n",
    "        mean_loss.backward() # loss가 최소가 되게하는\n",
    "        optimizer.step() # 어떤 방법으로 learning rate를 움직일거이냐\n",
    "        running_loss += loss_all.item() # 한 배치의 loss 더해주고,\n",
    "\n",
    "        if mean_loss < best_train_loss:\n",
    "            best_train_loss = mean_loss\n",
    "            torch.save(model.state_dict(), '../데이터/checkpoint/best_ODE_transformer_model.pth')\n",
    "\n",
    "    print(running_loss/train_n)"
   ]
  },
  {
   "cell_type": "code",
   "execution_count": null,
   "metadata": {},
   "outputs": [],
   "source": []
  }
 ],
 "metadata": {
  "kernelspec": {
   "display_name": "Python 3",
   "language": "python",
   "name": "python3"
  },
  "language_info": {
   "codemirror_mode": {
    "name": "ipython",
    "version": 3
   },
   "file_extension": ".py",
   "mimetype": "text/x-python",
   "name": "python",
   "nbconvert_exporter": "python",
   "pygments_lexer": "ipython3",
   "version": "3.11.4"
  },
  "orig_nbformat": 4
 },
 "nbformat": 4,
 "nbformat_minor": 2
}
