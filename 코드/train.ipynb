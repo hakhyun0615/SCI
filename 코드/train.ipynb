{
 "cells": [
  {
   "cell_type": "code",
   "execution_count": 5,
   "metadata": {},
   "outputs": [],
   "source": [
    "import numpy as np\n",
    "import pandas as pd\n",
    "\n",
    "import torch\n",
    "from torch import nn\n",
    "from Dataset.embedding_dataset import AutoEncoder_Dataset\n",
    "from Model.AutoEncoder import AutoEncoder\n",
    "from torch.utils.data import DataLoader"
   ]
  },
  {
   "cell_type": "markdown",
   "metadata": {},
   "source": [
    "## embedding"
   ]
  },
  {
   "cell_type": "markdown",
   "metadata": {},
   "source": [
    "### embedding matrix"
   ]
  },
  {
   "cell_type": "code",
   "execution_count": 4,
   "metadata": {},
   "outputs": [],
   "source": [
    "batch = 32\n",
    "epochs = 50\n",
    "embedding_dim = 6"
   ]
  },
  {
   "cell_type": "code",
   "execution_count": 8,
   "metadata": {},
   "outputs": [
    {
     "ename": "NameError",
     "evalue": "name 'batch' is not defined",
     "output_type": "error",
     "traceback": [
      "\u001b[0;31m---------------------------------------------------------------------------\u001b[0m",
      "\u001b[0;31mNameError\u001b[0m                                 Traceback (most recent call last)",
      "Input \u001b[0;32mIn [8]\u001b[0m, in \u001b[0;36m<cell line: 0>\u001b[0;34m()\u001b[0m\n\u001b[1;32m      3\u001b[0m table_3 \u001b[38;5;241m=\u001b[39m pd\u001b[38;5;241m.\u001b[39mread_excel(\u001b[38;5;124m'\u001b[39m\u001b[38;5;124m../데이터/Table/table_3.xlsx\u001b[39m\u001b[38;5;124m'\u001b[39m, index_col\u001b[38;5;241m=\u001b[39m\u001b[38;5;241m0\u001b[39m)\n\u001b[1;32m      5\u001b[0m dataset \u001b[38;5;241m=\u001b[39m AutoEncoder_Dataset(table_1, table_2, table_3)\n\u001b[0;32m----> 6\u001b[0m dataloader \u001b[38;5;241m=\u001b[39m DataLoader(dataset, batch_size\u001b[38;5;241m=\u001b[39mbatch)\n",
      "\u001b[0;31mNameError\u001b[0m: name 'batch' is not defined"
     ]
    }
   ],
   "source": [
    "table_1 = pd.read_excel('../데이터/Table/table_1.xlsx', index_col=0)\n",
    "table_2 = pd.read_excel('../데이터/Table/table_2.xlsx', index_col=0)\n",
    "table_3 = pd.read_excel('../데이터/Table/table_3.xlsx', index_col=0)\n",
    "\n",
    "dataset = AutoEncoder_Dataset(table_1, table_2, table_3)\n",
    "dataloader = DataLoader(dataset, batch_size=batch)"
   ]
  },
  {
   "cell_type": "code",
   "execution_count": 9,
   "metadata": {},
   "outputs": [
    {
     "name": "stdout",
     "output_type": "stream",
     "text": [
      "Epoch [1/50], Train Loss: 680291770.6692\n",
      "Epoch [2/50], Train Loss: 684188173.6263\n",
      "Epoch [3/50], Train Loss: 689512574.3303\n",
      "Epoch [4/50], Train Loss: 692086335.6111\n",
      "Epoch [5/50], Train Loss: 688067731.1787\n",
      "Epoch [6/50], Train Loss: 686715738.7562\n",
      "Epoch [7/50], Train Loss: 682496298.9647\n",
      "Epoch [8/50], Train Loss: 679622162.8559\n",
      "Epoch [9/50], Train Loss: 676958141.1462\n",
      "Epoch [10/50], Train Loss: 674317575.5218\n",
      "Epoch [11/50], Train Loss: 672776078.0742\n",
      "Epoch [12/50], Train Loss: 671834476.7615\n",
      "Epoch [13/50], Train Loss: 673883822.9061\n",
      "Epoch [14/50], Train Loss: 672292985.3853\n",
      "Epoch [15/50], Train Loss: 670222568.7711\n",
      "Epoch [16/50], Train Loss: 668870535.0658\n",
      "Epoch [17/50], Train Loss: 667554694.9468\n",
      "Epoch [18/50], Train Loss: 665938823.2288\n",
      "Epoch [19/50], Train Loss: 664633780.7509\n",
      "Epoch [20/50], Train Loss: 663488408.7713\n",
      "Epoch [21/50], Train Loss: 662454541.6991\n",
      "Epoch [22/50], Train Loss: 661524744.7534\n",
      "Epoch [23/50], Train Loss: 660687875.5072\n",
      "Epoch [24/50], Train Loss: 659936261.2933\n",
      "Epoch [25/50], Train Loss: 659264682.3006\n",
      "Epoch [26/50], Train Loss: 658667835.3006\n",
      "Epoch [27/50], Train Loss: 658140847.1106\n",
      "Epoch [28/50], Train Loss: 657679314.4148\n",
      "Epoch [29/50], Train Loss: 657279127.9802\n",
      "Epoch [30/50], Train Loss: 656936887.6729\n",
      "Epoch [31/50], Train Loss: 656649692.8754\n",
      "Epoch [32/50], Train Loss: 656415033.8458\n",
      "Epoch [33/50], Train Loss: 656229975.2784\n",
      "Epoch [34/50], Train Loss: 656091589.6681\n",
      "Epoch [35/50], Train Loss: 655996267.3913\n",
      "Epoch [36/50], Train Loss: 655941748.9161\n",
      "Epoch [37/50], Train Loss: 655925618.1054\n",
      "Epoch [38/50], Train Loss: 655929750.6365\n",
      "Epoch [39/50], Train Loss: 655876605.0653\n",
      "Epoch [40/50], Train Loss: 655643505.7698\n",
      "Epoch [41/50], Train Loss: 655224559.5265\n",
      "Epoch [42/50], Train Loss: 654759636.5546\n",
      "Epoch [43/50], Train Loss: 654348302.1853\n",
      "Epoch [44/50], Train Loss: 653983909.5080\n",
      "Epoch [45/50], Train Loss: 653624401.1950\n",
      "Epoch [46/50], Train Loss: 653262997.9628\n",
      "Epoch [47/50], Train Loss: 652920866.2509\n",
      "Epoch [48/50], Train Loss: 652610726.2271\n",
      "Epoch [49/50], Train Loss: 652329163.1016\n",
      "Epoch [50/50], Train Loss: 652068203.2658\n"
     ]
    }
   ],
   "source": [
    "model = AutoEncoder(embedding_dim)\n",
    "criterion = nn.MSELoss()\n",
    "optimizer = torch.optim.Adam(model.parameters(), lr=0.001)\n",
    "\n",
    "model.train()\n",
    "train_losses = []\n",
    "for epoch in range(epochs):\n",
    "    total_train_loss = 0\n",
    "    for data in dataloader:\n",
    "        input = data[0]\n",
    "        target = data[1]\n",
    "        output = model(input)\n",
    "\n",
    "        train_loss = criterion(output, target)\n",
    "        total_train_loss += train_loss.item()\n",
    "\n",
    "        optimizer.zero_grad()\n",
    "        train_loss.backward()\n",
    "        optimizer.step()\n",
    "\n",
    "    avg_train_loss = total_train_loss / len(dataloader)\n",
    "    train_losses.append(avg_train_loss)\n",
    "    print(f'Epoch [{epoch+1}/{epochs}], Train Loss: {avg_train_loss:.4f}')\n",
    "\n",
    "torch.save(model, f'../데이터/Checkpoint/embedding_batch_{batch}_epochs_{epochs}_dim_{embedding_dim}.pth')"
   ]
  },
  {
   "cell_type": "code",
   "execution_count": null,
   "metadata": {},
   "outputs": [
    {
     "data": {
      "image/png": "[encoded data removed]",
      "text/plain": [
       "<Figure size 432x288 with 1 Axes>"
      ]
     },
     "metadata": {
      "needs_background": "light"
     },
     "output_type": "display_data"
    }
   ],
   "source": [
    "import matplotlib.pyplot as plt\n",
    "\n",
    "plt.plot(train_losses)\n",
    "plt.xlabel('Epoch')\n",
    "plt.ylabel('Train Loss')\n",
    "plt.show()"
   ]
  },
  {
   "cell_type": "markdown",
   "metadata": {},
   "source": [
    "### embedding vector"
   ]
  },
  {
   "cell_type": "code",
   "execution_count": 14,
   "metadata": {},
   "outputs": [],
   "source": [
    "apartment = '경남1'"
   ]
  },
  {
   "cell_type": "code",
   "execution_count": 15,
   "metadata": {},
   "outputs": [
    {
     "data": {
      "text/html": [
       "<div>\n",
       "<style scoped>\n",
       "    .dataframe tbody tr th:only-of-type {\n",
       "        vertical-align: middle;\n",
       "    }\n",
       "\n",
       "    .dataframe tbody tr th {\n",
       "        vertical-align: top;\n",
       "    }\n",
       "\n",
       "    .dataframe thead th {\n",
       "        text-align: right;\n",
       "    }\n",
       "</style>\n",
       "<table border=\"1\" class=\"dataframe\">\n",
       "  <thead>\n",
       "    <tr style=\"text-align: right;\">\n",
       "      <th></th>\n",
       "      <th>aid</th>\n",
       "      <th>lat</th>\n",
       "      <th>lng</th>\n",
       "      <th>year_built</th>\n",
       "      <th>education</th>\n",
       "      <th>household</th>\n",
       "      <th>parking</th>\n",
       "      <th>complex_facility</th>\n",
       "      <th>move_in_day</th>\n",
       "      <th>subway_distance</th>\n",
       "      <th>convenience_facility</th>\n",
       "    </tr>\n",
       "  </thead>\n",
       "  <tbody>\n",
       "    <tr>\n",
       "      <th>0</th>\n",
       "      <td>0</td>\n",
       "      <td>37.484387</td>\n",
       "      <td>127.054267</td>\n",
       "      <td>1984</td>\n",
       "      <td>7</td>\n",
       "      <td>678</td>\n",
       "      <td>1</td>\n",
       "      <td>3</td>\n",
       "      <td>14543</td>\n",
       "      <td>8</td>\n",
       "      <td>10</td>\n",
       "    </tr>\n",
       "  </tbody>\n",
       "</table>\n",
       "</div>"
      ],
      "text/plain": [
       "   aid        lat         lng  year_built  education  household  parking  \\\n",
       "0    0  37.484387  127.054267        1984          7        678        1   \n",
       "\n",
       "   complex_facility  move_in_day  subway_distance  convenience_facility  \n",
       "0                 3        14543                8                    10  "
      ]
     },
     "execution_count": 15,
     "metadata": {},
     "output_type": "execute_result"
    }
   ],
   "source": [
    "table_1[table_1['name'] == apartment][[cols for cols in table_1.columns if cols not in ['location','name']]]"
   ]
  },
  {
   "cell_type": "code",
   "execution_count": 17,
   "metadata": {},
   "outputs": [
    {
     "data": {
      "text/html": [
       "<div>\n",
       "<style scoped>\n",
       "    .dataframe tbody tr th:only-of-type {\n",
       "        vertical-align: middle;\n",
       "    }\n",
       "\n",
       "    .dataframe tbody tr th {\n",
       "        vertical-align: top;\n",
       "    }\n",
       "\n",
       "    .dataframe thead th {\n",
       "        text-align: right;\n",
       "    }\n",
       "</style>\n",
       "<table border=\"1\" class=\"dataframe\">\n",
       "  <thead>\n",
       "    <tr style=\"text-align: right;\">\n",
       "      <th></th>\n",
       "      <th>aid</th>\n",
       "      <th>did</th>\n",
       "      <th>price</th>\n",
       "    </tr>\n",
       "  </thead>\n",
       "  <tbody>\n",
       "    <tr>\n",
       "      <th>0</th>\n",
       "      <td>0</td>\n",
       "      <td>0</td>\n",
       "      <td>87000</td>\n",
       "    </tr>\n",
       "    <tr>\n",
       "      <th>1</th>\n",
       "      <td>0</td>\n",
       "      <td>0</td>\n",
       "      <td>85700</td>\n",
       "    </tr>\n",
       "    <tr>\n",
       "      <th>2</th>\n",
       "      <td>0</td>\n",
       "      <td>0</td>\n",
       "      <td>91500</td>\n",
       "    </tr>\n",
       "    <tr>\n",
       "      <th>3</th>\n",
       "      <td>0</td>\n",
       "      <td>0</td>\n",
       "      <td>87000</td>\n",
       "    </tr>\n",
       "    <tr>\n",
       "      <th>4</th>\n",
       "      <td>0</td>\n",
       "      <td>2</td>\n",
       "      <td>90000</td>\n",
       "    </tr>\n",
       "    <tr>\n",
       "      <th>...</th>\n",
       "      <td>...</td>\n",
       "      <td>...</td>\n",
       "      <td>...</td>\n",
       "    </tr>\n",
       "    <tr>\n",
       "      <th>121</th>\n",
       "      <td>0</td>\n",
       "      <td>169</td>\n",
       "      <td>197000</td>\n",
       "    </tr>\n",
       "    <tr>\n",
       "      <th>122</th>\n",
       "      <td>0</td>\n",
       "      <td>173</td>\n",
       "      <td>200000</td>\n",
       "    </tr>\n",
       "    <tr>\n",
       "      <th>123</th>\n",
       "      <td>0</td>\n",
       "      <td>174</td>\n",
       "      <td>215000</td>\n",
       "    </tr>\n",
       "    <tr>\n",
       "      <th>124</th>\n",
       "      <td>0</td>\n",
       "      <td>174</td>\n",
       "      <td>210000</td>\n",
       "    </tr>\n",
       "    <tr>\n",
       "      <th>125</th>\n",
       "      <td>0</td>\n",
       "      <td>182</td>\n",
       "      <td>235000</td>\n",
       "    </tr>\n",
       "  </tbody>\n",
       "</table>\n",
       "<p>110 rows × 3 columns</p>\n",
       "</div>"
      ],
      "text/plain": [
       "     aid  did   price\n",
       "0      0    0   87000\n",
       "1      0    0   85700\n",
       "2      0    0   91500\n",
       "3      0    0   87000\n",
       "4      0    2   90000\n",
       "..   ...  ...     ...\n",
       "121    0  169  197000\n",
       "122    0  173  200000\n",
       "123    0  174  215000\n",
       "124    0  174  210000\n",
       "125    0  182  235000\n",
       "\n",
       "[110 rows x 3 columns]"
      ]
     },
     "execution_count": 17,
     "metadata": {},
     "output_type": "execute_result"
    }
   ],
   "source": [
    "table_3[table_3['aid']==0]"
   ]
  },
  {
   "cell_type": "code",
   "execution_count": 9,
   "metadata": {},
   "outputs": [],
   "source": [
    "apartment_tensor = torch.FloatTensor(table_1[table_1['name'] == apartment][[cols for cols in table_1.columns if cols not in ['aid','location','name']]].values)"
   ]
  },
  {
   "cell_type": "code",
   "execution_count": 10,
   "metadata": {},
   "outputs": [
    {
     "data": {
      "text/plain": [
       "tensor([[3.7508e+01, 1.2702e+02, 2.0090e+03, 4.0000e+00, 3.4100e+03, 2.0000e+00,\n",
       "         0.0000e+00, 5.1270e+03, 3.0000e+00, 3.0000e+00]])"
      ]
     },
     "execution_count": 10,
     "metadata": {},
     "output_type": "execute_result"
    }
   ],
   "source": [
    "apartment_tensor"
   ]
  },
  {
   "cell_type": "code",
   "execution_count": 2,
   "metadata": {},
   "outputs": [
    {
     "ename": "TypeError",
     "evalue": "list.append() takes exactly one argument (0 given)",
     "output_type": "error",
     "traceback": [
      "\u001b[0;31m---------------------------------------------------------------------------\u001b[0m",
      "\u001b[0;31mTypeError\u001b[0m                                 Traceback (most recent call last)",
      "Input \u001b[0;32mIn [2]\u001b[0m, in \u001b[0;36m<cell line: 0>\u001b[0;34m()\u001b[0m\n\u001b[1;32m      3\u001b[0m \u001b[38;5;28;01mfor\u001b[39;00m year \u001b[38;5;129;01min\u001b[39;00m \u001b[38;5;28mrange\u001b[39m(\u001b[38;5;241m2006\u001b[39m,\u001b[38;5;241m2023\u001b[39m):\n\u001b[1;32m      4\u001b[0m     \u001b[38;5;28;01mfor\u001b[39;00m month \u001b[38;5;129;01min\u001b[39;00m \u001b[38;5;28mrange\u001b[39m(\u001b[38;5;241m1\u001b[39m,\u001b[38;5;241m13\u001b[39m):\n\u001b[0;32m----> 5\u001b[0m         input_tensor\u001b[38;5;241m.\u001b[39mappend()\n",
      "\u001b[0;31mTypeError\u001b[0m: list.append() takes exactly one argument (0 given)"
     ]
    }
   ],
   "source": [
    "input_tensor = []\n",
    "\n",
    "for year in range(2006,2023):\n",
    "    for month in range(1,13):\n",
    "        input_tensor.append()"
   ]
  },
  {
   "cell_type": "code",
   "execution_count": 72,
   "metadata": {},
   "outputs": [
    {
     "data": {
      "text/plain": [
       "tensor([3.7484e+01, 1.2705e+02, 1.9840e+03, 7.0000e+00, 6.7800e+02, 1.0000e+00,\n",
       "        3.0000e+00, 1.4543e+04, 8.0000e+00, 1.0000e+01, 3.7400e+00, 1.0277e+06])"
      ]
     },
     "execution_count": 72,
     "metadata": {},
     "output_type": "execute_result"
    }
   ],
   "source": [
    "kn1"
   ]
  },
  {
   "cell_type": "code",
   "execution_count": 78,
   "metadata": {},
   "outputs": [],
   "source": [
    "model = torch.load('../../데이터/Checkpoint/embedding_batch_32_epochs_50_dim_6.pth')\n",
    "\n",
    "model.eval()\n",
    "with torch.no_grad():\n",
    "    embedding_matrix = model.encoder(kn1).numpy()"
   ]
  },
  {
   "cell_type": "code",
   "execution_count": 79,
   "metadata": {},
   "outputs": [
    {
     "data": {
      "text/plain": [
       "array([ 66526.37 ,  73717.07 ,  48849.918, 159731.05 ,  35686.473,\n",
       "        65232.055], dtype=float32)"
      ]
     },
     "execution_count": 79,
     "metadata": {},
     "output_type": "execute_result"
    }
   ],
   "source": [
    "embedding_matrix"
   ]
  },
  {
   "cell_type": "code",
   "execution_count": null,
   "metadata": {},
   "outputs": [],
   "source": []
  }
 ],
 "metadata": {
  "kernelspec": {
   "display_name": "Python 3",
   "language": "python",
   "name": "python3"
  },
  "language_info": {
   "codemirror_mode": {
    "name": "ipython",
    "version": 3
   },
   "file_extension": ".py",
   "mimetype": "text/x-python",
   "name": "python",
   "nbconvert_exporter": "python",
   "pygments_lexer": "ipython3",
   "version": "3.11.4"
  }
 },
 "nbformat": 4,
 "nbformat_minor": 2
}
