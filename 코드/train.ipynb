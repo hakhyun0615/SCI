{
 "cells": [
  {
   "cell_type": "code",
   "execution_count": 4,
   "metadata": {},
   "outputs": [],
   "source": [
    "import numpy as np\n",
    "import pandas as pd\n",
    "\n",
    "import torch\n",
    "from torch import nn\n",
    "from torch.utils.data import DataLoader\n",
    "\n",
    "from Dataset.embedding_dataset import AutoEncoder_Dataset\n",
    "from Model.AutoEncoder import AutoEncoder\n",
    "\n",
    "from Dataset.lstm_dataset import LSTM_Dataset\n",
    "from Model.LSTM import LSTM"
   ]
  },
  {
   "cell_type": "code",
   "execution_count": 5,
   "metadata": {},
   "outputs": [],
   "source": [
    "table_1 = pd.read_excel('../데이터/Table/table_1.xlsx', index_col=0)\n",
    "table_2 = pd.read_excel('../데이터/Table/table_2.xlsx', index_col=0)\n",
    "table_3 = pd.read_excel('../데이터/Table/table_3.xlsx', index_col=0)"
   ]
  },
  {
   "cell_type": "code",
   "execution_count": 6,
   "metadata": {},
   "outputs": [],
   "source": [
    "embedding_batch = 32\n",
    "embedding_epochs = 50\n",
    "embedding_dim = 6\n",
    "\n",
    "lstm_batch = 32\n",
    "lstm_epochs = 50\n",
    "window_size = 5"
   ]
  },
  {
   "cell_type": "markdown",
   "metadata": {},
   "source": [
    "## Embedding"
   ]
  },
  {
   "cell_type": "markdown",
   "metadata": {},
   "source": [
    "### embedding matrix"
   ]
  },
  {
   "cell_type": "code",
   "execution_count": 66,
   "metadata": {},
   "outputs": [],
   "source": [
    "dataset = AutoEncoder_Dataset(table_1, table_2, table_3)\n",
    "dataloader = DataLoader(dataset, batch_size=embedding_batch)"
   ]
  },
  {
   "cell_type": "code",
   "execution_count": 9,
   "metadata": {},
   "outputs": [
    {
     "name": "stdout",
     "output_type": "stream",
     "text": [
      "Epoch [1/50], Train Loss: 680291770.6692\n",
      "Epoch [2/50], Train Loss: 684188173.6263\n",
      "Epoch [3/50], Train Loss: 689512574.3303\n",
      "Epoch [4/50], Train Loss: 692086335.6111\n",
      "Epoch [5/50], Train Loss: 688067731.1787\n",
      "Epoch [6/50], Train Loss: 686715738.7562\n",
      "Epoch [7/50], Train Loss: 682496298.9647\n",
      "Epoch [8/50], Train Loss: 679622162.8559\n",
      "Epoch [9/50], Train Loss: 676958141.1462\n",
      "Epoch [10/50], Train Loss: 674317575.5218\n",
      "Epoch [11/50], Train Loss: 672776078.0742\n",
      "Epoch [12/50], Train Loss: 671834476.7615\n",
      "Epoch [13/50], Train Loss: 673883822.9061\n",
      "Epoch [14/50], Train Loss: 672292985.3853\n",
      "Epoch [15/50], Train Loss: 670222568.7711\n",
      "Epoch [16/50], Train Loss: 668870535.0658\n",
      "Epoch [17/50], Train Loss: 667554694.9468\n",
      "Epoch [18/50], Train Loss: 665938823.2288\n",
      "Epoch [19/50], Train Loss: 664633780.7509\n",
      "Epoch [20/50], Train Loss: 663488408.7713\n",
      "Epoch [21/50], Train Loss: 662454541.6991\n",
      "Epoch [22/50], Train Loss: 661524744.7534\n",
      "Epoch [23/50], Train Loss: 660687875.5072\n",
      "Epoch [24/50], Train Loss: 659936261.2933\n",
      "Epoch [25/50], Train Loss: 659264682.3006\n",
      "Epoch [26/50], Train Loss: 658667835.3006\n",
      "Epoch [27/50], Train Loss: 658140847.1106\n",
      "Epoch [28/50], Train Loss: 657679314.4148\n",
      "Epoch [29/50], Train Loss: 657279127.9802\n",
      "Epoch [30/50], Train Loss: 656936887.6729\n",
      "Epoch [31/50], Train Loss: 656649692.8754\n",
      "Epoch [32/50], Train Loss: 656415033.8458\n",
      "Epoch [33/50], Train Loss: 656229975.2784\n",
      "Epoch [34/50], Train Loss: 656091589.6681\n",
      "Epoch [35/50], Train Loss: 655996267.3913\n",
      "Epoch [36/50], Train Loss: 655941748.9161\n",
      "Epoch [37/50], Train Loss: 655925618.1054\n",
      "Epoch [38/50], Train Loss: 655929750.6365\n",
      "Epoch [39/50], Train Loss: 655876605.0653\n",
      "Epoch [40/50], Train Loss: 655643505.7698\n",
      "Epoch [41/50], Train Loss: 655224559.5265\n",
      "Epoch [42/50], Train Loss: 654759636.5546\n",
      "Epoch [43/50], Train Loss: 654348302.1853\n",
      "Epoch [44/50], Train Loss: 653983909.5080\n",
      "Epoch [45/50], Train Loss: 653624401.1950\n",
      "Epoch [46/50], Train Loss: 653262997.9628\n",
      "Epoch [47/50], Train Loss: 652920866.2509\n",
      "Epoch [48/50], Train Loss: 652610726.2271\n",
      "Epoch [49/50], Train Loss: 652329163.1016\n",
      "Epoch [50/50], Train Loss: 652068203.2658\n"
     ]
    }
   ],
   "source": [
    "model = AutoEncoder(embedding_dim)\n",
    "criterion = nn.MSELoss()\n",
    "optimizer = torch.optim.Adam(model.parameters(), lr=0.001)\n",
    "\n",
    "model.train()\n",
    "train_losses = []\n",
    "for epoch in range(embedding_epochs):\n",
    "    total_train_loss = 0\n",
    "    for data in dataloader:\n",
    "        input = data[0]\n",
    "        target = data[1]\n",
    "        output = model(input)\n",
    "\n",
    "        train_loss = criterion(output, target)\n",
    "        total_train_loss += train_loss.item()\n",
    "\n",
    "        optimizer.zero_grad()\n",
    "        train_loss.backward()\n",
    "        optimizer.step()\n",
    "\n",
    "    avg_train_loss = total_train_loss / len(dataloader)\n",
    "    train_losses.append(avg_train_loss)\n",
    "    print(f'Epoch [{epoch+1}/{embedding_epochs}], Train Loss: {avg_train_loss:.4f}')\n",
    "\n",
    "torch.save(model, f'../데이터/Checkpoint/embedding_batch_{embedding_batch}_epochs_{embedding_epochs}_dim_{embedding_dim}.pth')"
   ]
  },
  {
   "cell_type": "code",
   "execution_count": null,
   "metadata": {},
   "outputs": [
    {
     "data": {
      "image/png": "[encoded data removed]",
      "text/plain": [
       "<Figure size 432x288 with 1 Axes>"
      ]
     },
     "metadata": {
      "needs_background": "light"
     },
     "output_type": "display_data"
    }
   ],
   "source": [
    "import matplotlib.pyplot as plt\n",
    "\n",
    "plt.plot(train_losses)\n",
    "plt.xlabel('Epoch')\n",
    "plt.ylabel('Train Loss')\n",
    "plt.show()"
   ]
  },
  {
   "cell_type": "markdown",
   "metadata": {},
   "source": [
    "## LSTM"
   ]
  },
  {
   "cell_type": "code",
   "execution_count": 7,
   "metadata": {},
   "outputs": [],
   "source": [
    "model = torch.load('../데이터/Checkpoint/embedding_batch_32_epochs_50_dim_6.pth')\n",
    "\n",
    "dataset = LSTM_Dataset(model, table_1, table_2, table_3, '경남1', embedding_dim, window_size)\n",
    "dataloader = DataLoader(dataset, batch_size=lstm_batch)"
   ]
  },
  {
   "cell_type": "code",
   "execution_count": 12,
   "metadata": {},
   "outputs": [
    {
     "name": "stdout",
     "output_type": "stream",
     "text": [
      "torch.Size([32, 5, 6])\n",
      "torch.Size([32, 1])\n"
     ]
    }
   ],
   "source": [
    "for data in dataloader:\n",
    "    print(data[0].shape)\n",
    "    print(data[1].shape)\n",
    "    break"
   ]
  },
  {
   "cell_type": "code",
   "execution_count": null,
   "metadata": {},
   "outputs": [],
   "source": []
  }
 ],
 "metadata": {
  "kernelspec": {
   "display_name": "Python 3",
   "language": "python",
   "name": "python3"
  },
  "language_info": {
   "codemirror_mode": {
    "name": "ipython",
    "version": 3
   },
   "file_extension": ".py",
   "mimetype": "text/x-python",
   "name": "python",
   "nbconvert_exporter": "python",
   "pygments_lexer": "ipython3",
   "version": "3.11.4"
  }
 },
 "nbformat": 4,
 "nbformat_minor": 2
}
