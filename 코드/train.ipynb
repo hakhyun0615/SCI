{
 "cells": [
  {
   "cell_type": "code",
   "execution_count": 1,
   "metadata": {},
   "outputs": [],
   "source": [
    "import numpy as np\n",
    "import pandas as pd\n",
    "\n",
    "import torch\n",
    "import torch.nn as nn\n",
    "from torch.utils.data import DataLoader\n",
    "\n",
    "from Dataset.Economy_Dataset import Economy_Dataset\n",
    "from Dataset.RNN_Transaction_Dataset import RNN_Transaction_Dataset\n",
    "from Dataset.NODE_Transaction_Dataset import NODE_Transaction_Dataset\n",
    "\n",
    "from Model.LSTM import LSTM\n",
    "from Model.NODE import NODE\n",
    "from Model.ODEF import *"
   ]
  },
  {
   "cell_type": "code",
   "execution_count": 2,
   "metadata": {},
   "outputs": [],
   "source": [
    "input_size = 5\n",
    "hidden_size = 256\n",
    "output_size = 1\n",
    "\n",
    "lr = 1e-3\n",
    "num_epochs = 1"
   ]
  },
  {
   "cell_type": "markdown",
   "metadata": {},
   "source": [
    "### 부동산 & 경제"
   ]
  },
  {
   "cell_type": "code",
   "execution_count": 56,
   "metadata": {},
   "outputs": [],
   "source": [
    "transaction_df = pd.read_excel('../데이터/Transaction/transaction_final.xlsx', index_col=0)\n",
    "economy_df = pd.read_excel('../데이터/Economy/economy_all.xlsx')\n",
    "economy_df = economy_df['국고채금리']"
   ]
  },
  {
   "cell_type": "code",
   "execution_count": 4,
   "metadata": {},
   "outputs": [
    {
     "name": "stderr",
     "output_type": "stream",
     "text": [
      "c:\\Users\\USER\\Desktop\\sci\\SCI\\코드\\Dataset\\RNN_Transaction_Dataset.py:8: SettingWithCopyWarning: \n",
      "A value is trying to be set on a copy of a slice from a DataFrame.\n",
      "Try using .loc[row_indexer,col_indexer] = value instead\n",
      "\n",
      "See the caveats in the documentation: https://pandas.pydata.org/pandas-docs/stable/user_guide/indexing.html#returning-a-view-versus-a-copy\n",
      "  data['계약년월'] = pd.to_datetime(data['계약년월'])\n",
      "c:\\Users\\USER\\Desktop\\sci\\SCI\\코드\\Dataset\\RNN_Transaction_Dataset.py:8: SettingWithCopyWarning: \n",
      "A value is trying to be set on a copy of a slice from a DataFrame.\n",
      "Try using .loc[row_indexer,col_indexer] = value instead\n",
      "\n",
      "See the caveats in the documentation: https://pandas.pydata.org/pandas-docs/stable/user_guide/indexing.html#returning-a-view-versus-a-copy\n",
      "  data['계약년월'] = pd.to_datetime(data['계약년월'])\n",
      "c:\\Users\\USER\\Desktop\\sci\\SCI\\코드\\Dataset\\Economy_Dataset.py:11: UserWarning: Failed to initialize NumPy: module compiled against API version 0x10 but this version of numpy is 0xe (Triggered internally at  ..\\torch\\csrc\\utils\\tensor_numpy.cpp:68.)\n",
      "  self.economy_x = torch.FloatTensor(economy_x)\n"
     ]
    }
   ],
   "source": [
    "trainsaction_train_size = int(len(transaction_df)*0.7)\n",
    "trainsaction_val_size = int(len(transaction_df)*0.3)\n",
    "\n",
    "transaction_train_dataset = RNN_Transaction_Dataset(transaction_df[:trainsaction_train_size])\n",
    "transaction_train_loader = DataLoader(transaction_train_dataset, batch_size=2)\n",
    "transaction_val_dataset = RNN_Transaction_Dataset(transaction_df[trainsaction_train_size:])\n",
    "transaction_val_loader = DataLoader(transaction_val_dataset, batch_size=2)\n",
    "\n",
    "economy_train_size = int(len(economy_df)*0.7)\n",
    "economy_val_size = int(len(economy_df)*0.3)\n",
    "\n",
    "economy_train_dataset = Economy_Dataset(economy_df[:economy_train_size])\n",
    "economy_train_loader = DataLoader(economy_train_dataset, batch_size=2)\n",
    "economy_val_dataset = Economy_Dataset(economy_df[economy_train_size:])\n",
    "economy_val_loader = DataLoader(economy_val_dataset, batch_size=2)"
   ]
  },
  {
   "cell_type": "code",
   "execution_count": 6,
   "metadata": {},
   "outputs": [],
   "source": [
    "criterion = nn.MSELoss()\n",
    "optimizer = torch.optim.Adam(model.parameters(), lr=lr)"
   ]
  },
  {
   "cell_type": "markdown",
   "metadata": {},
   "source": [
    "### 경제 모델"
   ]
  },
  {
   "cell_type": "code",
   "execution_count": 16,
   "metadata": {},
   "outputs": [
    {
     "name": "stdout",
     "output_type": "stream",
     "text": [
      "Epoch 0/1, Training Loss: 0.002730900188907981, Validation Loss: 0.3143093644015106\n",
      "Epoch 1/1, Training Loss: 0.0027428490575402975, Validation Loss: 0.31638226120186774\n"
     ]
    }
   ],
   "source": [
    "best_val_loss = float('inf') \n",
    "for epoch in range(num_epochs + 1):\n",
    "    model.train()\n",
    "    for batch_idx, samples in enumerate(economy_train_loader):\n",
    "        economy_x_train, economy_y_train = samples\n",
    "\n",
    "        prediction, hidden = model(economy_x_train)\n",
    "        cost = criterion(prediction, economy_y_train)\n",
    "\n",
    "        optimizer.zero_grad()\n",
    "        cost.backward()\n",
    "        optimizer.step()\n",
    "    \n",
    "    model.eval()\n",
    "    val_loss = 0.0\n",
    "    with torch.no_grad():\n",
    "        for batch_idx, samples in enumerate(economy_val_loader):\n",
    "            economy_x_val, economy_y_val = samples\n",
    "\n",
    "            prediction, hidden = model(economy_x_val)\n",
    "            loss = criterion(prediction, economy_y_val)\n",
    "            val_loss += loss.item()\n",
    "\n",
    "    val_loss /= len(economy_val_loader)\n",
    "    print(f'Epoch {epoch}/{num_epochs}, Training Loss: {cost.item()}, Validation Loss: {val_loss}')\n",
    "    \n",
    "    if val_loss < best_val_loss:\n",
    "        best_val_loss = val_loss\n",
    "        torch.save(model.state_dict(), '../데이터/Checkpoint/best_rnn_economy_model.pth')"
   ]
  },
  {
   "cell_type": "markdown",
   "metadata": {},
   "source": [
    "### 부동산 모델"
   ]
  },
  {
   "cell_type": "code",
   "execution_count": 7,
   "metadata": {},
   "outputs": [
    {
     "name": "stdout",
     "output_type": "stream",
     "text": [
      "Epoch 0/1, Training Loss: 28219.5234375, Validation Loss: 5213844.961625429\n",
      "Epoch 1/1, Training Loss: 27884.662109375, Validation Loss: 5179137.586078938\n"
     ]
    }
   ],
   "source": [
    "best_val_loss = float('inf') \n",
    "for epoch in range(num_epochs + 1):\n",
    "    model.train()\n",
    "    for batch_idx, samples in enumerate(transaction_train_loader):\n",
    "        dong_x_train, dong_y_train = samples\n",
    "\n",
    "        prediction, hidden = model(dong_x_train)\n",
    "        cost = criterion(prediction, dong_y_train)\n",
    "\n",
    "        optimizer.zero_grad()\n",
    "        cost.backward()\n",
    "        optimizer.step()\n",
    "    \n",
    "    model.eval()\n",
    "    val_loss = 0.0\n",
    "    with torch.no_grad():\n",
    "        for batch_idx, samples in enumerate(transaction_val_loader):\n",
    "            x_val, y_val = samples\n",
    "\n",
    "            prediction, hidden = model(x_val)\n",
    "            loss = criterion(prediction, y_val)\n",
    "            val_loss += loss.item()\n",
    "\n",
    "    val_loss /= len(transaction_val_loader)\n",
    "    print(f'Epoch {epoch}/{num_epochs}, Training Loss: {cost.item()}, Validation Loss: {val_loss}')\n",
    "    \n",
    "    if val_loss < best_val_loss:\n",
    "        best_val_loss = val_loss\n",
    "        torch.save(model.state_dict(), '../데이터/Checkpoint/best_rnn_transaction_model.pth')"
   ]
  },
  {
   "cell_type": "markdown",
   "metadata": {},
   "source": [
    "### NODE 부동산 돌리기"
   ]
  },
  {
   "cell_type": "code",
   "execution_count": 3,
   "metadata": {},
   "outputs": [],
   "source": [
    "# 데이터 다운로드\n",
    "batch_size = 2\n",
    "transaction_df = pd.read_excel('../데이터/Transaction/transaction_final.xlsx', index_col=0)\n",
    "\n",
    "train_dataset = NODE_Transaction_Dataset(transaction_df)\n",
    "train_loader = DataLoader(train_dataset, batch_size=batch_size)"
   ]
  },
  {
   "cell_type": "code",
   "execution_count": 4,
   "metadata": {},
   "outputs": [
    {
     "name": "stdout",
     "output_type": "stream",
     "text": [
      "X 크기 : torch.Size([2, 5])\n",
      "Y 크기 : torch.Size([2, 5])\n",
      "Z 크기 : torch.Size([2, 1])\n",
      "W 크기 : torch.Size([2, 1])\n"
     ]
    }
   ],
   "source": [
    "for x,y,z,w in train_loader:\n",
    "  print(\"X 크기 : {}\".format(x.shape))\n",
    "  print(\"Y 크기 : {}\".format(y.shape))\n",
    "  print(\"Z 크기 : {}\".format(z.shape))\n",
    "  print(\"W 크기 : {}\".format(w.shape))\n",
    "  break"
   ]
  },
  {
   "cell_type": "code",
   "execution_count": 5,
   "metadata": {},
   "outputs": [
    {
     "name": "stdout",
     "output_type": "stream",
     "text": [
      "cpu is available\n",
      "작동하는지 실험\n",
      "(tensor([[[0.2557],\n",
      "         [0.3709]],\n",
      "\n",
      "        [[0.2424],\n",
      "         [0.3345]],\n",
      "\n",
      "        [[0.2335],\n",
      "         [0.3235]],\n",
      "\n",
      "        [[0.1692],\n",
      "         [0.6133]],\n",
      "\n",
      "        [[0.2271],\n",
      "         [0.3296]]], grad_fn=<SliceBackward0>), tensor([[[ 0.1382, -0.2968, -0.3954,  ..., -0.4929,  0.3670, -0.5302],\n",
      "         [-0.1231,  0.7634, -0.1463,  ..., -0.6705, -0.0921, -0.1565]],\n",
      "\n",
      "        [[ 0.2822, -0.3295, -0.8586,  ..., -0.0796,  0.2384, -0.6916],\n",
      "         [-0.1886,  0.8688, -0.0208,  ..., -0.9767, -0.2788,  0.0176]],\n",
      "\n",
      "        [[ 0.6642, -0.5114, -1.8981,  ...,  1.4307,  0.4432, -1.0484],\n",
      "         [-0.1664,  0.9165, -0.0366,  ..., -1.0920, -0.4651,  0.1163]],\n",
      "\n",
      "        [[-1.3715, -0.0772,  1.8736,  ..., -1.3853,  1.6791, -0.4888],\n",
      "         [ 0.3066,  0.5329, -0.8165,  ...,  0.2264, -0.2153, -0.8324]],\n",
      "\n",
      "        [[ 0.4074, -0.3756, -1.3000,  ...,  0.4185,  0.2007, -0.8548],\n",
      "         [-0.1938,  0.8935, -0.0100,  ..., -1.0424, -0.3512,  0.0623]],\n",
      "\n",
      "        [[-1.6446, -0.0412,  2.1270,  ..., -1.4371,  1.8288, -0.6079],\n",
      "         [ 0.4374,  0.3606, -0.8995,  ...,  0.4219, -0.2882, -1.2326]]],\n",
      "       grad_fn=<ViewBackward0>), tensor([[-1.1479,  1.4217,  0.7180,  0.8000, -0.6107,  0.4273, -0.7281,  0.5599,\n",
      "          1.6473, -1.0212, -0.1036,  0.8744,  0.0222, -0.9020,  0.6325, -1.1323,\n",
      "         -0.1427, -0.7634,  1.0485,  0.6925,  0.8856,  1.4120, -1.4726,  0.1244,\n",
      "          1.2186,  0.3488, -1.1289, -0.0794,  0.3126, -1.4427,  1.0704, -1.2469,\n",
      "         -0.3023,  0.3272,  1.2220,  0.1123, -0.5617, -0.8110,  0.6367, -0.2403,\n",
      "          1.0788,  2.5369, -0.3826,  0.7098, -0.7841,  0.0946, -1.2404, -0.4544,\n",
      "         -1.1719,  0.2511,  0.5085,  0.1550,  1.0251,  0.7658,  0.9221,  1.8022,\n",
      "         -0.6014,  0.8437,  0.7250, -1.2560, -1.4278, -0.4434,  0.2619,  1.3461],\n",
      "        [-0.8634,  1.1474, -0.8654,  0.4815, -0.5703, -0.6311, -0.4266, -1.4397,\n",
      "         -1.6814, -1.5383,  1.4521, -0.5913,  1.2959,  1.1775, -0.3054,  0.6382,\n",
      "          0.0112, -0.2849, -0.5155,  1.3937,  0.2707, -1.0507,  0.6096, -0.0542,\n",
      "          0.7139, -1.0963,  0.3969,  1.2806,  0.2458,  0.1841,  0.7828, -0.9110,\n",
      "         -0.5390, -0.2550,  0.1668,  0.1481,  0.2262, -0.3044, -1.5125,  0.3581,\n",
      "          0.0737, -0.3492, -0.2811,  0.9131, -0.3821, -1.3355,  0.4196, -0.3064,\n",
      "         -0.3429,  0.8234,  0.4481, -0.8453, -0.2212,  0.5110,  0.4071,  0.9341,\n",
      "         -1.0682, -1.6301,  1.7251,  0.5913,  0.8070,  1.2434,  0.2667,  0.1744]],\n",
      "       grad_fn=<AddBackward0>), tensor([[ 0.0448, -0.0458,  0.0221, -0.0479, -0.0273,  0.0207,  0.0316,  0.0629,\n",
      "         -0.1299, -0.0978,  0.0967, -0.1046,  0.0245, -0.0372, -0.0014, -0.0105,\n",
      "         -0.0418, -0.0417, -0.0401,  0.0504,  0.0084, -0.0121, -0.0606, -0.0730,\n",
      "          0.0966,  0.0336,  0.0060,  0.0839, -0.0402, -0.0498, -0.0155,  0.0197,\n",
      "         -0.0311,  0.0215,  0.0484, -0.0733,  0.0374, -0.0465,  0.0146,  0.0093,\n",
      "         -0.0203,  0.0017, -0.0485, -0.0425, -0.0225,  0.0153,  0.0109, -0.0928,\n",
      "         -0.0101,  0.0050,  0.0129,  0.0164,  0.0698,  0.0389,  0.0348, -0.0300,\n",
      "         -0.0087, -0.0620,  0.0616, -0.0564,  0.0466,  0.0528,  0.0406, -0.0266],\n",
      "        [ 0.0399, -0.0456,  0.0120, -0.0414, -0.0228,  0.0212,  0.0254,  0.0740,\n",
      "         -0.1463, -0.1154,  0.0949, -0.1205,  0.0376, -0.0452, -0.0009, -0.0020,\n",
      "         -0.0306, -0.0390, -0.0434,  0.0558,  0.0009, -0.0009, -0.0634, -0.0794,\n",
      "          0.0983,  0.0421,  0.0095,  0.0931, -0.0402, -0.0371, -0.0108,  0.0236,\n",
      "         -0.0520,  0.0328,  0.0644, -0.0641,  0.0337, -0.0526,  0.0152, -0.0007,\n",
      "         -0.0162,  0.0149, -0.0560, -0.0439, -0.0208,  0.0172,  0.0177, -0.1034,\n",
      "         -0.0218,  0.0213,  0.0063,  0.0135,  0.0802,  0.0468,  0.0268, -0.0113,\n",
      "         -0.0114, -0.0609,  0.0684, -0.0550,  0.0548,  0.0632,  0.0441, -0.0387]],\n",
      "       grad_fn=<SliceBackward0>), tensor([[ 6.4258e-03, -1.0159e-04,  8.6456e-02,  7.6611e-02, -9.2030e-02,\n",
      "         -4.2033e-02,  4.4656e-03,  1.1080e-02,  5.3403e-02, -5.4524e-02,\n",
      "          1.0941e-02,  1.0632e-01, -1.3513e-02, -1.8726e-03, -8.3815e-02,\n",
      "         -7.0132e-02, -5.4193e-02,  1.6709e-02,  2.5353e-02, -1.7140e-02,\n",
      "         -5.1039e-02, -2.7492e-03, -5.0185e-02, -3.0257e-02,  6.7983e-02,\n",
      "          1.7018e-02,  1.9767e-02,  1.8291e-03, -2.3442e-02,  5.6044e-03,\n",
      "         -2.8249e-02, -3.3901e-02,  8.0955e-02,  5.5455e-02, -8.2827e-03,\n",
      "         -2.5050e-03,  3.7316e-02,  1.3008e-02,  7.2235e-02,  7.6503e-03,\n",
      "          3.1430e-02,  6.4355e-02, -4.2287e-02,  4.4561e-02,  3.1562e-02,\n",
      "         -4.5166e-03,  1.8214e-02, -7.4192e-02,  8.1973e-02, -4.8608e-02,\n",
      "          4.2515e-02, -3.1639e-02,  5.0521e-02, -3.8700e-02, -8.5022e-02,\n",
      "         -5.4095e-02, -6.1618e-03, -1.1712e-02,  3.5188e-02,  4.8937e-02,\n",
      "          8.4279e-03,  1.7213e-02, -8.7365e-02, -1.2296e-02],\n",
      "        [ 7.2936e-04, -5.4412e-03,  8.7994e-02,  8.7881e-02, -1.0851e-01,\n",
      "         -4.7679e-02,  9.7941e-03,  6.4130e-03,  5.2390e-02, -5.5728e-02,\n",
      "          1.4276e-02,  1.0699e-01, -7.9807e-03, -1.1811e-02, -9.3513e-02,\n",
      "         -7.5963e-02, -6.3108e-02,  1.5685e-02,  1.9335e-02, -2.1328e-02,\n",
      "         -5.7376e-02,  3.9754e-03, -4.7526e-02, -3.2280e-02,  6.5558e-02,\n",
      "          1.8683e-02,  1.2674e-02, -1.9728e-03, -1.4985e-02,  4.8570e-03,\n",
      "         -2.7708e-02, -3.0554e-02,  8.7203e-02,  5.4387e-02, -8.3588e-03,\n",
      "         -9.0369e-03,  4.4477e-02,  9.1116e-03,  7.9398e-02,  8.1965e-03,\n",
      "          2.8678e-02,  6.8379e-02, -3.9769e-02,  3.9018e-02,  3.1448e-02,\n",
      "          8.5498e-04,  1.4094e-02, -7.6351e-02,  7.6600e-02, -4.8048e-02,\n",
      "          4.5692e-02, -2.9753e-02,  5.6791e-02, -3.4464e-02, -8.6316e-02,\n",
      "         -6.5479e-02,  9.3108e-03, -2.2971e-03,  3.2346e-02,  5.2305e-02,\n",
      "          7.3161e-03, -1.0173e-03, -9.4694e-02, -1.7712e-02]],\n",
      "       grad_fn=<SliceBackward0>), tensor([[0.1531],\n",
      "        [0.8074]], grad_fn=<SelectBackward0>))\n",
      "torch.Size([5, 2, 1])\n"
     ]
    }
   ],
   "source": [
    "# 데이터 & 모델에 device 붙임!!!\n",
    "device = torch.device('cuda:0' if torch.cuda.is_available() else 'cpu')\n",
    "print(f'{device} is available')\n",
    "\n",
    "model = NODE(output_dim=1,hidden_dim=256,latent_dim=64).to(device)\n",
    "\n",
    "print('작동하는지 실험')\n",
    "basic_data = torch.rand((5,2,1))  # window_size, batch_size, 1\n",
    "time = torch.FloatTensor([[1,2,3,6,10,12],[1,3,5,8,10,12]]).reshape(6,2,1) # window_size, batch_size, 1\n",
    "data = model(basic_data,time)\n",
    "print(data)\n",
    "print(data[0].shape)"
   ]
  },
  {
   "cell_type": "code",
   "execution_count": 8,
   "metadata": {},
   "outputs": [],
   "source": [
    "window_size = 5\n",
    "noise_std = 0.02\n",
    "optim = torch.optim.Adam(model.parameters(), betas=(0.9, 0.999), lr=0.001)"
   ]
  },
  {
   "cell_type": "code",
   "execution_count": 13,
   "metadata": {},
   "outputs": [
    {
     "name": "stdout",
     "output_type": "stream",
     "text": [
      "epoch :  0\n"
     ]
    },
    {
     "ename": "KeyboardInterrupt",
     "evalue": "",
     "output_type": "error",
     "traceback": [
      "\u001b[1;31m---------------------------------------------------------------------------\u001b[0m",
      "\u001b[1;31mKeyboardInterrupt\u001b[0m                         Traceback (most recent call last)",
      "Cell \u001b[1;32mIn[13], line 13\u001b[0m\n\u001b[0;32m     10\u001b[0m tran_x \u001b[39m=\u001b[39m tran_x\u001b[39m.\u001b[39mtranspose(\u001b[39m0\u001b[39m,\u001b[39m1\u001b[39m)\u001b[39m.\u001b[39munsqueeze(\u001b[39m2\u001b[39m)\u001b[39m.\u001b[39mto(device)\n\u001b[0;32m     11\u001b[0m t \u001b[39m=\u001b[39m t\u001b[39m.\u001b[39mtranspose(\u001b[39m0\u001b[39m,\u001b[39m1\u001b[39m)\u001b[39m.\u001b[39munsqueeze(\u001b[39m2\u001b[39m)\u001b[39m.\u001b[39mto(device)\n\u001b[1;32m---> 13\u001b[0m x_p, _, z, z_mean, z_log_var, pred \u001b[39m=\u001b[39m model(tran_x, t)\n\u001b[0;32m     14\u001b[0m kl_loss \u001b[39m=\u001b[39m \u001b[39m-\u001b[39m\u001b[39m0.5\u001b[39m \u001b[39m*\u001b[39m torch\u001b[39m.\u001b[39msum(\u001b[39m1\u001b[39m \u001b[39m+\u001b[39m z_log_var \u001b[39m-\u001b[39m z_mean\u001b[39m*\u001b[39m\u001b[39m*\u001b[39m\u001b[39m2\u001b[39m \u001b[39m-\u001b[39m torch\u001b[39m.\u001b[39mexp(z_log_var), \u001b[39m-\u001b[39m\u001b[39m1\u001b[39m)\n\u001b[0;32m     15\u001b[0m loss \u001b[39m=\u001b[39m \u001b[39m0.5\u001b[39m \u001b[39m*\u001b[39m ((x\u001b[39m-\u001b[39mx_p)\u001b[39m*\u001b[39m\u001b[39m*\u001b[39m\u001b[39m2\u001b[39m)\u001b[39m.\u001b[39msum(\u001b[39m-\u001b[39m\u001b[39m1\u001b[39m)\u001b[39m.\u001b[39msum(\u001b[39m0\u001b[39m) \u001b[39m/\u001b[39m noise_std\u001b[39m*\u001b[39m\u001b[39m*\u001b[39m\u001b[39m2\u001b[39m \u001b[39m+\u001b[39m kl_loss\n",
      "File \u001b[1;32mc:\\Users\\hkyoo\\AppData\\Local\\Programs\\Python\\Python311\\Lib\\site-packages\\torch\\nn\\modules\\module.py:1501\u001b[0m, in \u001b[0;36mModule._call_impl\u001b[1;34m(self, *args, **kwargs)\u001b[0m\n\u001b[0;32m   1496\u001b[0m \u001b[39m# If we don't have any hooks, we want to skip the rest of the logic in\u001b[39;00m\n\u001b[0;32m   1497\u001b[0m \u001b[39m# this function, and just call forward.\u001b[39;00m\n\u001b[0;32m   1498\u001b[0m \u001b[39mif\u001b[39;00m \u001b[39mnot\u001b[39;00m (\u001b[39mself\u001b[39m\u001b[39m.\u001b[39m_backward_hooks \u001b[39mor\u001b[39;00m \u001b[39mself\u001b[39m\u001b[39m.\u001b[39m_backward_pre_hooks \u001b[39mor\u001b[39;00m \u001b[39mself\u001b[39m\u001b[39m.\u001b[39m_forward_hooks \u001b[39mor\u001b[39;00m \u001b[39mself\u001b[39m\u001b[39m.\u001b[39m_forward_pre_hooks\n\u001b[0;32m   1499\u001b[0m         \u001b[39mor\u001b[39;00m _global_backward_pre_hooks \u001b[39mor\u001b[39;00m _global_backward_hooks\n\u001b[0;32m   1500\u001b[0m         \u001b[39mor\u001b[39;00m _global_forward_hooks \u001b[39mor\u001b[39;00m _global_forward_pre_hooks):\n\u001b[1;32m-> 1501\u001b[0m     \u001b[39mreturn\u001b[39;00m forward_call(\u001b[39m*\u001b[39;49margs, \u001b[39m*\u001b[39;49m\u001b[39m*\u001b[39;49mkwargs)\n\u001b[0;32m   1502\u001b[0m \u001b[39m# Do not call functions when jit is used\u001b[39;00m\n\u001b[0;32m   1503\u001b[0m full_backward_hooks, non_full_backward_hooks \u001b[39m=\u001b[39m [], []\n",
      "File \u001b[1;32mc:\\Users\\hkyoo\\OneDrive\\바탕 화면\\SCI\\코드\\Model\\NODE.py:70\u001b[0m, in \u001b[0;36mNODE.forward\u001b[1;34m(self, x, t, MAP)\u001b[0m\n\u001b[0;32m     68\u001b[0m \u001b[39melse\u001b[39;00m:\n\u001b[0;32m     69\u001b[0m     z \u001b[39m=\u001b[39m z_mean \u001b[39m+\u001b[39m torch\u001b[39m.\u001b[39mrandn_like(z_mean) \u001b[39m*\u001b[39m torch\u001b[39m.\u001b[39mexp(\u001b[39m0.5\u001b[39m \u001b[39m*\u001b[39m z_log_var)\n\u001b[1;32m---> 70\u001b[0m x_p, hs \u001b[39m=\u001b[39m \u001b[39mself\u001b[39;49m\u001b[39m.\u001b[39;49mdecoder(z, t)\n\u001b[0;32m     72\u001b[0m \u001b[39m# x값과 동일값, hidden_state, z, z_mean, z_log, 예측값\u001b[39;00m\n\u001b[0;32m     73\u001b[0m \u001b[39mreturn\u001b[39;00m x_p[:\u001b[39m-\u001b[39m\u001b[39m1\u001b[39m], hs, z, z_mean, z_log_var, x_p[\u001b[39m-\u001b[39m\u001b[39m1\u001b[39m]\n",
      "File \u001b[1;32mc:\\Users\\hkyoo\\AppData\\Local\\Programs\\Python\\Python311\\Lib\\site-packages\\torch\\nn\\modules\\module.py:1501\u001b[0m, in \u001b[0;36mModule._call_impl\u001b[1;34m(self, *args, **kwargs)\u001b[0m\n\u001b[0;32m   1496\u001b[0m \u001b[39m# If we don't have any hooks, we want to skip the rest of the logic in\u001b[39;00m\n\u001b[0;32m   1497\u001b[0m \u001b[39m# this function, and just call forward.\u001b[39;00m\n\u001b[0;32m   1498\u001b[0m \u001b[39mif\u001b[39;00m \u001b[39mnot\u001b[39;00m (\u001b[39mself\u001b[39m\u001b[39m.\u001b[39m_backward_hooks \u001b[39mor\u001b[39;00m \u001b[39mself\u001b[39m\u001b[39m.\u001b[39m_backward_pre_hooks \u001b[39mor\u001b[39;00m \u001b[39mself\u001b[39m\u001b[39m.\u001b[39m_forward_hooks \u001b[39mor\u001b[39;00m \u001b[39mself\u001b[39m\u001b[39m.\u001b[39m_forward_pre_hooks\n\u001b[0;32m   1499\u001b[0m         \u001b[39mor\u001b[39;00m _global_backward_pre_hooks \u001b[39mor\u001b[39;00m _global_backward_hooks\n\u001b[0;32m   1500\u001b[0m         \u001b[39mor\u001b[39;00m _global_forward_hooks \u001b[39mor\u001b[39;00m _global_forward_pre_hooks):\n\u001b[1;32m-> 1501\u001b[0m     \u001b[39mreturn\u001b[39;00m forward_call(\u001b[39m*\u001b[39;49margs, \u001b[39m*\u001b[39;49m\u001b[39m*\u001b[39;49mkwargs)\n\u001b[0;32m   1502\u001b[0m \u001b[39m# Do not call functions when jit is used\u001b[39;00m\n\u001b[0;32m   1503\u001b[0m full_backward_hooks, non_full_backward_hooks \u001b[39m=\u001b[39m [], []\n",
      "File \u001b[1;32mc:\\Users\\hkyoo\\OneDrive\\바탕 화면\\SCI\\코드\\Model\\NODE.py:45\u001b[0m, in \u001b[0;36mNeuralODEDecoder.forward\u001b[1;34m(self, z0, t)\u001b[0m\n\u001b[0;32m     44\u001b[0m \u001b[39mdef\u001b[39;00m \u001b[39mforward\u001b[39m(\u001b[39mself\u001b[39m, z0, t):\n\u001b[1;32m---> 45\u001b[0m     zs \u001b[39m=\u001b[39m \u001b[39mself\u001b[39;49m\u001b[39m.\u001b[39;49mode(z0, t, return_whole_sequence\u001b[39m=\u001b[39;49m\u001b[39mTrue\u001b[39;49;00m)\n\u001b[0;32m     47\u001b[0m     hs \u001b[39m=\u001b[39m \u001b[39mself\u001b[39m\u001b[39m.\u001b[39ml2h(zs)\n\u001b[0;32m     48\u001b[0m     xs \u001b[39m=\u001b[39m \u001b[39mself\u001b[39m\u001b[39m.\u001b[39mh2o(hs)\n",
      "File \u001b[1;32mc:\\Users\\hkyoo\\AppData\\Local\\Programs\\Python\\Python311\\Lib\\site-packages\\torch\\nn\\modules\\module.py:1501\u001b[0m, in \u001b[0;36mModule._call_impl\u001b[1;34m(self, *args, **kwargs)\u001b[0m\n\u001b[0;32m   1496\u001b[0m \u001b[39m# If we don't have any hooks, we want to skip the rest of the logic in\u001b[39;00m\n\u001b[0;32m   1497\u001b[0m \u001b[39m# this function, and just call forward.\u001b[39;00m\n\u001b[0;32m   1498\u001b[0m \u001b[39mif\u001b[39;00m \u001b[39mnot\u001b[39;00m (\u001b[39mself\u001b[39m\u001b[39m.\u001b[39m_backward_hooks \u001b[39mor\u001b[39;00m \u001b[39mself\u001b[39m\u001b[39m.\u001b[39m_backward_pre_hooks \u001b[39mor\u001b[39;00m \u001b[39mself\u001b[39m\u001b[39m.\u001b[39m_forward_hooks \u001b[39mor\u001b[39;00m \u001b[39mself\u001b[39m\u001b[39m.\u001b[39m_forward_pre_hooks\n\u001b[0;32m   1499\u001b[0m         \u001b[39mor\u001b[39;00m _global_backward_pre_hooks \u001b[39mor\u001b[39;00m _global_backward_hooks\n\u001b[0;32m   1500\u001b[0m         \u001b[39mor\u001b[39;00m _global_forward_hooks \u001b[39mor\u001b[39;00m _global_forward_pre_hooks):\n\u001b[1;32m-> 1501\u001b[0m     \u001b[39mreturn\u001b[39;00m forward_call(\u001b[39m*\u001b[39;49margs, \u001b[39m*\u001b[39;49m\u001b[39m*\u001b[39;49mkwargs)\n\u001b[0;32m   1502\u001b[0m \u001b[39m# Do not call functions when jit is used\u001b[39;00m\n\u001b[0;32m   1503\u001b[0m full_backward_hooks, non_full_backward_hooks \u001b[39m=\u001b[39m [], []\n",
      "File \u001b[1;32mc:\\Users\\hkyoo\\OneDrive\\바탕 화면\\SCI\\코드\\Model\\ODEF.py:147\u001b[0m, in \u001b[0;36mNeuralODE.forward\u001b[1;34m(self, z0, t, return_whole_sequence)\u001b[0m\n\u001b[0;32m    145\u001b[0m \u001b[39mdef\u001b[39;00m \u001b[39mforward\u001b[39m(\u001b[39mself\u001b[39m, z0, t\u001b[39m=\u001b[39mTensor([\u001b[39m0.\u001b[39m, \u001b[39m1.\u001b[39m]), return_whole_sequence\u001b[39m=\u001b[39m\u001b[39mFalse\u001b[39;00m):\n\u001b[0;32m    146\u001b[0m     t \u001b[39m=\u001b[39m t\u001b[39m.\u001b[39mto(z0)\n\u001b[1;32m--> 147\u001b[0m     z \u001b[39m=\u001b[39m ODEAdjoint\u001b[39m.\u001b[39;49mapply(z0, t, \u001b[39mself\u001b[39;49m\u001b[39m.\u001b[39;49mfunc\u001b[39m.\u001b[39;49mflatten_parameters(), \u001b[39mself\u001b[39;49m\u001b[39m.\u001b[39;49mfunc)\n\u001b[0;32m    148\u001b[0m     \u001b[39mif\u001b[39;00m return_whole_sequence:\n\u001b[0;32m    149\u001b[0m         \u001b[39mreturn\u001b[39;00m z\n",
      "File \u001b[1;32mc:\\Users\\hkyoo\\AppData\\Local\\Programs\\Python\\Python311\\Lib\\site-packages\\torch\\autograd\\function.py:506\u001b[0m, in \u001b[0;36mFunction.apply\u001b[1;34m(cls, *args, **kwargs)\u001b[0m\n\u001b[0;32m    503\u001b[0m \u001b[39mif\u001b[39;00m \u001b[39mnot\u001b[39;00m torch\u001b[39m.\u001b[39m_C\u001b[39m.\u001b[39m_are_functorch_transforms_active():\n\u001b[0;32m    504\u001b[0m     \u001b[39m# See NOTE: [functorch vjp and autograd interaction]\u001b[39;00m\n\u001b[0;32m    505\u001b[0m     args \u001b[39m=\u001b[39m _functorch\u001b[39m.\u001b[39mutils\u001b[39m.\u001b[39munwrap_dead_wrappers(args)\n\u001b[1;32m--> 506\u001b[0m     \u001b[39mreturn\u001b[39;00m \u001b[39msuper\u001b[39;49m()\u001b[39m.\u001b[39;49mapply(\u001b[39m*\u001b[39;49margs, \u001b[39m*\u001b[39;49m\u001b[39m*\u001b[39;49mkwargs)  \u001b[39m# type: ignore[misc]\u001b[39;00m\n\u001b[0;32m    508\u001b[0m \u001b[39mif\u001b[39;00m \u001b[39mcls\u001b[39m\u001b[39m.\u001b[39msetup_context \u001b[39m==\u001b[39m _SingleLevelFunction\u001b[39m.\u001b[39msetup_context:\n\u001b[0;32m    509\u001b[0m     \u001b[39mraise\u001b[39;00m \u001b[39mRuntimeError\u001b[39;00m(\n\u001b[0;32m    510\u001b[0m         \u001b[39m'\u001b[39m\u001b[39mIn order to use an autograd.Function with functorch transforms \u001b[39m\u001b[39m'\u001b[39m\n\u001b[0;32m    511\u001b[0m         \u001b[39m'\u001b[39m\u001b[39m(vmap, grad, jvp, jacrev, ...), it must override the setup_context \u001b[39m\u001b[39m'\u001b[39m\n\u001b[0;32m    512\u001b[0m         \u001b[39m'\u001b[39m\u001b[39mstaticmethod. For more details, please see \u001b[39m\u001b[39m'\u001b[39m\n\u001b[0;32m    513\u001b[0m         \u001b[39m'\u001b[39m\u001b[39mhttps://pytorch.org/docs/master/notes/extending.func.html\u001b[39m\u001b[39m'\u001b[39m)\n",
      "File \u001b[1;32mc:\\Users\\hkyoo\\OneDrive\\바탕 화면\\SCI\\코드\\Model\\ODEF.py:71\u001b[0m, in \u001b[0;36mODEAdjoint.forward\u001b[1;34m(ctx, z0, t, flat_parameters, func)\u001b[0m\n\u001b[0;32m     69\u001b[0m     z[\u001b[39m0\u001b[39m] \u001b[39m=\u001b[39m z0\n\u001b[0;32m     70\u001b[0m     \u001b[39mfor\u001b[39;00m i_t \u001b[39min\u001b[39;00m \u001b[39mrange\u001b[39m(time_len\u001b[39m-\u001b[39m\u001b[39m1\u001b[39m):\n\u001b[1;32m---> 71\u001b[0m         z0 \u001b[39m=\u001b[39m ode_solve(z0, t[i_t], t[i_t\u001b[39m+\u001b[39;49m\u001b[39m1\u001b[39;49m], func)\n\u001b[0;32m     72\u001b[0m         z[i_t\u001b[39m+\u001b[39m\u001b[39m1\u001b[39m] \u001b[39m=\u001b[39m z0\n\u001b[0;32m     74\u001b[0m ctx\u001b[39m.\u001b[39mfunc \u001b[39m=\u001b[39m func\n",
      "File \u001b[1;32mc:\\Users\\hkyoo\\OneDrive\\바탕 화면\\SCI\\코드\\Model\\ODEF.py:27\u001b[0m, in \u001b[0;36mode_solve\u001b[1;34m(z0, t0, t1, f)\u001b[0m\n\u001b[0;32m     24\u001b[0m z \u001b[39m=\u001b[39m z0\n\u001b[0;32m     26\u001b[0m \u001b[39mfor\u001b[39;00m i_step \u001b[39min\u001b[39;00m \u001b[39mrange\u001b[39m(n_steps):\n\u001b[1;32m---> 27\u001b[0m     z \u001b[39m=\u001b[39m z \u001b[39m+\u001b[39m h \u001b[39m*\u001b[39m f(z, t)\n\u001b[0;32m     28\u001b[0m     t \u001b[39m=\u001b[39m t \u001b[39m+\u001b[39m h\n\u001b[0;32m     29\u001b[0m \u001b[39mreturn\u001b[39;00m z\n",
      "File \u001b[1;32mc:\\Users\\hkyoo\\AppData\\Local\\Programs\\Python\\Python311\\Lib\\site-packages\\torch\\nn\\modules\\module.py:1501\u001b[0m, in \u001b[0;36mModule._call_impl\u001b[1;34m(self, *args, **kwargs)\u001b[0m\n\u001b[0;32m   1496\u001b[0m \u001b[39m# If we don't have any hooks, we want to skip the rest of the logic in\u001b[39;00m\n\u001b[0;32m   1497\u001b[0m \u001b[39m# this function, and just call forward.\u001b[39;00m\n\u001b[0;32m   1498\u001b[0m \u001b[39mif\u001b[39;00m \u001b[39mnot\u001b[39;00m (\u001b[39mself\u001b[39m\u001b[39m.\u001b[39m_backward_hooks \u001b[39mor\u001b[39;00m \u001b[39mself\u001b[39m\u001b[39m.\u001b[39m_backward_pre_hooks \u001b[39mor\u001b[39;00m \u001b[39mself\u001b[39m\u001b[39m.\u001b[39m_forward_hooks \u001b[39mor\u001b[39;00m \u001b[39mself\u001b[39m\u001b[39m.\u001b[39m_forward_pre_hooks\n\u001b[0;32m   1499\u001b[0m         \u001b[39mor\u001b[39;00m _global_backward_pre_hooks \u001b[39mor\u001b[39;00m _global_backward_hooks\n\u001b[0;32m   1500\u001b[0m         \u001b[39mor\u001b[39;00m _global_forward_hooks \u001b[39mor\u001b[39;00m _global_forward_pre_hooks):\n\u001b[1;32m-> 1501\u001b[0m     \u001b[39mreturn\u001b[39;00m forward_call(\u001b[39m*\u001b[39;49margs, \u001b[39m*\u001b[39;49m\u001b[39m*\u001b[39;49mkwargs)\n\u001b[0;32m   1502\u001b[0m \u001b[39m# Do not call functions when jit is used\u001b[39;00m\n\u001b[0;32m   1503\u001b[0m full_backward_hooks, non_full_backward_hooks \u001b[39m=\u001b[39m [], []\n",
      "File \u001b[1;32mc:\\Users\\hkyoo\\OneDrive\\바탕 화면\\SCI\\코드\\Model\\ODEF.py:171\u001b[0m, in \u001b[0;36mNNODEF.forward\u001b[1;34m(self, x, t)\u001b[0m\n\u001b[0;32m    168\u001b[0m \u001b[39mif\u001b[39;00m \u001b[39mnot\u001b[39;00m \u001b[39mself\u001b[39m\u001b[39m.\u001b[39mtime_invariant:\n\u001b[0;32m    169\u001b[0m     x \u001b[39m=\u001b[39m torch\u001b[39m.\u001b[39mcat((x, t), dim\u001b[39m=\u001b[39m\u001b[39m-\u001b[39m\u001b[39m1\u001b[39m)\n\u001b[1;32m--> 171\u001b[0m h \u001b[39m=\u001b[39m \u001b[39mself\u001b[39m\u001b[39m.\u001b[39melu(\u001b[39mself\u001b[39;49m\u001b[39m.\u001b[39;49mlin1(x))\n\u001b[0;32m    172\u001b[0m h \u001b[39m=\u001b[39m \u001b[39mself\u001b[39m\u001b[39m.\u001b[39melu(\u001b[39mself\u001b[39m\u001b[39m.\u001b[39mlin2(h))\n\u001b[0;32m    173\u001b[0m out \u001b[39m=\u001b[39m \u001b[39mself\u001b[39m\u001b[39m.\u001b[39mlin3(h)\n",
      "File \u001b[1;32mc:\\Users\\hkyoo\\AppData\\Local\\Programs\\Python\\Python311\\Lib\\site-packages\\torch\\nn\\modules\\module.py:1501\u001b[0m, in \u001b[0;36mModule._call_impl\u001b[1;34m(self, *args, **kwargs)\u001b[0m\n\u001b[0;32m   1496\u001b[0m \u001b[39m# If we don't have any hooks, we want to skip the rest of the logic in\u001b[39;00m\n\u001b[0;32m   1497\u001b[0m \u001b[39m# this function, and just call forward.\u001b[39;00m\n\u001b[0;32m   1498\u001b[0m \u001b[39mif\u001b[39;00m \u001b[39mnot\u001b[39;00m (\u001b[39mself\u001b[39m\u001b[39m.\u001b[39m_backward_hooks \u001b[39mor\u001b[39;00m \u001b[39mself\u001b[39m\u001b[39m.\u001b[39m_backward_pre_hooks \u001b[39mor\u001b[39;00m \u001b[39mself\u001b[39m\u001b[39m.\u001b[39m_forward_hooks \u001b[39mor\u001b[39;00m \u001b[39mself\u001b[39m\u001b[39m.\u001b[39m_forward_pre_hooks\n\u001b[0;32m   1499\u001b[0m         \u001b[39mor\u001b[39;00m _global_backward_pre_hooks \u001b[39mor\u001b[39;00m _global_backward_hooks\n\u001b[0;32m   1500\u001b[0m         \u001b[39mor\u001b[39;00m _global_forward_hooks \u001b[39mor\u001b[39;00m _global_forward_pre_hooks):\n\u001b[1;32m-> 1501\u001b[0m     \u001b[39mreturn\u001b[39;00m forward_call(\u001b[39m*\u001b[39;49margs, \u001b[39m*\u001b[39;49m\u001b[39m*\u001b[39;49mkwargs)\n\u001b[0;32m   1502\u001b[0m \u001b[39m# Do not call functions when jit is used\u001b[39;00m\n\u001b[0;32m   1503\u001b[0m full_backward_hooks, non_full_backward_hooks \u001b[39m=\u001b[39m [], []\n",
      "File \u001b[1;32mc:\\Users\\hkyoo\\AppData\\Local\\Programs\\Python\\Python311\\Lib\\site-packages\\torch\\nn\\modules\\linear.py:114\u001b[0m, in \u001b[0;36mLinear.forward\u001b[1;34m(self, input)\u001b[0m\n\u001b[0;32m    113\u001b[0m \u001b[39mdef\u001b[39;00m \u001b[39mforward\u001b[39m(\u001b[39mself\u001b[39m, \u001b[39minput\u001b[39m: Tensor) \u001b[39m-\u001b[39m\u001b[39m>\u001b[39m Tensor:\n\u001b[1;32m--> 114\u001b[0m     \u001b[39mreturn\u001b[39;00m F\u001b[39m.\u001b[39;49mlinear(\u001b[39minput\u001b[39;49m, \u001b[39mself\u001b[39;49m\u001b[39m.\u001b[39;49mweight, \u001b[39mself\u001b[39;49m\u001b[39m.\u001b[39;49mbias)\n",
      "\u001b[1;31mKeyboardInterrupt\u001b[0m: "
     ]
    }
   ],
   "source": [
    "best_train_loss = float('inf') \n",
    "for epoch in range(num_epochs + 1):\n",
    "    print('epoch : ',epoch)\n",
    "    losses = []\n",
    "    model.train()\n",
    "    for batch_idx, samples in enumerate(train_loader):\n",
    "        tran_x, time_x, tran_y, time_y = samples\n",
    "\n",
    "        t = torch.cat((time_x,time_y),dim=1)\n",
    "        \n",
    "        tran_x = tran_x.transpose(0,1).unsqueeze(2).to(device)\n",
    "        t = t.transpose(0,1).unsqueeze(2).to(device)\n",
    "        \n",
    "        x_p, _, z, z_mean, z_log_var, pred = model(tran_x, t)\n",
    "        kl_loss = -0.5 * torch.sum(1 + z_log_var - z_mean**2 - torch.exp(z_log_var), -1)\n",
    "        loss = 0.5 * ((x-x_p)**2).sum(-1).sum(0) / noise_std**2 + kl_loss\n",
    "        loss = torch.mean(loss)\n",
    "        loss /= window_size\n",
    "        loss.backward()\n",
    "        optim.step()\n",
    "        losses.append(loss.item())\n",
    "        \n",
    "        if loss < best_train_loss:\n",
    "            best_train_loss = loss\n",
    "            torch.save(model.state_dict(), '../데이터/checkpoint/best_ODE_transaction_model.pth')\n",
    "        \n",
    "        print('loss : {}, best loss : {}'.format(loss, train_best_loss))\n",
    "    print('-----------------------------------------------------')"
   ]
  },
  {
   "cell_type": "code",
   "execution_count": null,
   "metadata": {},
   "outputs": [],
   "source": []
  },
  {
   "cell_type": "code",
   "execution_count": null,
   "metadata": {},
   "outputs": [],
   "source": []
  },
  {
   "cell_type": "markdown",
   "metadata": {},
   "source": [
    "### ODE 실험"
   ]
  },
  {
   "cell_type": "code",
   "execution_count": 37,
   "metadata": {},
   "outputs": [],
   "source": [
    "import math\n",
    "import numpy as np\n",
    "from IPython.display import clear_output\n",
    "\n",
    "\n",
    "import torch\n",
    "from torch import Tensor\n",
    "from torch import nn\n",
    "from torch.nn  import functional as F \n",
    "from torch.autograd import Variable\n",
    "\n",
    "use_cuda = torch.cuda.is_available()"
   ]
  },
  {
   "cell_type": "code",
   "execution_count": 30,
   "metadata": {},
   "outputs": [],
   "source": [
    "class ODEF(nn.Module):\n",
    "    def forward_with_grad(self, z, t, grad_outputs):\n",
    "        \"\"\"Compute f and a df/dz, a df/dp, a df/dt\"\"\"\n",
    "        batch_size = z.shape[0]\n",
    "\n",
    "        out = self.forward(z, t)\n",
    "\n",
    "        a = grad_outputs\n",
    "        adfdz, adfdt, *adfdp = torch.autograd.grad(\n",
    "            (out,), (z, t) + tuple(self.parameters()), grad_outputs=(a),\n",
    "            allow_unused=True, retain_graph=True\n",
    "        )\n",
    "        # grad method automatically sums gradients for batch items, we have to expand them back \n",
    "        if adfdp is not None:\n",
    "            adfdp = torch.cat([p_grad.flatten() for p_grad in adfdp]).unsqueeze(0)\n",
    "            adfdp = adfdp.expand(batch_size, -1) / batch_size\n",
    "        if adfdt is not None:\n",
    "            adfdt = adfdt.expand(batch_size, 1) / batch_size\n",
    "        return out, adfdz, adfdt, adfdp\n",
    "\n",
    "    def flatten_parameters(self):\n",
    "        p_shapes = []\n",
    "        flat_parameters = []\n",
    "        for p in self.parameters():\n",
    "            p_shapes.append(p.size())\n",
    "            flat_parameters.append(p.flatten())\n",
    "        return torch.cat(flat_parameters)\n",
    "    \n",
    "class LinearODEF(ODEF):\n",
    "    def __init__(self, W):\n",
    "        super(LinearODEF, self).__init__()\n",
    "        self.lin = nn.Linear(2, 2, bias=False)\n",
    "        self.lin.weight = nn.Parameter(W)\n",
    "\n",
    "    def forward(self, x, t):\n",
    "        return self.lin(x)\n",
    "    \n",
    "class NeuralODE(nn.Module):\n",
    "    def __init__(self, func):\n",
    "        super(NeuralODE, self).__init__()\n",
    "        assert isinstance(func, ODEF)\n",
    "        self.func = func\n",
    "\n",
    "    def forward(self, z0, t=Tensor([0., 1.]), return_whole_sequence=False):\n",
    "        t = t.to(z0)\n",
    "        z = ODEAdjoint.apply(z0, t, self.func.flatten_parameters(), self.func)\n",
    "        if return_whole_sequence:\n",
    "            return z\n",
    "        else:\n",
    "            return z[-1]"
   ]
  },
  {
   "cell_type": "code",
   "execution_count": 32,
   "metadata": {},
   "outputs": [],
   "source": [
    "class ODEAdjoint(torch.autograd.Function):\n",
    "    @staticmethod\n",
    "    def forward(ctx, z0, t, flat_parameters, func):\n",
    "        assert isinstance(func, ODEF)\n",
    "        bs, *z_shape = z0.size()\n",
    "        time_len = t.size(0)\n",
    "\n",
    "        with torch.no_grad():\n",
    "            z = torch.zeros(time_len, bs, *z_shape).to(z0)\n",
    "            z[0] = z0\n",
    "            for i_t in range(time_len - 1):\n",
    "                z0 = ode_solve(z0, t[i_t], t[i_t+1], func)\n",
    "                z[i_t+1] = z0\n",
    "\n",
    "        ctx.func = func\n",
    "        ctx.save_for_backward(t, z.clone(), flat_parameters)\n",
    "        return z\n",
    "\n",
    "    @staticmethod\n",
    "    def backward(ctx, dLdz):\n",
    "        \"\"\"\n",
    "        dLdz shape: time_len, batch_size, *z_shape\n",
    "        \"\"\"\n",
    "        func = ctx.func\n",
    "        t, z, flat_parameters = ctx.saved_tensors\n",
    "        time_len, bs, *z_shape = z.size()\n",
    "        n_dim = np.prod(z_shape)\n",
    "        n_params = flat_parameters.size(0)\n",
    "\n",
    "        # Dynamics of augmented system to be calculated backwards in time\n",
    "        def augmented_dynamics(aug_z_i, t_i):\n",
    "            \"\"\"\n",
    "            tensors here are temporal slices\n",
    "            t_i - is tensor with size: bs, 1\n",
    "            aug_z_i - is tensor with size: bs, n_dim*2 + n_params + 1\n",
    "            \"\"\"\n",
    "            z_i, a = aug_z_i[:, :n_dim], aug_z_i[:, n_dim:2*n_dim]  # ignore parameters and time\n",
    "\n",
    "            # Unflatten z and a\n",
    "            z_i = z_i.view(bs, *z_shape)\n",
    "            a = a.view(bs, *z_shape)\n",
    "            with torch.set_grad_enabled(True):\n",
    "                t_i = t_i.detach().requires_grad_(True)\n",
    "                z_i = z_i.detach().requires_grad_(True)\n",
    "                func_eval, adfdz, adfdt, adfdp = func.forward_with_grad(z_i, t_i, grad_outputs=a)  # bs, *z_shape\n",
    "                adfdz = adfdz.to(z_i) if adfdz is not None else torch.zeros(bs, *z_shape).to(z_i)\n",
    "                adfdp = adfdp.to(z_i) if adfdp is not None else torch.zeros(bs, n_params).to(z_i)\n",
    "                adfdt = adfdt.to(z_i) if adfdt is not None else torch.zeros(bs, 1).to(z_i)\n",
    "\n",
    "            # Flatten f and adfdz\n",
    "            func_eval = func_eval.view(bs, n_dim)\n",
    "            adfdz = adfdz.view(bs, n_dim) \n",
    "            return torch.cat((func_eval, -adfdz, -adfdp, -adfdt), dim=1)\n",
    "\n",
    "        dLdz = dLdz.view(time_len, bs, n_dim)  # flatten dLdz for convenience\n",
    "        with torch.no_grad():\n",
    "            ## Create placeholders for output gradients\n",
    "            # Prev computed backwards adjoints to be adjusted by direct gradients\n",
    "            adj_z = torch.zeros(bs, n_dim).to(dLdz)\n",
    "            adj_p = torch.zeros(bs, n_params).to(dLdz)\n",
    "            # In contrast to z and p we need to return gradients for all times\n",
    "            adj_t = torch.zeros(time_len, bs, 1).to(dLdz)\n",
    "\n",
    "            for i_t in range(time_len-1, 0, -1):\n",
    "                z_i = z[i_t]\n",
    "                t_i = t[i_t]\n",
    "                f_i = func(z_i, t_i).view(bs, n_dim)\n",
    "\n",
    "                # Compute direct gradients\n",
    "                dLdz_i = dLdz[i_t]\n",
    "                dLdt_i = torch.bmm(torch.transpose(dLdz_i.unsqueeze(-1), 1, 2), f_i.unsqueeze(-1))[:, 0]\n",
    "\n",
    "                # Adjusting adjoints with direct gradients\n",
    "                adj_z += dLdz_i\n",
    "                adj_t[i_t] = adj_t[i_t] - dLdt_i\n",
    "\n",
    "                # Pack augmented variable\n",
    "                aug_z = torch.cat((z_i.view(bs, n_dim), adj_z, torch.zeros(bs, n_params).to(z), adj_t[i_t]), dim=-1)\n",
    "\n",
    "                # Solve augmented system backwards\n",
    "                aug_ans = ode_solve(aug_z, t_i, t[i_t-1], augmented_dynamics)\n",
    "\n",
    "                # Unpack solved backwards augmented system\n",
    "                adj_z[:] = aug_ans[:, n_dim:2*n_dim]\n",
    "                adj_p[:] += aug_ans[:, 2*n_dim:2*n_dim + n_params]\n",
    "                adj_t[i_t-1] = aug_ans[:, 2*n_dim + n_params:]\n",
    "\n",
    "                del aug_z, aug_ans\n",
    "\n",
    "            ## Adjust 0 time adjoint with direct gradients\n",
    "            # Compute direct gradients \n",
    "            dLdz_0 = dLdz[0]\n",
    "            dLdt_0 = torch.bmm(torch.transpose(dLdz_0.unsqueeze(-1), 1, 2), f_i.unsqueeze(-1))[:, 0]\n",
    "\n",
    "            # Adjust adjoints\n",
    "            adj_z += dLdz_0\n",
    "            adj_t[0] = adj_t[0] - dLdt_0\n",
    "        return adj_z.view(bs, *z_shape), adj_t, adj_p, None"
   ]
  },
  {
   "cell_type": "code",
   "execution_count": 34,
   "metadata": {},
   "outputs": [],
   "source": [
    "def ode_solve(z0, t0, t1, f):\n",
    "    \"\"\"\n",
    "    Simplest Euler ODE initial value solver\n",
    "    \"\"\"\n",
    "    h_max = 0.05\n",
    "    n_steps = math.ceil((abs(t1 - t0)/h_max).max().item())\n",
    "\n",
    "    h = (t1 - t0)/n_steps\n",
    "    t = t0\n",
    "    z = z0\n",
    "\n",
    "    for i_step in range(n_steps):\n",
    "        z = z + h * f(z, t)\n",
    "        t = t + h\n",
    "    return z"
   ]
  },
  {
   "cell_type": "code",
   "execution_count": 39,
   "metadata": {},
   "outputs": [],
   "source": [
    "import numpy.random as npr\n",
    "\n",
    "def gen_batch(batch_size, n_sample=100):\n",
    "    n_batches = samp_trajs.shape[1] // batch_size\n",
    "    time_len = samp_trajs.shape[0]\n",
    "    n_sample = min(n_sample, time_len)\n",
    "    for i in range(n_batches):\n",
    "        if n_sample > 0:\n",
    "            t0_idx = npr.multinomial(1, [1. / (time_len - n_sample)] * (time_len - n_sample))\n",
    "            t0_idx = np.argmax(t0_idx)\n",
    "            tM_idx = t0_idx + n_sample\n",
    "        else:\n",
    "            t0_idx = 0\n",
    "            tM_idx = time_len\n",
    "\n",
    "        frm, to = batch_size*i, batch_size*(i+1)\n",
    "        yield samp_trajs[t0_idx:tM_idx, frm:to], samp_ts[t0_idx:tM_idx, frm:to]"
   ]
  },
  {
   "cell_type": "code",
   "execution_count": 40,
   "metadata": {},
   "outputs": [
    {
     "name": "stderr",
     "output_type": "stream",
     "text": [
      "C:\\Users\\hkyoo\\AppData\\Local\\Temp\\ipykernel_14136\\2661987758.py:7: DeprecationWarning: `np.int` is a deprecated alias for the builtin `int`. To silence this warning, use `int` by itself. Doing this will not modify any behavior and is safe. When replacing `np.int`, you may wish to use e.g. `np.int64` or `np.int32` to specify the precision. If you wish to review your current use, check the release note link for additional information.\n",
      "Deprecated in NumPy 1.20; for more details and guidance: https://numpy.org/devdocs/release/1.20.0-notes.html#deprecations\n",
      "  index_np = np.arange(0, n_points, 1, dtype=np.int)\n"
     ]
    }
   ],
   "source": [
    "t_max = 6.29*5\n",
    "n_points = 200\n",
    "noise_std = 0.02\n",
    "\n",
    "num_spirals = 1000\n",
    "\n",
    "index_np = np.arange(0, n_points, 1, dtype=np.int)\n",
    "index_np = np.hstack([index_np[:, None]])\n",
    "times_np = np.linspace(0, t_max, num=n_points)\n",
    "times_np = np.hstack([times_np[:, None]] * num_spirals)\n",
    "times = torch.from_numpy(times_np[:, :, None]).to(torch.float32)\n",
    "\n",
    "# Generate random spirals parameters\n",
    "normal01 = torch.distributions.Normal(0, 1.0)\n",
    "\n",
    "x0 = Variable(normal01.sample((num_spirals, 2))) * 2.0  \n",
    "\n",
    "W11 = -0.1 * normal01.sample((num_spirals,)).abs() - 0.05\n",
    "W22 = -0.1 * normal01.sample((num_spirals,)).abs() - 0.05\n",
    "W21 = -1.0 * normal01.sample((num_spirals,)).abs()\n",
    "W12 =  1.0 * normal01.sample((num_spirals,)).abs()\n",
    "\n",
    "xs_list = []\n",
    "for i in range(num_spirals):\n",
    "    if i % 2 == 1: #  Make it counter-clockwise\n",
    "        W21, W12 = W12, W21\n",
    "\n",
    "    func = LinearODEF(Tensor([[W11[i], W12[i]], [W21[i], W22[i]]]))\n",
    "    ode = NeuralODE(func)\n",
    "\n",
    "    xs = ode(x0[i:i+1], times[:, i:i+1], return_whole_sequence=True)\n",
    "    xs_list.append(xs)\n",
    "\n",
    "\n",
    "orig_trajs = torch.cat(xs_list, dim=1).detach()\n",
    "samp_trajs = orig_trajs + torch.randn_like(orig_trajs) * noise_std\n",
    "samp_ts = times"
   ]
  },
  {
   "cell_type": "code",
   "execution_count": 46,
   "metadata": {},
   "outputs": [],
   "source": [
    "preload = False\n",
    "n_epochs = 20000\n",
    "batch_size = 100\n",
    "\n",
    "plot_traj_idx = 1\n",
    "plot_traj = orig_trajs[:, plot_traj_idx:plot_traj_idx+1]\n",
    "plot_obs = samp_trajs[:, plot_traj_idx:plot_traj_idx+1]\n",
    "plot_ts = samp_ts[:, plot_traj_idx:plot_traj_idx+1]\n",
    "\n",
    "for epoch_idx in range(n_epochs):\n",
    "    losses = []\n",
    "    train_iter = gen_batch(batch_size)\n",
    "    for x, t in train_iter:\n",
    "\n",
    "        max_len = np.random.choice([30, 50, 100])\n",
    "        permutation = np.random.permutation(t.shape[0])\n",
    "        np.random.shuffle(permutation)\n",
    "        permutation = np.sort(permutation[:max_len])\n",
    "\n",
    "        x, t = x[permutation], t[permutation]\n",
    "        \n",
    "        break\n",
    "    break"
   ]
  },
  {
   "cell_type": "code",
   "execution_count": 48,
   "metadata": {},
   "outputs": [
    {
     "data": {
      "text/plain": [
       "torch.Size([30, 100, 2])"
      ]
     },
     "execution_count": 48,
     "metadata": {},
     "output_type": "execute_result"
    }
   ],
   "source": [
    "x.shape"
   ]
  },
  {
   "cell_type": "code",
   "execution_count": 49,
   "metadata": {},
   "outputs": [
    {
     "data": {
      "text/plain": [
       "torch.Size([30, 100, 1])"
      ]
     },
     "execution_count": 49,
     "metadata": {},
     "output_type": "execute_result"
    }
   ],
   "source": [
    "t.shape"
   ]
  },
  {
   "cell_type": "code",
   "execution_count": 51,
   "metadata": {},
   "outputs": [],
   "source": [
    "model = NODE(output_dim=2,hidden_dim=256,latent_dim=64).to(device)"
   ]
  },
  {
   "cell_type": "code",
   "execution_count": 52,
   "metadata": {},
   "outputs": [
    {
     "data": {
      "text/plain": [
       "(tensor([[[ 0.0107],\n",
       "          [-0.1539],\n",
       "          [-0.1278],\n",
       "          ...,\n",
       "          [ 0.0017],\n",
       "          [ 0.2210],\n",
       "          [ 0.0309]],\n",
       " \n",
       "         [[ 0.0076],\n",
       "          [-0.1576],\n",
       "          [-0.1206],\n",
       "          ...,\n",
       "          [ 0.0064],\n",
       "          [ 0.2234],\n",
       "          [ 0.0425]],\n",
       " \n",
       "         [[ 0.0076],\n",
       "          [-0.1576],\n",
       "          [-0.1206],\n",
       "          ...,\n",
       "          [ 0.0064],\n",
       "          [ 0.2234],\n",
       "          [ 0.0425]],\n",
       " \n",
       "         ...,\n",
       " \n",
       "         [[ 0.0179],\n",
       "          [-0.1432],\n",
       "          [-0.1435],\n",
       "          ...,\n",
       "          [-0.0100],\n",
       "          [ 0.2147],\n",
       "          [-0.0007]],\n",
       " \n",
       "         [[ 0.0015],\n",
       "          [-0.1579],\n",
       "          [-0.1076],\n",
       "          ...,\n",
       "          [ 0.0101],\n",
       "          [ 0.2246],\n",
       "          [ 0.0451]],\n",
       " \n",
       "         [[ 0.0130],\n",
       "          [-0.1447],\n",
       "          [-0.1327],\n",
       "          ...,\n",
       "          [-0.0059],\n",
       "          [ 0.2163],\n",
       "          [ 0.0053]]], grad_fn=<ViewBackward0>),\n",
       " tensor([[ 0.6573, -1.6018,  0.4527,  ...,  0.8083, -1.0718,  0.6241],\n",
       "         [-1.5351, -0.0146,  0.4728,  ...,  0.1064,  1.2026, -1.4653],\n",
       "         [-0.8415,  0.6092, -0.7967,  ..., -0.3261,  0.9007, -1.0709],\n",
       "         ...,\n",
       "         [-0.8968, -1.8312, -0.5939,  ..., -1.4929, -1.0104,  1.1015],\n",
       "         [ 0.0735, -1.0688, -0.1101,  ...,  0.1513, -0.6550, -0.6714],\n",
       "         [-1.4332, -2.0987,  1.0079,  ..., -0.0962,  0.3984,  2.5009]],\n",
       "        grad_fn=<AddBackward0>),\n",
       " tensor([[-0.0696,  0.0403, -0.0510,  ...,  0.0669,  0.0117,  0.0683],\n",
       "         [-0.0941,  0.0795, -0.0532,  ...,  0.0452,  0.0189,  0.0671],\n",
       "         [-0.0397,  0.0478,  0.0269,  ...,  0.0368,  0.0318,  0.0616],\n",
       "         ...,\n",
       "         [-0.0499,  0.0360,  0.0149,  ...,  0.0432,  0.0314,  0.0620],\n",
       "         [ 0.0159, -0.0008,  0.0771,  ...,  0.0512,  0.0324,  0.0602],\n",
       "         [-0.0943,  0.0921, -0.0698,  ...,  0.0478,  0.0117,  0.0633]],\n",
       "        grad_fn=<SliceBackward0>),\n",
       " tensor([[ 0.0179, -0.0602, -0.0499,  ...,  0.0598, -0.0163, -0.0743],\n",
       "         [ 0.0200, -0.0414, -0.0154,  ...,  0.0373, -0.0941,  0.0034],\n",
       "         [ 0.0576, -0.0452, -0.0238,  ...,  0.0400,  0.0940, -0.0449],\n",
       "         ...,\n",
       "         [ 0.0593, -0.0504, -0.0273,  ...,  0.0353,  0.0832, -0.0574],\n",
       "         [ 0.0762, -0.0569, -0.0449,  ...,  0.0418,  0.2469, -0.1315],\n",
       "         [ 0.0088, -0.0378, -0.0152,  ...,  0.0441, -0.1306,  0.0141]],\n",
       "        grad_fn=<SliceBackward0>))"
      ]
     },
     "execution_count": 52,
     "metadata": {},
     "output_type": "execute_result"
    }
   ],
   "source": [
    "model(x,t)"
   ]
  },
  {
   "cell_type": "code",
   "execution_count": null,
   "metadata": {},
   "outputs": [],
   "source": []
  }
 ],
 "metadata": {
  "kernelspec": {
   "display_name": "Python 3",
   "language": "python",
   "name": "python3"
  },
  "language_info": {
   "codemirror_mode": {
    "name": "ipython",
    "version": 3
   },
   "file_extension": ".py",
   "mimetype": "text/x-python",
   "name": "python",
   "nbconvert_exporter": "python",
   "pygments_lexer": "ipython3",
   "version": "3.10.1"
  },
  "orig_nbformat": 4
 },
 "nbformat": 4,
 "nbformat_minor": 2
}
