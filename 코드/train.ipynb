{
 "cells": [
  {
   "cell_type": "code",
   "execution_count": 4,
   "metadata": {},
   "outputs": [],
   "source": [
    "import numpy as np\n",
    "import pandas as pd\n",
    "\n",
    "import torch\n",
    "import torch.nn as nn\n",
    "from torch.utils.data import DataLoader\n",
    "\n",
    "from Dataset.RNN_Economy_Dataset import RNN_Economy_Dataset\n",
    "from Dataset.RNN_Transaction_Dataset import RNN_Transaction_Dataset\n",
    "\n",
    "from Model.LSTM import LSTM"
   ]
  },
  {
   "cell_type": "code",
   "execution_count": 5,
   "metadata": {},
   "outputs": [],
   "source": [
    "input_size = 5\n",
    "hidden_size = 256\n",
    "output_size = 1\n",
    "\n",
    "lr = 1e-3\n",
    "num_epochs = 100"
   ]
  },
  {
   "cell_type": "code",
   "execution_count": 6,
   "metadata": {},
   "outputs": [],
   "source": [
    "economy_df = pd.read_excel('../데이터/Economy/economy_all.xlsx')\n",
    "transaction_df = pd.read_csv('../데이터/Transaction/transaction_final.csv', index_col=0)"
   ]
  },
  {
   "cell_type": "code",
   "execution_count": 11,
   "metadata": {},
   "outputs": [
    {
     "name": "stderr",
     "output_type": "stream",
     "text": [
      "/Users/kimhakhyun/Desktop/Git/sci/SCI/코드/Dataset/RNN_Transaction_Dataset.py:8: SettingWithCopyWarning: \n",
      "A value is trying to be set on a copy of a slice from a DataFrame.\n",
      "Try using .loc[row_indexer,col_indexer] = value instead\n",
      "\n",
      "See the caveats in the documentation: https://pandas.pydata.org/pandas-docs/stable/user_guide/indexing.html#returning-a-view-versus-a-copy\n",
      "  data['계약년월'] = pd.to_datetime(data['계약년월'])\n",
      "/Users/kimhakhyun/Desktop/Git/sci/SCI/코드/Dataset/RNN_Transaction_Dataset.py:8: SettingWithCopyWarning: \n",
      "A value is trying to be set on a copy of a slice from a DataFrame.\n",
      "Try using .loc[row_indexer,col_indexer] = value instead\n",
      "\n",
      "See the caveats in the documentation: https://pandas.pydata.org/pandas-docs/stable/user_guide/indexing.html#returning-a-view-versus-a-copy\n",
      "  data['계약년월'] = pd.to_datetime(data['계약년월'])\n"
     ]
    }
   ],
   "source": [
    "# economy_train_size = int(len(economy_df)*0.7)\n",
    "# economy_val_size = int(len(economy_df)*0.3)\n",
    "trainsaction_train_size = int(len(transaction_df)*0.7)\n",
    "trainsaction_val_size = int(len(transaction_df)*0.3)\n",
    "\n",
    "# economy_train_dataset = RNN_Economy_Dataset(economy_df[:economy_train_size])\n",
    "# economy_train_loader = DataLoader(economy_train_dataset, batch_size=2)\n",
    "# economy_val_dataset = RNN_Economy_Dataset(economy_df[economy_train_size:economy_train_size+economy_val_size])\n",
    "# economy_val_loader = DataLoader(economy_val_dataset, batch_size=2)\n",
    "\n",
    "transaction_train_dataset = RNN_Transaction_Dataset(transaction_df[:trainsaction_train_size])\n",
    "transaction_train_loader = DataLoader(transaction_train_dataset, batch_size=2, drop_last=True)\n",
    "transaction_val_dataset = RNN_Transaction_Dataset(transaction_df[trainsaction_train_size:])\n",
    "transaction_val_loader = DataLoader(transaction_val_dataset, batch_size=2, drop_last=True)"
   ]
  },
  {
   "cell_type": "code",
   "execution_count": 12,
   "metadata": {},
   "outputs": [],
   "source": [
    "model = LSTM(input_size, hidden_size, output_size)"
   ]
  },
  {
   "cell_type": "code",
   "execution_count": 13,
   "metadata": {},
   "outputs": [],
   "source": [
    "criterion = nn.MSELoss()\n",
    "optimizer = torch.optim.Adam(model.parameters(), lr=lr)"
   ]
  },
  {
   "cell_type": "markdown",
   "metadata": {},
   "source": [
    "### 경제 모델"
   ]
  },
  {
   "cell_type": "code",
   "execution_count": 19,
   "metadata": {},
   "outputs": [
    {
     "name": "stdout",
     "output_type": "stream",
     "text": [
      "Epoch 0/100, Training Loss: 6.587806274183095e-05, Validation Loss: 0.823525653087667\n",
      "Epoch 1/100, Training Loss: 0.00042392080649733543, Validation Loss: 0.834231839606738\n",
      "Epoch 2/100, Training Loss: 0.0008335366146638989, Validation Loss: 0.8368861662706227\n",
      "Epoch 3/100, Training Loss: 0.0012891507940366864, Validation Loss: 0.8408586972925279\n",
      "Epoch 4/100, Training Loss: 0.0016851091058924794, Validation Loss: 0.8404338035366631\n",
      "Epoch 5/100, Training Loss: 0.0020511806942522526, Validation Loss: 0.8398158955387771\n",
      "Epoch 6/100, Training Loss: 0.0023386471439152956, Validation Loss: 0.8367820124008826\n",
      "Epoch 7/100, Training Loss: 0.002581319771707058, Validation Loss: 0.8331335077860526\n",
      "Epoch 8/100, Training Loss: 0.0027590461540967226, Validation Loss: 0.8277779057555433\n",
      "Epoch 9/100, Training Loss: 0.00289554288610816, Validation Loss: 0.8216467336751521\n",
      "Epoch 10/100, Training Loss: 0.002982519334182143, Validation Loss: 0.8139071623528642\n",
      "Epoch 11/100, Training Loss: 0.00304476753808558, Validation Loss: 0.80550193959581\n",
      "Epoch 12/100, Training Loss: 0.003072920488193631, Validation Loss: 0.7954906859501664\n",
      "Epoch 13/100, Training Loss: 0.0030905334278941154, Validation Loss: 0.7848763869343591\n",
      "Epoch 14/100, Training Loss: 0.0030860286206007004, Validation Loss: 0.7725040759292564\n",
      "Epoch 15/100, Training Loss: 0.0030818842351436615, Validation Loss: 0.7595959075593522\n",
      "Epoch 16/100, Training Loss: 0.0030635688453912735, Validation Loss: 0.7445401521732232\n",
      "Epoch 17/100, Training Loss: 0.0030551361851394176, Validation Loss: 0.729188416951469\n",
      "Epoch 18/100, Training Loss: 0.003036663169041276, Validation Loss: 0.7109640426268535\n",
      "Epoch 19/100, Training Loss: 0.0030375930946320295, Validation Loss: 0.6930736228823662\n",
      "Epoch 20/100, Training Loss: 0.00303178234025836, Validation Loss: 0.6714021020369338\n",
      "Epoch 21/100, Training Loss: 0.003050696337595582, Validation Loss: 0.6508633819674807\n",
      "Epoch 22/100, Training Loss: 0.0030737952329218388, Validation Loss: 0.6264653318628136\n",
      "Epoch 23/100, Training Loss: 0.0031186880078166723, Validation Loss: 0.6032916028884107\n",
      "Epoch 24/100, Training Loss: 0.0031823888421058655, Validation Loss: 0.5778987749945372\n",
      "Epoch 25/100, Training Loss: 0.003264321945607662, Validation Loss: 0.5534913137837846\n",
      "Epoch 26/100, Training Loss: 0.003367259632796049, Validation Loss: 0.5290911426751076\n",
      "Epoch 27/100, Training Loss: 0.0034865993075072765, Validation Loss: 0.506303298470032\n",
      "Epoch 28/100, Training Loss: 0.0036403085105121136, Validation Loss: 0.48545608886550845\n",
      "Epoch 29/100, Training Loss: 0.003901474643498659, Validation Loss: 0.4673222104153995\n",
      "Epoch 30/100, Training Loss: 0.004489711951464415, Validation Loss: 0.45223869162146\n",
      "Epoch 31/100, Training Loss: 0.005851502530276775, Validation Loss: 0.4402599574948129\n",
      "Epoch 32/100, Training Loss: 0.008535158820450306, Validation Loss: 0.4310885183014242\n",
      "Epoch 33/100, Training Loss: 0.012527812272310257, Validation Loss: 0.4240263754202585\n",
      "Epoch 34/100, Training Loss: 0.01637822575867176, Validation Loss: 0.4175069361351364\n",
      "Epoch 35/100, Training Loss: 0.017850130796432495, Validation Loss: 0.4091538097293648\n",
      "Epoch 36/100, Training Loss: 0.016345812007784843, Validation Loss: 0.3976008780300617\n",
      "Epoch 37/100, Training Loss: 0.013550260104238987, Validation Loss: 0.3836609390647417\n",
      "Epoch 38/100, Training Loss: 0.011415981687605381, Validation Loss: 0.36963144886457094\n",
      "Epoch 39/100, Training Loss: 0.010761044919490814, Validation Loss: 0.35838804211899905\n",
      "Epoch 40/100, Training Loss: 0.011594414710998535, Validation Loss: 0.35079942362998345\n",
      "Epoch 41/100, Training Loss: 0.013716166839003563, Validation Loss: 0.34586922035668977\n",
      "Epoch 42/100, Training Loss: 0.016610121354460716, Validation Loss: 0.34274800956648377\n",
      "Epoch 43/100, Training Loss: 0.019258828833699226, Validation Loss: 0.34110919299044845\n",
      "Epoch 44/100, Training Loss: 0.020564310252666473, Validation Loss: 0.3405599283526369\n",
      "Epoch 45/100, Training Loss: 0.020123235881328583, Validation Loss: 0.34013213215959176\n",
      "Epoch 46/100, Training Loss: 0.018530458211898804, Validation Loss: 0.33862995895054027\n",
      "Epoch 47/100, Training Loss: 0.016853980720043182, Validation Loss: 0.3358345577377934\n",
      "Epoch 48/100, Training Loss: 0.015857446938753128, Validation Loss: 0.33261861824160277\n",
      "Epoch 49/100, Training Loss: 0.01575649157166481, Validation Loss: 0.3297985933578665\n",
      "Epoch 50/100, Training Loss: 0.01641681231558323, Validation Loss: 0.3276910951993029\n",
      "Epoch 51/100, Training Loss: 0.01752982847392559, Validation Loss: 0.3263792205502146\n",
      "Epoch 52/100, Training Loss: 0.018699046224355698, Validation Loss: 0.3258707206270109\n",
      "Epoch 53/100, Training Loss: 0.019547704607248306, Validation Loss: 0.32604356878073304\n",
      "Epoch 54/100, Training Loss: 0.01985488459467888, Validation Loss: 0.3265894153560761\n",
      "Epoch 55/100, Training Loss: 0.019633686169981956, Validation Loss: 0.3270953969643285\n",
      "Epoch 56/100, Training Loss: 0.01908840611577034, Validation Loss: 0.32724372152837794\n",
      "Epoch 57/100, Training Loss: 0.018484750762581825, Validation Loss: 0.32694931868172716\n",
      "Epoch 58/100, Training Loss: 0.0180281363427639, Validation Loss: 0.3263276855452984\n",
      "Epoch 59/100, Training Loss: 0.017814837396144867, Validation Loss: 0.32556817097689156\n",
      "Epoch 60/100, Training Loss: 0.01784392260015011, Validation Loss: 0.324845425246167\n",
      "Epoch 61/100, Training Loss: 0.01805057004094124, Validation Loss: 0.32428192208837053\n",
      "Epoch 62/100, Training Loss: 0.018340792506933212, Validation Loss: 0.3239403918040417\n",
      "Epoch 63/100, Training Loss: 0.018622059375047684, Validation Loss: 0.32382488471089993\n",
      "Epoch 64/100, Training Loss: 0.018826521933078766, Validation Loss: 0.3238879939370755\n",
      "Epoch 65/100, Training Loss: 0.018924251198768616, Validation Loss: 0.3240515274769028\n",
      "Epoch 66/100, Training Loss: 0.018921984359622, Validation Loss: 0.3242355102432027\n",
      "Epoch 67/100, Training Loss: 0.018851645290851593, Validation Loss: 0.32438065152174594\n",
      "Epoch 68/100, Training Loss: 0.01875242590904236, Validation Loss: 0.32446221783383017\n",
      "Epoch 69/100, Training Loss: 0.018658164888620377, Validation Loss: 0.32448458528129515\n",
      "Epoch 70/100, Training Loss: 0.0185893252491951, Validation Loss: 0.32447123418595375\n",
      "Epoch 71/100, Training Loss: 0.018552659079432487, Validation Loss: 0.32445197470951825\n",
      "Epoch 72/100, Training Loss: 0.018544046208262444, Validation Loss: 0.32445297301247983\n",
      "Epoch 73/100, Training Loss: 0.01855287328362465, Validation Loss: 0.32449116434353137\n",
      "Epoch 74/100, Training Loss: 0.01856766641139984, Validation Loss: 0.32457308451245936\n",
      "Epoch 75/100, Training Loss: 0.018578022718429565, Validation Loss: 0.3246978403767571\n",
      "Epoch 76/100, Training Loss: 0.01857750304043293, Validation Loss: 0.324858327570837\n",
      "Epoch 77/100, Training Loss: 0.01856391131877899, Validation Loss: 0.3250466964756405\n",
      "Epoch 78/100, Training Loss: 0.01853727363049984, Validation Loss: 0.32525550959482125\n",
      "Epoch 79/100, Training Loss: 0.01850009709596634, Validation Loss: 0.32548069654980544\n",
      "Epoch 80/100, Training Loss: 0.01845528371632099, Validation Loss: 0.3257211828770648\n",
      "Epoch 81/100, Training Loss: 0.0184062160551548, Validation Loss: 0.3259809678170963\n",
      "Epoch 82/100, Training Loss: 0.018356382846832275, Validation Loss: 0.32627027825635324\n",
      "Epoch 83/100, Training Loss: 0.018309326842427254, Validation Loss: 0.32661061337733244\n",
      "Epoch 84/100, Training Loss: 0.018255023285746574, Validation Loss: 0.32699776509460726\n",
      "Epoch 85/100, Training Loss: 0.018160592764616013, Validation Loss: 0.3273144098846907\n",
      "Epoch 86/100, Training Loss: 0.018049413338303566, Validation Loss: 0.3275773797442006\n",
      "Epoch 87/100, Training Loss: 0.017953528091311455, Validation Loss: 0.3278916105378552\n",
      "Epoch 88/100, Training Loss: 0.017863990738987923, Validation Loss: 0.3282460102844717\n",
      "Epoch 89/100, Training Loss: 0.017773928120732307, Validation Loss: 0.3286275543089557\n",
      "Epoch 90/100, Training Loss: 0.017680611461400986, Validation Loss: 0.3290344740297379\n",
      "Epoch 91/100, Training Loss: 0.01758245751261711, Validation Loss: 0.32946723468402134\n",
      "Epoch 92/100, Training Loss: 0.017478477209806442, Validation Loss: 0.3299234859795043\n",
      "Epoch 93/100, Training Loss: 0.01736731454730034, Validation Loss: 0.3303998837031291\n",
      "Epoch 94/100, Training Loss: 0.01724761724472046, Validation Loss: 0.33088977940912756\n",
      "Epoch 95/100, Training Loss: 0.01711924746632576, Validation Loss: 0.33138812881328966\n",
      "Epoch 96/100, Training Loss: 0.016985192894935608, Validation Loss: 0.33190143026877195\n",
      "Epoch 97/100, Training Loss: 0.016851572319865227, Validation Loss: 0.3324486528789358\n",
      "Epoch 98/100, Training Loss: 0.016722623258829117, Validation Loss: 0.33305373024528045\n",
      "Epoch 99/100, Training Loss: 0.01658572442829609, Validation Loss: 0.3336965886160864\n",
      "Epoch 100/100, Training Loss: 0.016407914459705353, Validation Loss: 0.3342466575060306\n"
     ]
    }
   ],
   "source": [
    "best_val_loss = float('inf') \n",
    "for epoch in range(num_epochs + 1):\n",
    "    model.train()\n",
    "    for batch_idx, samples in enumerate(economy_train_loader):\n",
    "        nation_x_train, nation_y_train, call_x_train, call_y_train = samples\n",
    "\n",
    "        prediction = model(nation_x_train)\n",
    "        cost = criterion(prediction, nation_y_train)\n",
    "\n",
    "        optimizer.zero_grad()\n",
    "        cost.backward()\n",
    "        optimizer.step()\n",
    "    \n",
    "    model.eval()\n",
    "    val_loss = 0.0\n",
    "    with torch.no_grad():\n",
    "        for batch_idx, samples in enumerate(economy_val_loader):\n",
    "            nation_x_val, nation_y_val, call_x_val, call_y_val = samples\n",
    "\n",
    "            prediction = model(nation_x_val)\n",
    "            loss = criterion(prediction, nation_y_val)\n",
    "            val_loss += loss.item()\n",
    "\n",
    "    val_loss /= len(economy_val_loader)\n",
    "    print(f'Epoch {epoch}/{num_epochs}, Training Loss: {cost.item()}, Validation Loss: {val_loss}')\n",
    "    \n",
    "    if val_loss < best_val_loss:\n",
    "        best_val_loss = val_loss\n",
    "        torch.save(model.state_dict(), 'Checkpoint/best_rnn_economy_model.pth')"
   ]
  },
  {
   "cell_type": "markdown",
   "metadata": {},
   "source": [
    "### 부동산 모델"
   ]
  },
  {
   "cell_type": "code",
   "execution_count": 14,
   "metadata": {},
   "outputs": [
    {
     "ename": "RuntimeError",
     "evalue": "stack expects each tensor to be equal size, but got [4094, 5] at entry 0 and [7956, 5] at entry 1",
     "output_type": "error",
     "traceback": [
      "\u001b[0;31m---------------------------------------------------------------------------\u001b[0m",
      "\u001b[0;31mRuntimeError\u001b[0m                              Traceback (most recent call last)",
      "\u001b[1;32m/Users/kimhakhyun/Desktop/Git/sci/SCI/코드/train.ipynb 셀 10\u001b[0m in \u001b[0;36m<cell line: 0>\u001b[0;34m()\u001b[0m\n\u001b[1;32m      <a href='vscode-notebook-cell:/Users/kimhakhyun/Desktop/Git/sci/SCI/%EC%BD%94%EB%93%9C/train.ipynb#X10sZmlsZQ%3D%3D?line=1'>2</a>\u001b[0m \u001b[39mfor\u001b[39;00m epoch \u001b[39min\u001b[39;00m \u001b[39mrange\u001b[39m(num_epochs \u001b[39m+\u001b[39m \u001b[39m1\u001b[39m):\n\u001b[1;32m      <a href='vscode-notebook-cell:/Users/kimhakhyun/Desktop/Git/sci/SCI/%EC%BD%94%EB%93%9C/train.ipynb#X10sZmlsZQ%3D%3D?line=2'>3</a>\u001b[0m     model\u001b[39m.\u001b[39mtrain()\n\u001b[0;32m----> <a href='vscode-notebook-cell:/Users/kimhakhyun/Desktop/Git/sci/SCI/%EC%BD%94%EB%93%9C/train.ipynb#X10sZmlsZQ%3D%3D?line=3'>4</a>\u001b[0m     \u001b[39mfor\u001b[39;00m batch_idx, samples \u001b[39min\u001b[39;00m \u001b[39menumerate\u001b[39m(transaction_train_loader):\n\u001b[1;32m      <a href='vscode-notebook-cell:/Users/kimhakhyun/Desktop/Git/sci/SCI/%EC%BD%94%EB%93%9C/train.ipynb#X10sZmlsZQ%3D%3D?line=4'>5</a>\u001b[0m         dong_x_train, dong_y_train \u001b[39m=\u001b[39m samples\n\u001b[1;32m      <a href='vscode-notebook-cell:/Users/kimhakhyun/Desktop/Git/sci/SCI/%EC%BD%94%EB%93%9C/train.ipynb#X10sZmlsZQ%3D%3D?line=6'>7</a>\u001b[0m         prediction \u001b[39m=\u001b[39m model(dong_x_train)\n",
      "File \u001b[0;32m/Library/Frameworks/Python.framework/Versions/3.11/lib/python3.11/site-packages/torch/utils/data/dataloader.py:633\u001b[0m, in \u001b[0;36m_BaseDataLoaderIter.__next__\u001b[0;34m(self)\u001b[0m\n\u001b[1;32m    630\u001b[0m \u001b[39mif\u001b[39;00m \u001b[39mself\u001b[39m\u001b[39m.\u001b[39m_sampler_iter \u001b[39mis\u001b[39;00m \u001b[39mNone\u001b[39;00m:\n\u001b[1;32m    631\u001b[0m     \u001b[39m# TODO(https://github.com/pytorch/pytorch/issues/76750)\u001b[39;00m\n\u001b[1;32m    632\u001b[0m     \u001b[39mself\u001b[39m\u001b[39m.\u001b[39m_reset()  \u001b[39m# type: ignore[call-arg]\u001b[39;00m\n\u001b[0;32m--> 633\u001b[0m data \u001b[39m=\u001b[39m \u001b[39mself\u001b[39m\u001b[39m.\u001b[39m_next_data()\n\u001b[1;32m    634\u001b[0m \u001b[39mself\u001b[39m\u001b[39m.\u001b[39m_num_yielded \u001b[39m+\u001b[39m\u001b[39m=\u001b[39m \u001b[39m1\u001b[39m\n\u001b[1;32m    635\u001b[0m \u001b[39mif\u001b[39;00m \u001b[39mself\u001b[39m\u001b[39m.\u001b[39m_dataset_kind \u001b[39m==\u001b[39m _DatasetKind\u001b[39m.\u001b[39mIterable \u001b[39mand\u001b[39;00m \\\n\u001b[1;32m    636\u001b[0m         \u001b[39mself\u001b[39m\u001b[39m.\u001b[39m_IterableDataset_len_called \u001b[39mis\u001b[39;00m \u001b[39mnot\u001b[39;00m \u001b[39mNone\u001b[39;00m \u001b[39mand\u001b[39;00m \\\n\u001b[1;32m    637\u001b[0m         \u001b[39mself\u001b[39m\u001b[39m.\u001b[39m_num_yielded \u001b[39m>\u001b[39m \u001b[39mself\u001b[39m\u001b[39m.\u001b[39m_IterableDataset_len_called:\n",
      "File \u001b[0;32m/Library/Frameworks/Python.framework/Versions/3.11/lib/python3.11/site-packages/torch/utils/data/dataloader.py:677\u001b[0m, in \u001b[0;36m_SingleProcessDataLoaderIter._next_data\u001b[0;34m(self)\u001b[0m\n\u001b[1;32m    675\u001b[0m \u001b[39mdef\u001b[39;00m \u001b[39m_next_data\u001b[39m(\u001b[39mself\u001b[39m):\n\u001b[1;32m    676\u001b[0m     index \u001b[39m=\u001b[39m \u001b[39mself\u001b[39m\u001b[39m.\u001b[39m_next_index()  \u001b[39m# may raise StopIteration\u001b[39;00m\n\u001b[0;32m--> 677\u001b[0m     data \u001b[39m=\u001b[39m \u001b[39mself\u001b[39m\u001b[39m.\u001b[39m_dataset_fetcher\u001b[39m.\u001b[39mfetch(index)  \u001b[39m# may raise StopIteration\u001b[39;00m\n\u001b[1;32m    678\u001b[0m     \u001b[39mif\u001b[39;00m \u001b[39mself\u001b[39m\u001b[39m.\u001b[39m_pin_memory:\n\u001b[1;32m    679\u001b[0m         data \u001b[39m=\u001b[39m _utils\u001b[39m.\u001b[39mpin_memory\u001b[39m.\u001b[39mpin_memory(data, \u001b[39mself\u001b[39m\u001b[39m.\u001b[39m_pin_memory_device)\n",
      "File \u001b[0;32m/Library/Frameworks/Python.framework/Versions/3.11/lib/python3.11/site-packages/torch/utils/data/_utils/fetch.py:54\u001b[0m, in \u001b[0;36m_MapDatasetFetcher.fetch\u001b[0;34m(self, possibly_batched_index)\u001b[0m\n\u001b[1;32m     52\u001b[0m \u001b[39melse\u001b[39;00m:\n\u001b[1;32m     53\u001b[0m     data \u001b[39m=\u001b[39m \u001b[39mself\u001b[39m\u001b[39m.\u001b[39mdataset[possibly_batched_index]\n\u001b[0;32m---> 54\u001b[0m \u001b[39mreturn\u001b[39;00m \u001b[39mself\u001b[39m\u001b[39m.\u001b[39mcollate_fn(data)\n",
      "File \u001b[0;32m/Library/Frameworks/Python.framework/Versions/3.11/lib/python3.11/site-packages/torch/utils/data/_utils/collate.py:265\u001b[0m, in \u001b[0;36mdefault_collate\u001b[0;34m(batch)\u001b[0m\n\u001b[1;32m    204\u001b[0m \u001b[39mdef\u001b[39;00m \u001b[39mdefault_collate\u001b[39m(batch):\n\u001b[1;32m    205\u001b[0m     \u001b[39mr\u001b[39m\u001b[39m\"\"\"\u001b[39;00m\n\u001b[1;32m    206\u001b[0m \u001b[39m        Function that takes in a batch of data and puts the elements within the batch\u001b[39;00m\n\u001b[1;32m    207\u001b[0m \u001b[39m        into a tensor with an additional outer dimension - batch size. The exact output type can be\u001b[39;00m\n\u001b[0;32m   (...)\u001b[0m\n\u001b[1;32m    263\u001b[0m \u001b[39m            >>> default_collate(batch)  # Handle `CustomType` automatically\u001b[39;00m\n\u001b[1;32m    264\u001b[0m \u001b[39m    \"\"\"\u001b[39;00m\n\u001b[0;32m--> 265\u001b[0m     \u001b[39mreturn\u001b[39;00m collate(batch, collate_fn_map\u001b[39m=\u001b[39mdefault_collate_fn_map)\n",
      "File \u001b[0;32m/Library/Frameworks/Python.framework/Versions/3.11/lib/python3.11/site-packages/torch/utils/data/_utils/collate.py:142\u001b[0m, in \u001b[0;36mcollate\u001b[0;34m(batch, collate_fn_map)\u001b[0m\n\u001b[1;32m    139\u001b[0m transposed \u001b[39m=\u001b[39m \u001b[39mlist\u001b[39m(\u001b[39mzip\u001b[39m(\u001b[39m*\u001b[39mbatch))  \u001b[39m# It may be accessed twice, so we use a list.\u001b[39;00m\n\u001b[1;32m    141\u001b[0m \u001b[39mif\u001b[39;00m \u001b[39misinstance\u001b[39m(elem, \u001b[39mtuple\u001b[39m):\n\u001b[0;32m--> 142\u001b[0m     \u001b[39mreturn\u001b[39;00m [collate(samples, collate_fn_map\u001b[39m=\u001b[39mcollate_fn_map) \u001b[39mfor\u001b[39;00m samples \u001b[39min\u001b[39;00m transposed]  \u001b[39m# Backwards compatibility.\u001b[39;00m\n\u001b[1;32m    143\u001b[0m \u001b[39melse\u001b[39;00m:\n\u001b[1;32m    144\u001b[0m     \u001b[39mtry\u001b[39;00m:\n",
      "File \u001b[0;32m/Library/Frameworks/Python.framework/Versions/3.11/lib/python3.11/site-packages/torch/utils/data/_utils/collate.py:142\u001b[0m, in \u001b[0;36m<listcomp>\u001b[0;34m(.0)\u001b[0m\n\u001b[1;32m    139\u001b[0m transposed \u001b[39m=\u001b[39m \u001b[39mlist\u001b[39m(\u001b[39mzip\u001b[39m(\u001b[39m*\u001b[39mbatch))  \u001b[39m# It may be accessed twice, so we use a list.\u001b[39;00m\n\u001b[1;32m    141\u001b[0m \u001b[39mif\u001b[39;00m \u001b[39misinstance\u001b[39m(elem, \u001b[39mtuple\u001b[39m):\n\u001b[0;32m--> 142\u001b[0m     \u001b[39mreturn\u001b[39;00m [collate(samples, collate_fn_map\u001b[39m=\u001b[39mcollate_fn_map) \u001b[39mfor\u001b[39;00m samples \u001b[39min\u001b[39;00m transposed]  \u001b[39m# Backwards compatibility.\u001b[39;00m\n\u001b[1;32m    143\u001b[0m \u001b[39melse\u001b[39;00m:\n\u001b[1;32m    144\u001b[0m     \u001b[39mtry\u001b[39;00m:\n",
      "File \u001b[0;32m/Library/Frameworks/Python.framework/Versions/3.11/lib/python3.11/site-packages/torch/utils/data/_utils/collate.py:119\u001b[0m, in \u001b[0;36mcollate\u001b[0;34m(batch, collate_fn_map)\u001b[0m\n\u001b[1;32m    117\u001b[0m \u001b[39mif\u001b[39;00m collate_fn_map \u001b[39mis\u001b[39;00m \u001b[39mnot\u001b[39;00m \u001b[39mNone\u001b[39;00m:\n\u001b[1;32m    118\u001b[0m     \u001b[39mif\u001b[39;00m elem_type \u001b[39min\u001b[39;00m collate_fn_map:\n\u001b[0;32m--> 119\u001b[0m         \u001b[39mreturn\u001b[39;00m collate_fn_map[elem_type](batch, collate_fn_map\u001b[39m=\u001b[39mcollate_fn_map)\n\u001b[1;32m    121\u001b[0m     \u001b[39mfor\u001b[39;00m collate_type \u001b[39min\u001b[39;00m collate_fn_map:\n\u001b[1;32m    122\u001b[0m         \u001b[39mif\u001b[39;00m \u001b[39misinstance\u001b[39m(elem, collate_type):\n",
      "File \u001b[0;32m/Library/Frameworks/Python.framework/Versions/3.11/lib/python3.11/site-packages/torch/utils/data/_utils/collate.py:162\u001b[0m, in \u001b[0;36mcollate_tensor_fn\u001b[0;34m(batch, collate_fn_map)\u001b[0m\n\u001b[1;32m    160\u001b[0m     storage \u001b[39m=\u001b[39m elem\u001b[39m.\u001b[39m_typed_storage()\u001b[39m.\u001b[39m_new_shared(numel, device\u001b[39m=\u001b[39melem\u001b[39m.\u001b[39mdevice)\n\u001b[1;32m    161\u001b[0m     out \u001b[39m=\u001b[39m elem\u001b[39m.\u001b[39mnew(storage)\u001b[39m.\u001b[39mresize_(\u001b[39mlen\u001b[39m(batch), \u001b[39m*\u001b[39m\u001b[39mlist\u001b[39m(elem\u001b[39m.\u001b[39msize()))\n\u001b[0;32m--> 162\u001b[0m \u001b[39mreturn\u001b[39;00m torch\u001b[39m.\u001b[39mstack(batch, \u001b[39m0\u001b[39m, out\u001b[39m=\u001b[39mout)\n",
      "\u001b[0;31mRuntimeError\u001b[0m: stack expects each tensor to be equal size, but got [4094, 5] at entry 0 and [7956, 5] at entry 1"
     ]
    }
   ],
   "source": [
    "best_val_loss = float('inf') \n",
    "for epoch in range(num_epochs + 1):\n",
    "    model.train()\n",
    "    for batch_idx, samples in enumerate(transaction_train_loader):\n",
    "        dong_x_train, dong_y_train = samples\n",
    "\n",
    "        prediction = model(dong_x_train)\n",
    "        cost = criterion(prediction, dong_y_train)\n",
    "\n",
    "        optimizer.zero_grad()\n",
    "        cost.backward()\n",
    "        optimizer.step()\n",
    "    \n",
    "    model.eval()\n",
    "    val_loss = 0.0\n",
    "    with torch.no_grad():\n",
    "        for batch_idx, samples in enumerate(transaction_val_loader):\n",
    "            x_val, y_val = samples\n",
    "\n",
    "            prediction = model(x_val)\n",
    "            loss = criterion(prediction, y_val)\n",
    "            val_loss += loss.item()\n",
    "\n",
    "    val_loss /= len(transaction_val_loader)\n",
    "    print(f'Epoch {epoch}/{num_epochs}, Training Loss: {cost.item()}, Validation Loss: {val_loss}')\n",
    "    \n",
    "    if val_loss < best_val_loss:\n",
    "        best_val_loss = val_loss\n",
    "        torch.save(model.state_dict(), 'Checkpoint/best_rnn_transaction_model.pth')"
   ]
  },
  {
   "cell_type": "code",
   "execution_count": null,
   "metadata": {},
   "outputs": [],
   "source": []
  }
 ],
 "metadata": {
  "kernelspec": {
   "display_name": "Python 3",
   "language": "python",
   "name": "python3"
  },
  "language_info": {
   "codemirror_mode": {
    "name": "ipython",
    "version": 3
   },
   "file_extension": ".py",
   "mimetype": "text/x-python",
   "name": "python",
   "nbconvert_exporter": "python",
   "pygments_lexer": "ipython3",
   "version": "3.11.4"
  },
  "orig_nbformat": 4
 },
 "nbformat": 4,
 "nbformat_minor": 2
}
