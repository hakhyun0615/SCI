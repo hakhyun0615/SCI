{
 "cells": [
  {
   "cell_type": "code",
   "execution_count": 13,
   "metadata": {},
   "outputs": [],
   "source": [
    "import numpy as np\n",
    "import pandas as pd\n",
    "import torch\n",
    "\n",
    "import torch.nn as nn\n",
    "from sklearn.preprocessing import MinMaxScaler\n",
    "from torch.utils.data import DataLoader, Dataset\n",
    "\n",
    "from Dataset.economy import EconomyDataset\n",
    "from Model.LSTM import LSTM"
   ]
  },
  {
   "cell_type": "code",
   "execution_count": 55,
   "metadata": {},
   "outputs": [],
   "source": [
    "# 데이터 다운 & 전처리\n",
    "\n",
    "df = pd.read_excel('../데이터/economy/economy_all.xlsx')\n",
    "df = df['국고채금리'].values"
   ]
  },
  {
   "cell_type": "code",
   "execution_count": 56,
   "metadata": {},
   "outputs": [
    {
     "name": "stdout",
     "output_type": "stream",
     "text": [
      "1\n",
      "2\n"
     ]
    },
    {
     "name": "stderr",
     "output_type": "stream",
     "text": [
      "c:\\Users\\hkyoo\\OneDrive\\바탕 화면\\SCI\\코드\\Dataset\\economy.py:11: UserWarning: Creating a tensor from a list of numpy.ndarrays is extremely slow. Please consider converting the list to a single numpy.ndarray with numpy.array() before converting to a tensor. (Triggered internally at ..\\torch\\csrc\\utils\\tensor_new.cpp:248.)\n",
      "  self.x = torch.FloatTensor(X)\n"
     ]
    }
   ],
   "source": [
    "len_df = len(df)\n",
    "train_len = int(len_df *0.6)\n",
    "val_len = int(len_df * 0.3)\n",
    "\n",
    "batch_size = 2\n",
    "\n",
    "train_dataset = EconomyDataset(df[:train_len])\n",
    "train_loader = DataLoader(train_dataset, batch_size=batch_size)\n",
    "\n",
    "val_dataset = EconomyDataset(df[train_len:train_len+val_len])\n",
    "val_loader = DataLoader(val_dataset, batch_size=batch_size)\n",
    "\n",
    "test_dataset = EconomyDataset(df[train_len+val_len:])\n",
    "test_loader = DataLoader(test_dataset, batch_size=batch_size)"
   ]
  },
  {
   "cell_type": "code",
   "execution_count": 57,
   "metadata": {},
   "outputs": [
    {
     "name": "stdout",
     "output_type": "stream",
     "text": [
      "X 크기 : torch.Size([2, 5])\n",
      "Y 크기 : torch.Size([2])\n"
     ]
    }
   ],
   "source": [
    "for x,y in train_loader:\n",
    "  print(\"X 크기 : {}\".format(x.shape))\n",
    "  print(\"Y 크기 : {}\".format(y.shape))\n",
    "  break"
   ]
  },
  {
   "cell_type": "code",
   "execution_count": 58,
   "metadata": {},
   "outputs": [],
   "source": [
    "input_size = 5\n",
    "hidden_size = 20\n",
    "Model = LSTM(input_size, hidden_size)"
   ]
  },
  {
   "cell_type": "code",
   "execution_count": 59,
   "metadata": {},
   "outputs": [
    {
     "name": "stdout",
     "output_type": "stream",
     "text": [
      "cpu is available\n",
      "작동하는지 실험\n"
     ]
    },
    {
     "data": {
      "text/plain": [
       "tensor([-0.0892], grad_fn=<SelectBackward0>)"
      ]
     },
     "execution_count": 59,
     "metadata": {},
     "output_type": "execute_result"
    }
   ],
   "source": [
    "# 데이터 & 모델에 device 붙임!!!\n",
    "device = torch.device('cuda:0' if torch.cuda.is_available() else 'cpu')\n",
    "print(f'{device} is available')\n",
    "\n",
    "model = Model.to(device)\n",
    "\n",
    "print('작동하는지 실험')\n",
    "basic_data = torch.rand((1,input_size))\n",
    "model(basic_data)\n"
   ]
  },
  {
   "cell_type": "code",
   "execution_count": 60,
   "metadata": {},
   "outputs": [],
   "source": [
    "criterion = nn.MSELoss()\n",
    "\n",
    "lr = 1e-3\n",
    "num_epochs = 5\n",
    "optimizer = torch.optim.Adam(model.parameters(), lr=lr)"
   ]
  },
  {
   "cell_type": "code",
   "execution_count": 62,
   "metadata": {},
   "outputs": [
    {
     "name": "stdout",
     "output_type": "stream",
     "text": [
      "epoch : 0\n",
      "train\n",
      "0.6340218337959257\n",
      "Calculating validation results...\n",
      "val\n",
      "loss: 3.2874574 || \n",
      "======================================================\n",
      "epoch : 1\n",
      "train\n",
      "0.11565458773864144\n",
      "Calculating validation results...\n",
      "val\n",
      "loss: 1.7401589 || \n",
      "======================================================\n",
      "epoch : 2\n",
      "train\n"
     ]
    },
    {
     "name": "stderr",
     "output_type": "stream",
     "text": [
      "c:\\Users\\hkyoo\\AppData\\Local\\Programs\\Python\\Python311\\Lib\\site-packages\\torch\\nn\\modules\\loss.py:536: UserWarning: Using a target size (torch.Size([2])) that is different to the input size (torch.Size([1])). This will likely lead to incorrect results due to broadcasting. Please ensure they have the same size.\n",
      "  return F.mse_loss(input, target, reduction=self.reduction)\n"
     ]
    },
    {
     "name": "stdout",
     "output_type": "stream",
     "text": [
      "0.06687821526605242\n",
      "Calculating validation results...\n",
      "val\n",
      "loss: 1.4350601 || \n",
      "======================================================\n",
      "epoch : 3\n",
      "train\n",
      "0.06432110759324759\n",
      "Calculating validation results...\n",
      "val\n",
      "loss: 1.3383809 || \n",
      "======================================================\n",
      "epoch : 4\n",
      "train\n",
      "0.058081054731105565\n",
      "Calculating validation results...\n",
      "val\n",
      "loss: 1.2470174 || \n",
      "======================================================\n"
     ]
    }
   ],
   "source": [
    "train_n = len(train_dataset)\n",
    "val_n = len(val_dataset)\n",
    "\n",
    "for epoch in range(num_epochs):\n",
    "    print('epoch : {}'.format(epoch))\n",
    "    running_loss = 0.0\n",
    "    num = 0\n",
    "    print(\"train\")\n",
    "    model.train()\n",
    "    for inputs, labels in train_loader:  # dataloader 함수에 def __len__에 return 값만큼 반복함\n",
    "        inputs = inputs.to(device)\n",
    "        labels = labels.to(device)\n",
    "        out = model(inputs)\n",
    "        loss = criterion(out, labels)\n",
    "\n",
    "        optimizer.zero_grad() #\n",
    "        loss.backward() # loss가 최소가 되게하는\n",
    "        optimizer.step() # 어떤 방법으로 learning rate를 움직일거이냐\n",
    "        running_loss += loss.item() # 한 배치의 loss 더해주고,\n",
    "\n",
    "\n",
    "    print(running_loss/train_n)\n",
    "\n",
    "    with torch.no_grad():\n",
    "              print(\"Calculating validation results...\")\n",
    "              model.eval()\n",
    "              val_loss = 0\n",
    "              for inputs, labels in val_loader:\n",
    "                  inputs = inputs.to(device)\n",
    "                  labels = labels.to(device)\n",
    "\n",
    "                  outs = model(inputs)\n",
    "\n",
    "                  loss= criterion(outs, labels)\n",
    "                  val_loss += loss.item()\n",
    "\n",
    "              print(\"val\")\n",
    "              print(\n",
    "                  f\"loss: {val_loss/val_n:4.8} || \"\n",
    "              )\n",
    "    print('======================================================')\n"
   ]
  },
  {
   "cell_type": "code",
   "execution_count": null,
   "metadata": {},
   "outputs": [],
   "source": []
  }
 ],
 "metadata": {
  "kernelspec": {
   "display_name": "Python 3",
   "language": "python",
   "name": "python3"
  },
  "language_info": {
   "codemirror_mode": {
    "name": "ipython",
    "version": 3
   },
   "file_extension": ".py",
   "mimetype": "text/x-python",
   "name": "python",
   "nbconvert_exporter": "python",
   "pygments_lexer": "ipython3",
   "version": "3.11.4"
  },
  "orig_nbformat": 4
 },
 "nbformat": 4,
 "nbformat_minor": 2
}
