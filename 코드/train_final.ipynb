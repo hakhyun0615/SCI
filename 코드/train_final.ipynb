{
 "cells": [
  {
   "cell_type": "code",
   "execution_count": 2,
   "metadata": {},
   "outputs": [],
   "source": [
    "import numpy as np\n",
    "import pandas as pd\n",
    "import torch\n",
    "\n",
    "import torch.nn as nn\n",
    "from torch.utils.data import DataLoader, Dataset\n",
    "\n",
    "from Dataset.Economy_Dataset import Economy_Dataset\n",
    "from Dataset.RNN_Transformer_Dataset import RNN_Transformer_Dataset\n",
    "\n",
    "from Model.SelfAttention import Self_attention, Attention_LSTM\n",
    "from Model.LSTM import LSTM\n",
    "\n",
    "import matplotlib.pyplot as plt"
   ]
  },
  {
   "cell_type": "code",
   "execution_count": 3,
   "metadata": {},
   "outputs": [],
   "source": [
    "# 데이터 다운 & 전처리\n",
    "\n",
    "transaction_df = pd.read_excel('../데이터/transaction/transaction_final.xlsx',index_col=0)\n",
    "economy_df = pd.read_excel('../데이터/economy/economy_all.xlsx')['국고채금리']"
   ]
  },
  {
   "cell_type": "code",
   "execution_count": 4,
   "metadata": {},
   "outputs": [
    {
     "name": "stdout",
     "output_type": "stream",
     "text": [
      "246685\n",
      "204\n"
     ]
    }
   ],
   "source": [
    "print(len(transaction_df))\n",
    "print(len(economy_df))"
   ]
  },
  {
   "cell_type": "code",
   "execution_count": 5,
   "metadata": {},
   "outputs": [],
   "source": [
    "# len_df = len(transaction_df)\n",
    "# train_len = int(len_df *0.7)\n",
    "# val_len = int(len_df * 0.3)\n",
    "\n",
    "batch_size = 4\n",
    "train_dataset = RNN_Transformer_Dataset(transaction_df, economy_df)\n",
    "train_loader = DataLoader(train_dataset, batch_size=batch_size)\n",
    "\n",
    "# val_dataset = RNN_Transformer_Dataset(df[train_len:train_len+val_len])\n",
    "# val_loader = DataLoader(val_dataset, batch_size=batch_size)"
   ]
  },
  {
   "cell_type": "code",
   "execution_count": null,
   "metadata": {},
   "outputs": [
    {
     "ename": "",
     "evalue": "",
     "output_type": "error",
     "traceback": [
      "\u001b[1;31mRunning cells with 'c:\\msys64\\mingw64\\bin\\python.exe' requires the ipykernel package.\n",
      "\u001b[1;31mRun the following command to install 'ipykernel' into the Python environment. \n",
      "\u001b[1;31mCommand: 'c:/msys64/mingw64/bin/python.exe -m pip install ipykernel -U --user --force-reinstall'"
     ]
    }
   ],
   "source": [
    "for x,y,z,w in train_loader:\n",
    "  print(\"X 크기 : {}\".format(x.shape))\n",
    "  print(\"Y 크기 : {}\".format(y.shape))\n",
    "  print(\"Z 크기 : {}\".format(z.shape))\n",
    "  print(\"W 크기 : {}\".format(w.shape))\n",
    "  break"
   ]
  },
  {
   "cell_type": "code",
   "execution_count": null,
   "metadata": {},
   "outputs": [
    {
     "ename": "",
     "evalue": "",
     "output_type": "error",
     "traceback": [
      "\u001b[1;31mRunning cells with 'c:\\msys64\\mingw64\\bin\\python.exe' requires the ipykernel package.\n",
      "\u001b[1;31mRun the following command to install 'ipykernel' into the Python environment. \n",
      "\u001b[1;31mCommand: 'c:/msys64/mingw64/bin/python.exe -m pip install ipykernel -U --user --force-reinstall'"
     ]
    }
   ],
   "source": [
    "max_size = 158\n",
    "window_size = 5\n",
    "hidden_size =256"
   ]
  },
  {
   "cell_type": "code",
   "execution_count": null,
   "metadata": {},
   "outputs": [
    {
     "name": "stdout",
     "output_type": "stream",
     "text": [
      "cpu is available\n"
     ]
    },
    {
     "data": {
      "text/plain": [
       "torch.Size([4, 158, 1])"
      ]
     },
     "execution_count": 94,
     "metadata": {},
     "output_type": "execute_result"
    }
   ],
   "source": [
    "# gpu 연결\n",
    "device = torch.device('cuda:0' if torch.cuda.is_available() else 'cpu')\n",
    "print(f'{device} is available')\n",
    "\n",
    "# checkpoint 받기\n",
    "eco_lstm = LSTM(window_size,256).to(device)\n",
    "eco_lstm.load_state_dict(torch.load(\"../데이터/checkpoint/best_rnn_economy_model.pth\"))\n",
    "\n",
    "tran_lstm = LSTM(window_size,256).to(device)\n",
    "tran_lstm.load_state_dict(torch.load(\"../데이터/checkpoint/best_rnn_transaction_model.pth\"))\n",
    "\n",
    "model = Self_attention(max_size, hidden_size, 1).to(device)\n",
    "\n",
    "dummy = torch.rand((batch_size,max_size,hidden_size)).to(device)\n",
    "model(dummy).shape"
   ]
  },
  {
   "cell_type": "code",
   "execution_count": null,
   "metadata": {},
   "outputs": [],
   "source": [
    "criterion = nn.MSELoss()\n",
    "\n",
    "lr = 1e-3\n",
    "num_epochs = 100\n",
    "optimizer = torch.optim.Adam(model.parameters(), lr=lr)"
   ]
  },
  {
   "cell_type": "code",
   "execution_count": null,
   "metadata": {},
   "outputs": [],
   "source": []
  },
  {
   "cell_type": "code",
   "execution_count": 171,
   "metadata": {},
   "outputs": [
    {
     "name": "stdout",
     "output_type": "stream",
     "text": [
      "epoch : 0\n",
      "train\n"
     ]
    },
    {
     "ename": "KeyboardInterrupt",
     "evalue": "",
     "output_type": "error",
     "traceback": [
      "\u001b[1;31m---------------------------------------------------------------------------\u001b[0m",
      "\u001b[1;31mKeyboardInterrupt\u001b[0m                         Traceback (most recent call last)",
      "Cell \u001b[1;32mIn[171], line 61\u001b[0m\n\u001b[0;32m     59\u001b[0m mean_loss \u001b[39m=\u001b[39m loss_all\u001b[39m/\u001b[39mout\u001b[39m.\u001b[39mshape[\u001b[39m1\u001b[39m]\n\u001b[0;32m     60\u001b[0m optimizer\u001b[39m.\u001b[39mzero_grad() \u001b[39m#\u001b[39;00m\n\u001b[1;32m---> 61\u001b[0m mean_loss\u001b[39m.\u001b[39;49mbackward() \u001b[39m# loss가 최소가 되게하는\u001b[39;00m\n\u001b[0;32m     62\u001b[0m optimizer\u001b[39m.\u001b[39mstep() \u001b[39m# 어떤 방법으로 learning rate를 움직일거이냐\u001b[39;00m\n\u001b[0;32m     63\u001b[0m running_loss \u001b[39m+\u001b[39m\u001b[39m=\u001b[39m loss_all\u001b[39m.\u001b[39mitem() \u001b[39m# 한 배치의 loss 더해주고,\u001b[39;00m\n",
      "File \u001b[1;32mc:\\Users\\hkyoo\\AppData\\Local\\Programs\\Python\\Python311\\Lib\\site-packages\\torch\\_tensor.py:487\u001b[0m, in \u001b[0;36mTensor.backward\u001b[1;34m(self, gradient, retain_graph, create_graph, inputs)\u001b[0m\n\u001b[0;32m    477\u001b[0m \u001b[39mif\u001b[39;00m has_torch_function_unary(\u001b[39mself\u001b[39m):\n\u001b[0;32m    478\u001b[0m     \u001b[39mreturn\u001b[39;00m handle_torch_function(\n\u001b[0;32m    479\u001b[0m         Tensor\u001b[39m.\u001b[39mbackward,\n\u001b[0;32m    480\u001b[0m         (\u001b[39mself\u001b[39m,),\n\u001b[1;32m   (...)\u001b[0m\n\u001b[0;32m    485\u001b[0m         inputs\u001b[39m=\u001b[39minputs,\n\u001b[0;32m    486\u001b[0m     )\n\u001b[1;32m--> 487\u001b[0m torch\u001b[39m.\u001b[39;49mautograd\u001b[39m.\u001b[39;49mbackward(\n\u001b[0;32m    488\u001b[0m     \u001b[39mself\u001b[39;49m, gradient, retain_graph, create_graph, inputs\u001b[39m=\u001b[39;49minputs\n\u001b[0;32m    489\u001b[0m )\n",
      "File \u001b[1;32mc:\\Users\\hkyoo\\AppData\\Local\\Programs\\Python\\Python311\\Lib\\site-packages\\torch\\autograd\\__init__.py:200\u001b[0m, in \u001b[0;36mbackward\u001b[1;34m(tensors, grad_tensors, retain_graph, create_graph, grad_variables, inputs)\u001b[0m\n\u001b[0;32m    195\u001b[0m     retain_graph \u001b[39m=\u001b[39m create_graph\n\u001b[0;32m    197\u001b[0m \u001b[39m# The reason we repeat same the comment below is that\u001b[39;00m\n\u001b[0;32m    198\u001b[0m \u001b[39m# some Python versions print out the first line of a multi-line function\u001b[39;00m\n\u001b[0;32m    199\u001b[0m \u001b[39m# calls in the traceback and some print out the last line\u001b[39;00m\n\u001b[1;32m--> 200\u001b[0m Variable\u001b[39m.\u001b[39;49m_execution_engine\u001b[39m.\u001b[39;49mrun_backward(  \u001b[39m# Calls into the C++ engine to run the backward pass\u001b[39;49;00m\n\u001b[0;32m    201\u001b[0m     tensors, grad_tensors_, retain_graph, create_graph, inputs,\n\u001b[0;32m    202\u001b[0m     allow_unreachable\u001b[39m=\u001b[39;49m\u001b[39mTrue\u001b[39;49;00m, accumulate_grad\u001b[39m=\u001b[39;49m\u001b[39mTrue\u001b[39;49;00m)\n",
      "\u001b[1;31mKeyboardInterrupt\u001b[0m: "
     ]
    }
   ],
   "source": [
    "train_n = len(train_dataset)\n",
    "# val_n = len(val_dataset)\n",
    "\n",
    "# val_loss_list = []\n",
    "best_train_loss = float('inf')\n",
    "stop_counter = 0\n",
    "stop_criteria = 3\n",
    "max_len = max_size\n",
    "\n",
    "for epoch in range(num_epochs):\n",
    "    print('epoch : {}'.format(epoch))\n",
    "    running_loss = 0.0\n",
    "    num = 0\n",
    "    print(\"train\")\n",
    "    model.train()\n",
    "    for tran_inputs, eco_inputs, tran_labels, eco_label in train_loader:  # dataloader 함수에 def __len__에 return 값만큼 반복함\n",
    "        tran_inputs = tran_inputs.to(device) \n",
    "        eco_inputs = eco_inputs.to(device)\n",
    "        tran_labels = tran_labels.to(device)  # batch_size*max_size*1\n",
    "        eco_label = eco_label.to(device) \n",
    "        \n",
    "        # transaction hidden_state + economy hidden_state\n",
    "        # batch 단위로 한번에 더함\n",
    "        # 콜금리 사용\n",
    "        eco_tensor = eco_lstm(eco_inputs)[1][0].squeeze().unsqueeze(1)   # batch * hidden_state\n",
    "        eco_tensor = eco_tensor.repeat(1,max_len,1)\n",
    "        tran_tensor = torch.zeros((batch_size,max_len,hidden_size))\n",
    "        for i in range(max_len):\n",
    "            tran_tensor[:,i,:] = tran_lstm(tran_inputs)[1][0].squeeze()\n",
    "            \n",
    "        emb_vecor = tran_tensor + eco_tensor\n",
    "        \n",
    "        # 부동산 데이터가 0인 행은 embedding_vector도 0으로 전환\n",
    "        iszero_vector = torch.ones((batch_size,max_len))\n",
    "        for i in range(batch_size):\n",
    "            for j in range(max_len):\n",
    "                if tran_inputs[i][j][0] == 0 or tran_inputs[i][j][-1] == 0:\n",
    "                    iszero_vector[i][j] = 0\n",
    "                    \n",
    "        # 차원에 맞게 변경 후 계산 \n",
    "        emb_vecor = emb_vecor.mul(iszero_vector.unsqueeze(2).repeat(1,1,hidden_size))\n",
    "        \n",
    "        #####################################\n",
    "        # transformer 적용\n",
    "        # loss 값은 부동산 가격이 0이 아닌 것에만 적용해서 학습\n",
    "        out = model(emb_vecor) # batch_size*max_size*1\n",
    "        \n",
    "        # out 값중 필요 없는 값은 0으로 변경\n",
    "        out = out.mul(iszero_vector.unsqueeze(2))   \n",
    "        \n",
    "        labels = tran_labels.mul(iszero_vector.unsqueeze(2))\n",
    "        \n",
    "        loss_all = 0\n",
    "        for i in range(out.shape[1]):\n",
    "            loss = criterion(out[:,i,:], labels[:,i,:])\n",
    "            loss_all += loss\n",
    "        loss_all = loss_all/iszero_vector.sum()   # 평균치만큼 업데이트!!!!!!!!\n",
    "        \n",
    "        mean_loss = loss_all/out.shape[1]\n",
    "        optimizer.zero_grad() #\n",
    "        mean_loss.backward() # loss가 최소가 되게하는\n",
    "        optimizer.step() # 어떤 방법으로 learning rate를 움직일거이냐\n",
    "        running_loss += loss_all.item() # 한 배치의 loss 더해주고,\n",
    "        if mean_loss < best_train_loss:\n",
    "           best_train_loss = mean_loss\n",
    "           torch.save(model.state_dict(),"../데이터/checkpoint/best_rnn_transformer_model.pth")\n",
    "\n",
    "\n",
    "    print(running_loss/train_n)\n",
    "\n",
    "    # with torch.no_grad():\n",
    "    #         print(\"Calculating validation results...\")\n",
    "    #         model.eval()\n",
    "    #         val_loss = 0\n",
    "    #         for inputs, labels in val_loader:\n",
    "    #             price, economy = inputs\n",
    "    #             price = price.to(device) # batch_size*max_size*256  (max_size = 최대 단지 개수)\n",
    "    #             economy = economy.to(device)\n",
    "    #             labels = labels.to(device) # batch_size*max_size*1\n",
    "                \n",
    "    #             # labels 가 0이 아니면 lstm 넣기\n",
    "    #             embed = torch.zeros((batch_size,max_size,hidden_size))\n",
    "    #             for i in range(labels.shape[0]):\n",
    "    #                 for j in range(labels.shape[1]):\n",
    "    #                     if labels[i][j] != 0:\n",
    "    #                         embed[i][j] = lstm_price(price[i][j]) \n",
    "                            \n",
    "    #             outs = model(inputs)\n",
    "\n",
    "    #             loss_all = 0\n",
    "    #             for i in range(out.shape[1]):\n",
    "    #                 loss = criterion(out[:,i,:], labels[:,i,:])\n",
    "    #                 loss_all += loss\n",
    "\n",
    "    #         avg_val_loss = val_loss/val_n/out.shape[1]\n",
    "    #         val_loss_list.append(avg_val_loss)\n",
    "\n",
    "    #         if avg_val_loss < best_val_loss:\n",
    "    #             best_val_loss = avg_val_loss\n",
    "    #             stop_counter = 0            \n",
    "    #             torch.save(model.state_dict(), 'Checkpoint/economic_best_model.pth')\n",
    "    #         else:\n",
    "    #             stop_counter += 1\n",
    "\n",
    "    #         print(\"val\")\n",
    "    #         print(\n",
    "    #             f\"loss: {avg_val_loss:4.8} || \"\n",
    "    #         )\n",
    "\n",
    "    #         if stop_counter >= stop_criteria:\n",
    "    #             print('Early stopping triggered.')\n",
    "    #             break\n",
    "    \n",
    "    print('======================================================')\n",
    "\n",
    "# plt.figure(figsize=(10, 5))\n",
    "# plt.plot(val_loss_list, label='Validation loss')\n",
    "# plt.xlabel('Epochs')\n",
    "# plt.ylabel('Loss')\n",
    "# plt.legend()\n",
    "# plt.show()"
   ]
  },
  {
   "cell_type": "code",
   "execution_count": null,
   "metadata": {},
   "outputs": [],
   "source": []
  }
 ],
 "metadata": {
  "kernelspec": {
   "display_name": "Python 3",
   "language": "python",
   "name": "python3"
  },
  "language_info": {
   "codemirror_mode": {
    "name": "ipython",
    "version": 3
   },
   "file_extension": ".py",
   "mimetype": "text/x-python",
   "name": "python",
   "nbconvert_exporter": "python",
   "pygments_lexer": "ipython3",
   "version": "3.11.4"
  },
  "orig_nbformat": 4
 },
 "nbformat": 4,
 "nbformat_minor": 2
}
