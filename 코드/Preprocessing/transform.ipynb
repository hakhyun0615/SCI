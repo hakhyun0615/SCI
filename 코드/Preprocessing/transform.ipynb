{
 "cells": [
  {
   "cell_type": "code",
   "execution_count": 1,
   "metadata": {},
   "outputs": [],
   "source": [
    "import pandas as pd"
   ]
  },
  {
   "cell_type": "code",
   "execution_count": 11,
   "metadata": {},
   "outputs": [],
   "source": [
    "df = pd.read_csv('../../데이터/merge.csv')"
   ]
  },
  {
   "cell_type": "code",
   "execution_count": 12,
   "metadata": {},
   "outputs": [
    {
     "data": {
      "text/html": [
       "<div>\n",
       "<style scoped>\n",
       "    .dataframe tbody tr th:only-of-type {\n",
       "        vertical-align: middle;\n",
       "    }\n",
       "\n",
       "    .dataframe tbody tr th {\n",
       "        vertical-align: top;\n",
       "    }\n",
       "\n",
       "    .dataframe thead th {\n",
       "        text-align: right;\n",
       "    }\n",
       "</style>\n",
       "<table border=\"1\" class=\"dataframe\">\n",
       "  <thead>\n",
       "    <tr style=\"text-align: right;\">\n",
       "      <th></th>\n",
       "      <th>시군구</th>\n",
       "      <th>번지</th>\n",
       "      <th>본번</th>\n",
       "      <th>부번</th>\n",
       "      <th>단지명</th>\n",
       "      <th>전용면적(㎡)</th>\n",
       "      <th>계약년월</th>\n",
       "      <th>계약일</th>\n",
       "      <th>거래금액(만원)</th>\n",
       "      <th>층</th>\n",
       "      <th>건축년도</th>\n",
       "      <th>도로명</th>\n",
       "      <th>국고채금리</th>\n",
       "      <th>콜금리</th>\n",
       "    </tr>\n",
       "  </thead>\n",
       "  <tbody>\n",
       "    <tr>\n",
       "      <th>0</th>\n",
       "      <td>서울특별시 강남구 개포동</td>\n",
       "      <td>655-2</td>\n",
       "      <td>655.0</td>\n",
       "      <td>2.0</td>\n",
       "      <td>개포2차현대아파트(220)</td>\n",
       "      <td>77.75</td>\n",
       "      <td>200603</td>\n",
       "      <td>10</td>\n",
       "      <td>59,500</td>\n",
       "      <td>7</td>\n",
       "      <td>1988.0</td>\n",
       "      <td>언주로 103</td>\n",
       "      <td>4.93</td>\n",
       "      <td>3.97</td>\n",
       "    </tr>\n",
       "    <tr>\n",
       "      <th>1</th>\n",
       "      <td>서울특별시 강남구 개포동</td>\n",
       "      <td>655-2</td>\n",
       "      <td>655.0</td>\n",
       "      <td>2.0</td>\n",
       "      <td>개포2차현대아파트(220)</td>\n",
       "      <td>77.75</td>\n",
       "      <td>200603</td>\n",
       "      <td>29</td>\n",
       "      <td>60,000</td>\n",
       "      <td>6</td>\n",
       "      <td>1988.0</td>\n",
       "      <td>언주로 103</td>\n",
       "      <td>4.93</td>\n",
       "      <td>3.97</td>\n",
       "    </tr>\n",
       "    <tr>\n",
       "      <th>2</th>\n",
       "      <td>서울특별시 강남구 개포동</td>\n",
       "      <td>655-2</td>\n",
       "      <td>655.0</td>\n",
       "      <td>2.0</td>\n",
       "      <td>개포2차현대아파트(220)</td>\n",
       "      <td>77.75</td>\n",
       "      <td>200604</td>\n",
       "      <td>29</td>\n",
       "      <td>67,000</td>\n",
       "      <td>9</td>\n",
       "      <td>1988.0</td>\n",
       "      <td>언주로 103</td>\n",
       "      <td>4.95</td>\n",
       "      <td>3.97</td>\n",
       "    </tr>\n",
       "    <tr>\n",
       "      <th>3</th>\n",
       "      <td>서울특별시 강남구 개포동</td>\n",
       "      <td>655-2</td>\n",
       "      <td>655.0</td>\n",
       "      <td>2.0</td>\n",
       "      <td>개포2차현대아파트(220)</td>\n",
       "      <td>77.75</td>\n",
       "      <td>200606</td>\n",
       "      <td>1</td>\n",
       "      <td>60,000</td>\n",
       "      <td>4</td>\n",
       "      <td>1988.0</td>\n",
       "      <td>언주로 103</td>\n",
       "      <td>4.89</td>\n",
       "      <td>4.17</td>\n",
       "    </tr>\n",
       "    <tr>\n",
       "      <th>4</th>\n",
       "      <td>서울특별시 강남구 개포동</td>\n",
       "      <td>655-2</td>\n",
       "      <td>655.0</td>\n",
       "      <td>2.0</td>\n",
       "      <td>개포2차현대아파트(220)</td>\n",
       "      <td>77.75</td>\n",
       "      <td>200610</td>\n",
       "      <td>20</td>\n",
       "      <td>72,250</td>\n",
       "      <td>5</td>\n",
       "      <td>1988.0</td>\n",
       "      <td>언주로 103</td>\n",
       "      <td>4.62</td>\n",
       "      <td>4.48</td>\n",
       "    </tr>\n",
       "  </tbody>\n",
       "</table>\n",
       "</div>"
      ],
      "text/plain": [
       "             시군구     번지     본번   부번             단지명  전용면적(㎡)    계약년월  계약일  \\\n",
       "0  서울특별시 강남구 개포동  655-2  655.0  2.0  개포2차현대아파트(220)    77.75  200603   10   \n",
       "1  서울특별시 강남구 개포동  655-2  655.0  2.0  개포2차현대아파트(220)    77.75  200603   29   \n",
       "2  서울특별시 강남구 개포동  655-2  655.0  2.0  개포2차현대아파트(220)    77.75  200604   29   \n",
       "3  서울특별시 강남구 개포동  655-2  655.0  2.0  개포2차현대아파트(220)    77.75  200606    1   \n",
       "4  서울특별시 강남구 개포동  655-2  655.0  2.0  개포2차현대아파트(220)    77.75  200610   20   \n",
       "\n",
       "         거래금액(만원)  층    건축년도      도로명  국고채금리   콜금리  \n",
       "0          59,500  7  1988.0  언주로 103   4.93  3.97  \n",
       "1          60,000  6  1988.0  언주로 103   4.93  3.97  \n",
       "2          67,000  9  1988.0  언주로 103   4.95  3.97  \n",
       "3          60,000  4  1988.0  언주로 103   4.89  4.17  \n",
       "4          72,250  5  1988.0  언주로 103   4.62  4.48  "
      ]
     },
     "execution_count": 12,
     "metadata": {},
     "output_type": "execute_result"
    }
   ],
   "source": [
    "df.head()"
   ]
  },
  {
   "cell_type": "code",
   "execution_count": 13,
   "metadata": {},
   "outputs": [],
   "source": [
    "def del_bracket(x):\n",
    "    if '(' in x:\n",
    "        return x[:x.find('(')]\n",
    "    return x"
   ]
  },
  {
   "cell_type": "code",
   "execution_count": 14,
   "metadata": {},
   "outputs": [],
   "source": [
    "df['단지명'] = df['단지명'].apply(del_bracket)\n",
    "df['계약일자'] = df['계약년월'] + df['계약일']\n",
    "df['평수'] = df['전용면적(㎡)'].apply(lambda x : x // 3.3058)"
   ]
  },
  {
   "cell_type": "code",
   "execution_count": 15,
   "metadata": {},
   "outputs": [],
   "source": [
    "df = df[['시군구','본번','단지명','평수','계약일자','거래금액(만원)','국고채금리','콜금리']]"
   ]
  },
  {
   "cell_type": "code",
   "execution_count": 16,
   "metadata": {},
   "outputs": [],
   "source": [
    "df.to_csv('../../데이터/merge2.csv')"
   ]
  },
  {
   "cell_type": "code",
   "execution_count": null,
   "metadata": {},
   "outputs": [],
   "source": []
  },
  {
   "cell_type": "code",
   "execution_count": null,
   "metadata": {},
   "outputs": [],
   "source": []
  }
 ],
 "metadata": {
  "kernelspec": {
   "display_name": "Python 3",
   "language": "python",
   "name": "python3"
  },
  "language_info": {
   "codemirror_mode": {
    "name": "ipython",
    "version": 3
   },
   "file_extension": ".py",
   "mimetype": "text/x-python",
   "name": "python",
   "nbconvert_exporter": "python",
   "pygments_lexer": "ipython3",
   "version": "3.10.4"
  },
  "orig_nbformat": 4
 },
 "nbformat": 4,
 "nbformat_minor": 2
}
