{
 "cells": [
  {
   "cell_type": "code",
   "execution_count": 2,
   "metadata": {},
   "outputs": [],
   "source": [
    "import psycopg2\n",
    "\n",
    "import sys\n",
    "import os\n",
    "import random\n",
    "import numpy as np\n",
    "import pandas as pd\n",
    "\n",
    "import torch\n",
    "from torch import nn\n",
    "from torch.utils.data import DataLoader\n",
    "\n",
    "\n",
    "from Dataset.AutoEncoder_Dataset import AutoEncoder_Dataset\n",
    "from Model.AutoEncoder import AutoEncoder\n",
    "\n",
    "from Dataset.LSTM_Dataset import LSTM_Dataset\n",
    "from Model.LSTM import LSTM\n",
    "\n",
    "\n",
    "\n",
    "SEED = 1234\n",
    "DEVICE = torch.device('cuda') if torch.cuda.is_available() else torch.device('cpu')\n",
    "\n",
    "np.random.seed(SEED)\n",
    "torch.manual_seed(SEED)\n",
    "torch.cuda.manual_seed(SEED)\n",
    "random.seed(SEED)\n",
    "torch.backends.cudnn.deterministic = True"
   ]
  },
  {
   "cell_type": "code",
   "execution_count": 3,
   "metadata": {},
   "outputs": [
    {
     "name": "stderr",
     "output_type": "stream",
     "text": [
      "/Library/Frameworks/Python.framework/Versions/3.11/lib/python3.11/site-packages/pandas/io/sql.py:761: UserWarning: pandas only support SQLAlchemy connectable(engine/connection) ordatabase string URI or sqlite3 DBAPI2 connectionother DBAPI2 objects are not tested, please consider using SQLAlchemy\n",
      "  warnings.warn(\n",
      "/Library/Frameworks/Python.framework/Versions/3.11/lib/python3.11/site-packages/pandas/io/sql.py:761: UserWarning: pandas only support SQLAlchemy connectable(engine/connection) ordatabase string URI or sqlite3 DBAPI2 connectionother DBAPI2 objects are not tested, please consider using SQLAlchemy\n",
      "  warnings.warn(\n",
      "/Library/Frameworks/Python.framework/Versions/3.11/lib/python3.11/site-packages/pandas/io/sql.py:761: UserWarning: pandas only support SQLAlchemy connectable(engine/connection) ordatabase string URI or sqlite3 DBAPI2 connectionother DBAPI2 objects are not tested, please consider using SQLAlchemy\n",
      "  warnings.warn(\n"
     ]
    }
   ],
   "source": [
    "connection_info = \"host=localhost dbname=postgres user=postgres password=hd219833 port=5432\"\n",
    "conn = psycopg2.connect(connection_info)\n",
    "table_1_query = '''\n",
    "    SELECT * FROM building\n",
    "    '''\n",
    "table_2_query = '''\n",
    "    SELECT * FROM economy\n",
    "    '''\n",
    "table_3_query = '''\n",
    "    SELECT * FROM building_price\n",
    "    '''\n",
    "table_1 = pd.read_sql(table_1_query,conn) \n",
    "table_2 = pd.read_sql(table_2_query,conn)\n",
    "table_3 = pd.read_sql(table_3_query,conn) "
   ]
  },
  {
   "cell_type": "code",
   "execution_count": 47,
   "metadata": {},
   "outputs": [],
   "source": [
    "embedding_lr = 0.01\n",
    "embedding_batch = 32\n",
    "embedding_epochs = 50\n",
    "embedding_dim = 6\n",
    "\n",
    "lstm_lr = 0.01\n",
    "lstm_batch = 1\n",
    "lstm_epochs = 50\n",
    "lstm_hidden_dim = 128\n",
    "lstm_output_dim = 1\n",
    "lstm_window_size = 5\n",
    "\n",
    "# valid_every = 5\n",
    "# best_valid_loss = float('inf')"
   ]
  },
  {
   "cell_type": "markdown",
   "metadata": {},
   "source": [
    "## LSTM"
   ]
  },
  {
   "cell_type": "code",
   "execution_count": 5,
   "metadata": {},
   "outputs": [],
   "source": [
    "model = torch.load('../데이터/Checkpoint/embedding_batch_32_epochs_50_dim_6.pth')\n",
    "\n",
    "apartment_complexes_embedding_matrix_with_window_size = []\n",
    "apartment_complexes_price_with_window_size = []\n",
    "\n",
    "apartment_complexes_location = table_1['location']\n",
    "apartment_complexes_name = table_1['name']\n",
    "for apartment_complex_location, apartment_complex_name in zip(apartment_complexes_location, apartment_complexes_name):\n",
    "    apartment_complex_values = table_1[(table_1['name'] == apartment_complex_name) * (table_1['location'] == apartment_complex_location)][[cols for cols in table_1.columns if cols not in ['aid','location','name']]].values\n",
    "    apartment_complex_tensor = torch.FloatTensor(apartment_complex_values).repeat(204, 1)\n",
    "    economy_values = table_2[['call_rate','m2']].values\n",
    "    economy_tensor = torch.FloatTensor(economy_values)\n",
    "    encoder_input_tensor = torch.cat((apartment_complex_tensor, economy_tensor), dim=1)\n",
    "\n",
    "    apartment_complex_embedding_matrix = np.zeros((encoder_input_tensor.shape[0], embedding_dim))\n",
    "    with torch.no_grad():\n",
    "        for i in range(encoder_input_tensor.shape[0]):\n",
    "            apartment_complex_embedding_vector = model.encoder(encoder_input_tensor[i].unsqueeze(0)).squeeze().numpy()\n",
    "            apartment_complex_embedding_matrix[i] = apartment_complex_embedding_vector\n",
    "    apartment_complex_embedding_matrix_tensor = torch.FloatTensor(apartment_complex_embedding_matrix)\n",
    "\n",
    "    apartment_complex_aid = table_1[(table_1['name'] == apartment_complex_name) * (table_1['location'] == apartment_complex_location)]['aid'].squeeze()\n",
    "    price_values = pd.DataFrame({'did': range(0, 204)}).merge(table_3[table_3['aid'] == apartment_complex_aid][['did','price']], on='did', how='outer').fillna(0).set_index('did').values\n",
    "    price_tensor = torch.FloatTensor(price_values)\n",
    "\n",
    "    for i in range(apartment_complex_embedding_matrix_tensor.shape[0]-lstm_window_size):\n",
    "        apartment_complexes_embedding_matrix_with_window_size.append(apartment_complex_embedding_matrix_tensor[i:i+lstm_window_size, :])\n",
    "        apartment_complexes_price_with_window_size.append(price_tensor[i+lstm_window_size, :])\n",
    "\n",
    "apartment_complexes_embedding_matrix_with_window_size = apartment_complexes_embedding_matrix_with_window_size\n",
    "apartment_complexes_price_with_window_size = apartment_complexes_price_with_window_size"
   ]
  },
  {
   "cell_type": "code",
   "execution_count": 46,
   "metadata": {},
   "outputs": [
    {
     "data": {
      "text/plain": [
       "torch.Size([5, 6])"
      ]
     },
     "execution_count": 46,
     "metadata": {},
     "output_type": "execute_result"
    }
   ],
   "source": [
    "apartment_complexes_embedding_matrix_with_window_size[0].shape"
   ]
  },
  {
   "cell_type": "markdown",
   "metadata": {},
   "source": [
    "## Attention"
   ]
  },
  {
   "cell_type": "code",
   "execution_count": 50,
   "metadata": {},
   "outputs": [],
   "source": [
    "table_1['dong'] = table_1['location'].apply(lambda x: x.split(' ')[2])\n",
    "dongs = table_1['dong'].unique()\n",
    "max_dong_apartment_complexes = 38"
   ]
  },
  {
   "cell_type": "code",
   "execution_count": 75,
   "metadata": {},
   "outputs": [
    {
     "name": "stdout",
     "output_type": "stream",
     "text": [
      "torch.Size([4, 204, 1])\n"
     ]
    }
   ],
   "source": [
    "for dong in dongs:\n",
    "    dong_apartment_complexes_values = table_1[table_1['dong'] == dong][[cols for cols in table_1.columns if cols not in ['aid','location','name','dong']]].values\n",
    "    economy_values = table_2[['call_rate','m2']].values\n",
    "    economy_tensor = torch.FloatTensor(economy_values)\n",
    "\n",
    "    encoder_input_tensors = torch.zeros(dong_apartment_complexes_values.shape[0],204,12)\n",
    "    for i, dong_apartment_complex_values in enumerate(dong_apartment_complexes_values):\n",
    "        dong_apartment_complex_tensor = torch.FloatTensor(dong_apartment_complex_values).repeat(204,1)\n",
    "        encoder_input_tensor = torch.cat((dong_apartment_complex_tensor, economy_tensor), dim=1)\n",
    "        encoder_input_tensors[i] = encoder_input_tensor\n",
    "\n",
    "    with torch.no_grad():\n",
    "        dong_apartment_complexes_embedding_matrixes = torch.zeros(encoder_input_tensors.shape[0],encoder_input_tensors.shape[1],embedding_dim)\n",
    "        for i in range(encoder_input_tensors.shape[0]):\n",
    "            apartment_complex_embedding_matrix = torch.zeros(encoder_input_tensor.shape[0],embedding_dim)\n",
    "            for j in range(encoder_input_tensor.shape[0]):\n",
    "                apartment_complex_embedding_vector = model.encoder(encoder_input_tensor[i].unsqueeze(0)).squeeze()\n",
    "                apartment_complex_embedding_matrix[i] = apartment_complex_embedding_vector\n",
    "            dong_apartment_complexes_embedding_matrixes[i] = apartment_complex_embedding_matrix\n",
    "\n",
    "    dong_apartment_complexes_aids = table_1[table_1['dong'] == dong]['aid'].values\n",
    "    dong_apartment_complexes_prices = torch.zeros(encoder_input_tensors.shape[0],encoder_input_tensors.shape[1],1)\n",
    "    for i, dong_apartment_complex_aid in zip(range(encoder_input_tensors.shape[0]),dong_apartment_complexes_aids):\n",
    "        dong_apartment_complexes_prices[i] = torch.from_numpy(pd.DataFrame({'did': range(0, 204)}).merge(table_3[table_3['aid'] == dong_apartment_complex_aid][['did','price']], on='did', how='outer').fillna(0).set_index('did').values)\n",
    "\n",
    "    dong_apartment_complexes_embedding_matrix_with_window_size = torch.zeros(204-lstm_window_size,max_dong_apartment_complexes,lstm_window_size,embedding_dim)\n",
    "    dong_apartment_complexes_prices_with_window_size = torch.zeros(204-lstm_window_size,max_dong_apartment_complexes,1)\n",
    "\n",
    "    break\n",
    "\n",
    "    # for i in range(dong_apartment_complexes_embedding_matrix_with_window_size.shape[0]):\n",
    "    #     for j in range(dong_apartment_complexes_embedding_matrixes.shape[0]):\n",
    "    #         dong_apartment_complexes_embedding_matrix_with_window_size[i][j] = dong_apartment_complexes_embedding_matrixes[j][i:i+lstm_window_size,:]\n",
    "    #         dong_apartment_complexes_price_with_window_size[i][j] = \n",
    "    # apartment_complex_embedding_vector = model.encoder(encoder_input_tensor[i].unsqueeze(0)).squeeze().numpy()\n",
    "    # apartment_complex_embedding_matrix[i] = apartment_complex_embedding_vector\n",
    "    \n"
   ]
  }
 ],
 "metadata": {
  "kernelspec": {
   "display_name": "Python 3",
   "language": "python",
   "name": "python3"
  },
  "language_info": {
   "codemirror_mode": {
    "name": "ipython",
    "version": 3
   },
   "file_extension": ".py",
   "mimetype": "text/x-python",
   "name": "python",
   "nbconvert_exporter": "python",
   "pygments_lexer": "ipython3",
   "version": "3.11.4"
  }
 },
 "nbformat": 4,
 "nbformat_minor": 2
}
