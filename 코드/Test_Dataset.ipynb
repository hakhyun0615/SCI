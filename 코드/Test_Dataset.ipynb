{
 "cells": [
  {
   "cell_type": "code",
   "execution_count": 2,
   "metadata": {},
   "outputs": [],
   "source": [
    "import psycopg2\n",
    "\n",
    "import random\n",
    "import numpy as np\n",
    "import pandas as pd\n",
    "import matplotlib.pyplot as plt\n",
    "\n",
    "import torch\n",
    "from torch import nn\n",
    "from torch.utils.data import Subset, DataLoader\n",
    "\n",
    "from Dataset.Embedding_Dataset import Embedding_Dataset\n",
    "from Model.Embedding import Embedding\n",
    "\n",
    "from Dataset.LSTM_Dataset import LSTM_Dataset\n",
    "from Model.LSTM import LSTM\n",
    "\n",
    "from Dataset.Attention_Dataset import Attention_Dataset\n",
    "from Model.Attention import LSTMSeq2Seq\n",
    "\n",
    "from sklearn.preprocessing import StandardScaler\n",
    "\n",
    "SEED = 1234\n",
    "random.seed(SEED)\n",
    "np.random.seed(SEED)\n",
    "torch.manual_seed(SEED)\n",
    "torch.cuda.manual_seed(SEED)\n",
    "torch.cuda.manual_seed_all(SEED)\n",
    "torch.backends.cudnn.deterministic = True\n",
    "torch.backends.cudnn.benchmark = False\n",
    "\n",
    "DEVICE = torch.device('cpu') # 맥\n",
    "# DEVICE = torch.device('cuda') if torch.cuda.is_available() else torch.device('cpu') # 윈도우"
   ]
  },
  {
   "cell_type": "code",
   "execution_count": 3,
   "metadata": {},
   "outputs": [],
   "source": [
    "train_ratio = 0.8\n",
    "\n",
    "embedding_lr = 0.00001\n",
    "embedding_weight_decay = 0\n",
    "embedding_batch = 128\n",
    "embedding_epochs = 150\n",
    "encoder_dim_1 = 128\n",
    "encoder_dim_2 = 256\n",
    "encoder_dim_3 = 512\n",
    "embedding_dim = 1024\n",
    "decoder_dim_1 = 512\n",
    "decoder_dim_2 = 256\n",
    "decoder_dim_3 = 128\n",
    "\n",
    "ml_batch = 1 # 고정\n",
    "ml_estimators = 150\n",
    "ml_window_size = 10\n",
    "\n",
    "lstm_lr = 0.0001\n",
    "lstm_weight_decay = 0\n",
    "lstm_batch = 128\n",
    "lstm_epochs = 150\n",
    "lstm_hidden_dim = 256\n",
    "lstm_window_size = 10\n",
    "\n",
    "nlinear_lr = 0.0001\n",
    "nlinear_weight_decay = 0\n",
    "nlinear_batch = 128\n",
    "nlinear_epochs = 150\n",
    "nlinear_window_size = 10\n",
    "\n",
    "attention_lr = 0.0001\n",
    "attention_weight_decay = 0\n",
    "attention_batch = 1 # 고정\n",
    "attention_epochs = 150\n",
    "attention_hidden_dim = 256\n",
    "attention_window_size = 10\n",
    "\n",
    "transformer_lr = 0.00001\n",
    "transformer_weight_decay = 0\n",
    "transformer_batch = 1 # 고정\n",
    "transformer_epochs = 150\n",
    "transformer_window_size = 10"
   ]
  },
  {
   "cell_type": "markdown",
   "metadata": {},
   "source": [
    "## Data"
   ]
  },
  {
   "cell_type": "code",
   "execution_count": 4,
   "metadata": {},
   "outputs": [
    {
     "name": "stderr",
     "output_type": "stream",
     "text": [
      "/Library/Frameworks/Python.framework/Versions/3.11/lib/python3.11/site-packages/pandas/io/sql.py:761: UserWarning: pandas only support SQLAlchemy connectable(engine/connection) ordatabase string URI or sqlite3 DBAPI2 connectionother DBAPI2 objects are not tested, please consider using SQLAlchemy\n",
      "  warnings.warn(\n",
      "/Library/Frameworks/Python.framework/Versions/3.11/lib/python3.11/site-packages/pandas/io/sql.py:761: UserWarning: pandas only support SQLAlchemy connectable(engine/connection) ordatabase string URI or sqlite3 DBAPI2 connectionother DBAPI2 objects are not tested, please consider using SQLAlchemy\n",
      "  warnings.warn(\n",
      "/Library/Frameworks/Python.framework/Versions/3.11/lib/python3.11/site-packages/pandas/io/sql.py:761: UserWarning: pandas only support SQLAlchemy connectable(engine/connection) ordatabase string URI or sqlite3 DBAPI2 connectionother DBAPI2 objects are not tested, please consider using SQLAlchemy\n",
      "  warnings.warn(\n"
     ]
    }
   ],
   "source": [
    "connection_info = \"host=localhost dbname=postgres user=postgres password=hd219833 port=5432\"\n",
    "conn = psycopg2.connect(connection_info)\n",
    "table_1_query = '''\n",
    "    SELECT * FROM building\n",
    "    '''\n",
    "table_2_query = '''\n",
    "    SELECT * FROM economy\n",
    "    '''\n",
    "table_3_query = '''\n",
    "    SELECT * FROM building_price\n",
    "    '''\n",
    "table_1 = pd.read_sql(table_1_query,conn) \n",
    "table_2 = pd.read_sql(table_2_query,conn)\n",
    "table_3 = pd.read_sql(table_3_query,conn) \n",
    "\n",
    "# table_1 = pd.read_csv('../데이터/Table/table_1.csv') \n",
    "# table_2 = pd.read_csv('../데이터/Table/table_2.csv') \n",
    "# table_3 = pd.read_csv('../데이터/Table/table_3.csv') "
   ]
  },
  {
   "cell_type": "markdown",
   "metadata": {},
   "source": [
    "## Embedding"
   ]
  },
  {
   "cell_type": "code",
   "execution_count": 15,
   "metadata": {},
   "outputs": [],
   "source": [
    "table_merge = pd.merge(table_1, table_3, how='left', on='aid')\n",
    "table_merge = pd.merge(table_merge, table_2, how='left', on='did')\n",
    "\n",
    "apartment = table_merge[[cols for cols in table_merge.columns if cols not in ['aid','location','name','did','year','month','call_rate','m2','price']]]\n",
    "economy = table_merge[['call_rate','m2']]\n",
    "price = table_merge[['price']] * 0.0001\n",
    "\n",
    "apartment_values = apartment.values\n",
    "economy_values = economy.values\n",
    "price_values = price.values\n",
    "\n",
    "input_values = np.concatenate((apartment_values, economy_values), axis=1)\n",
    "input_values = StandardScaler().fit_transform(input_values)\n",
    "output_values = price_values\n",
    "\n",
    "input_tensor = torch.FloatTensor(input_values)\n",
    "output_tensor = torch.FloatTensor(output_values)"
   ]
  },
  {
   "cell_type": "markdown",
   "metadata": {},
   "source": [
    "## ML"
   ]
  },
  {
   "cell_type": "code",
   "execution_count": 5,
   "metadata": {},
   "outputs": [],
   "source": [
    "model = torch.load('../데이터/Checkpoint/embedding_tr_0.8_lr_1e-05_wd_0_batch_128_epochs_131_e1_128_e2_128_e3_512_emb_1024_d1512_d2_256_d3_128.pth', map_location=DEVICE)"
   ]
  },
  {
   "cell_type": "code",
   "execution_count": 6,
   "metadata": {},
   "outputs": [],
   "source": [
    "# 동 이름 바꾸기\n",
    "old_and_new_dongs = {'용산동5가':'한강로동','한강로2가':'한강로동','창동':'창제동','돈암동':'정릉동','거여동':'위례동','문정동':'위례동','장지동':'위례동','문배동':'원효로동','산천동':'원효로동','신창동':'원효로동','원효로1가':'원효로동','화곡동':'우장산동','내발산동':'우장산동','영등포동8가':'영등포동','양평동3가':'양평동','안암동1가':'안암동','염리동':'아현동','성수동2가':'성수2가제2동','성수동1가':'성수1가제1동','중동':'성산동','노고산동':'서교동','신정동':'서강동','창전동':'서강동','삼선동4가':'삼선동','보문동3가':'보문동','동소문동7가':'동선동','당산동4가':'당산제2동','당산동5가':'당산제2동','당산동':'당산제2동','당산동3가':'당산제1동','당산동1가':'당산제1동','당산동2가':'당산제1동','본동':'노량진동','신수동':'노고산동','대흥동':'노고산동','금호동4가':'금호동','금호동2가':'금호동','충무로4가':'광희동','방화동':'공항동','도화동':'공덕동','신공덕동':'공덕동','일원동':'개포동'}\n",
    "def change_dongs(location):\n",
    "    parts = location.split(' ')\n",
    "    if parts[2] in old_and_new_dongs:\n",
    "        parts[2] = old_and_new_dongs[parts[2]]\n",
    "    return ' '.join(parts)\n",
    "table_1['location'] = table_1['location'].apply(change_dongs)\n",
    "\n",
    "# 정규화\n",
    "table_1[[cols for cols in table_1.columns if cols not in ['aid','location','name']]] = StandardScaler().fit_transform(table_1[[cols for cols in table_1.columns if cols not in ['aid','location','name']]])\n",
    "table_2[['call_rate','m2']] = StandardScaler().fit_transform(table_2[['call_rate','m2']])\n",
    "table_3['price'] = table_3['price'] * 0.0001\n",
    "\n",
    "model.eval()\n",
    "model.to(DEVICE)\n",
    "\n",
    "apartment_complexes_embedding_matrix_with_window_size = [] # (136188, window_size, embedding_dim)\n",
    "apartment_complexes_price_with_window_size = [] # (136188, 1)\n",
    "\n",
    "apartment_complexes_location = table_1['location']\n",
    "apartment_complexes_name = table_1['name']\n",
    "for apartment_complex_location, apartment_complex_name in zip(apartment_complexes_location, apartment_complexes_name): # 단지별로(702)\n",
    "    apartment_complex_values = table_1[(table_1['name'] == apartment_complex_name) * (table_1['location'] == apartment_complex_location)][[cols for cols in table_1.columns if cols not in ['aid','location','name']]].values\n",
    "    apartment_complex_tensor = torch.FloatTensor(apartment_complex_values).to(DEVICE).repeat(204, 1)\n",
    "    economy_values = table_2[['call_rate','m2']].values\n",
    "    economy_tensor = torch.FloatTensor(economy_values).to(DEVICE)\n",
    "    encoder_input_tensor = torch.cat((apartment_complex_tensor, economy_tensor), dim=1) # 2006/01~2022/12까지(204) 12개의 features를 가지는 encoder_input_tensor 생성 # (204, 12)\n",
    "\n",
    "    apartment_complex_embedding_matrix = np.zeros((encoder_input_tensor.shape[0], embedding_dim)) # (204, 1024)\n",
    "    with torch.no_grad():\n",
    "        for i in range(encoder_input_tensor.shape[0]): # 2006/01~2022/12까지 기간별로(204)\n",
    "            apartment_complex_embedding_vector = model.encoder(encoder_input_tensor[i].unsqueeze(0)).squeeze() # 12 features -> 1024 embedding_dim\n",
    "            if apartment_complex_embedding_vector.is_cuda:\n",
    "                apartment_complex_embedding_vector = apartment_complex_embedding_vector.cpu()\n",
    "            apartment_complex_embedding_matrix[i] = apartment_complex_embedding_vector.numpy()\n",
    "    apartment_complex_embedding_matrix_tensor = torch.FloatTensor(apartment_complex_embedding_matrix).to(DEVICE) # (204, 1024)\n",
    "\n",
    "    apartment_complex_aid = table_1[(table_1['name'] == apartment_complex_name) * (table_1['location'] == apartment_complex_location)]['aid'].squeeze()\n",
    "    price_values = pd.DataFrame({'did': range(0, 204)}).merge(table_3[table_3['aid'] == apartment_complex_aid][['did','price']], on='did', how='outer').fillna(0).set_index('did').values\n",
    "    price_tensor = torch.FloatTensor(price_values).to(DEVICE) # (204, 1)\n",
    "\n",
    "    for i in range(apartment_complex_embedding_matrix_tensor.shape[0]-ml_window_size):\n",
    "        if price_tensor[i+ml_window_size, :] != 0:\n",
    "            for window in range(ml_window_size):\n",
    "                apartment_complex_embedding_matrix_concat_tensor = torch.zeros(1, embedding_dim * ml_window_size)\n",
    "                apartment_complex_embedding_matrix_concat_tensor[:, window*embedding_dim:(window+1)*embedding_dim] = apartment_complex_embedding_matrix_tensor[i+window:i+window+1, :]\n",
    "            apartment_complexes_embedding_matrix_with_window_size.append(apartment_complex_embedding_matrix_concat_tensor)\n",
    "            apartment_complexes_price_with_window_size.append(price_tensor[i+ml_window_size, :])\n",
    "\n",
    "apartment_complexes_embedding_matrix_with_window_size = apartment_complexes_embedding_matrix_with_window_size\n",
    "apartment_complexes_price_with_window_size = apartment_complexes_price_with_window_size"
   ]
  },
  {
   "cell_type": "code",
   "execution_count": 9,
   "metadata": {},
   "outputs": [
    {
     "data": {
      "text/plain": [
       "torch.Size([1])"
      ]
     },
     "execution_count": 9,
     "metadata": {},
     "output_type": "execute_result"
    }
   ],
   "source": [
    "apartment_complexes_price_with_window_size[0].shape"
   ]
  },
  {
   "cell_type": "markdown",
   "metadata": {},
   "source": [
    "## LSTM"
   ]
  },
  {
   "cell_type": "code",
   "execution_count": 8,
   "metadata": {},
   "outputs": [],
   "source": [
    "model = torch.load('../데이터/Checkpoint/embedding_tr_0.8_lr_1e-05_wd_0_batch_128_epochs_131_e1_128_e2_128_e3_512_emb_1024_d1512_d2_256_d3_128.pth', map_location=torch.device('cpu'))"
   ]
  },
  {
   "cell_type": "code",
   "execution_count": 11,
   "metadata": {},
   "outputs": [],
   "source": [
    "model.eval()\n",
    "\n",
    "apartment_complexes_embedding_matrix_with_window_size = []\n",
    "apartment_complexes_price_with_window_size = []\n",
    "\n",
    "table_1[[cols for cols in table_1.columns if cols not in ['aid','location','name']]] = StandardScaler().fit_transform(table_1[[cols for cols in table_1.columns if cols not in ['aid','location','name']]])\n",
    "table_2[['call_rate','m2']] = StandardScaler().fit_transform(table_2[['call_rate','m2']])\n",
    "table_3[['price']] = table_3[['price']] * 0.0001\n",
    "\n",
    "apartment_complexes_location = table_1['location']\n",
    "apartment_complexes_name = table_1['name']\n",
    "for apartment_complex_location, apartment_complex_name in zip(apartment_complexes_location, apartment_complexes_name):\n",
    "    apartment_complex_values = table_1[(table_1['name'] == apartment_complex_name) * (table_1['location'] == apartment_complex_location)][[cols for cols in table_1.columns if cols not in ['aid','location','name']]].values\n",
    "    apartment_complex_tensor = torch.FloatTensor(apartment_complex_values).repeat(204, 1)\n",
    "    economy_values = table_2[['call_rate','m2']].values\n",
    "    economy_tensor = torch.FloatTensor(economy_values)\n",
    "    encoder_input_tensor = torch.cat((apartment_complex_tensor, economy_tensor), dim=1)\n",
    "\n",
    "    apartment_complex_embedding_matrix = np.zeros((encoder_input_tensor.shape[0], embedding_dim))\n",
    "    with torch.no_grad():\n",
    "        for i in range(encoder_input_tensor.shape[0]):\n",
    "            apartment_complex_embedding_vector = model.encoder(encoder_input_tensor[i].unsqueeze(0)).squeeze().numpy()\n",
    "            apartment_complex_embedding_matrix[i] = apartment_complex_embedding_vector\n",
    "    apartment_complex_embedding_matrix_tensor = torch.FloatTensor(apartment_complex_embedding_matrix)\n",
    "\n",
    "    apartment_complex_aid = table_1[(table_1['name'] == apartment_complex_name) * (table_1['location'] == apartment_complex_location)]['aid'].squeeze()\n",
    "    price_values = pd.DataFrame({'did': range(0, 204)}).merge(table_3[table_3['aid'] == apartment_complex_aid][['did','price']], on='did', how='outer').fillna(0).set_index('did').values\n",
    "    price_tensor = torch.FloatTensor(price_values)\n",
    "\n",
    "    for i in range(apartment_complex_embedding_matrix_tensor.shape[0]-lstm_window_size):\n",
    "        apartment_complexes_embedding_matrix_with_window_size.append(apartment_complex_embedding_matrix_tensor[i:i+lstm_window_size, :])\n",
    "        apartment_complexes_price_with_window_size.append(price_tensor[i+lstm_window_size, :])\n",
    "\n",
    "apartment_complexes_embedding_matrix_with_window_size = apartment_complexes_embedding_matrix_with_window_size\n",
    "apartment_complexes_price_with_window_size = apartment_complexes_price_with_window_size"
   ]
  },
  {
   "cell_type": "code",
   "execution_count": 23,
   "metadata": {},
   "outputs": [
    {
     "data": {
      "text/plain": [
       "torch.Size([10, 1024])"
      ]
     },
     "execution_count": 23,
     "metadata": {},
     "output_type": "execute_result"
    }
   ],
   "source": [
    "apartment_complexes_embedding_matrix_with_window_size[0].shape"
   ]
  },
  {
   "cell_type": "markdown",
   "metadata": {},
   "source": [
    "## Attention"
   ]
  },
  {
   "cell_type": "code",
   "execution_count": 24,
   "metadata": {},
   "outputs": [],
   "source": [
    "model = torch.load('../데이터/Checkpoint/embedding_lr_0.01_batch_32_epochs_50_dim_6.pth')\n",
    "\n",
    "max_apartment_complexes = 38 # 최대 단지 개수\n",
    "\n",
    "table_1['dong'] = table_1['location'].apply(lambda x: x.split(' ')[2])\n",
    "dongs = table_1['dong'].unique()"
   ]
  },
  {
   "cell_type": "code",
   "execution_count": 46,
   "metadata": {},
   "outputs": [],
   "source": [
    "dongs_apartment_complexes_embedding_matrixes_with_window_size_num = [] # 단지 개수 # (전체 동 개수 * 199, 1)\n",
    "dongs_apartment_complexes_embedding_matrixes_with_window_size_index = [] # y 값이 있는 단지 index # (전체 동 개수 * 199, ?)\n",
    "dongs_apartment_complexes_embedding_matrixes_with_window_size = [] # (전체 동 개수 * 199, 38, window_size, 6)\n",
    "dongs_apartment_complexes_prices_with_window_size = [] # (전체 동 개수 * 199, 38, 1)\n",
    "\n",
    "for dong in dongs: # 동 마다\n",
    "    # dong_apartment_complexes_embedding_matrixes(동 안의 단지마다 임베팅 matrix 구한 뒤 리스트 형식으로 모으기) 완성 # (동 안의 단지 개수, 204, 6)\n",
    "    dong_apartment_complexes_values = table_1[table_1['dong'] == dong][[cols for cols in table_1.columns if cols not in ['aid','location','name','dong']]].values # 하나의 동 안의 아파트 단지 값들 # (동 안의 단지 개수, 10)\n",
    "    economy_values = table_2[['call_rate','m2']].values # 경제 지표 값들 (204, 2)\n",
    "    economy_tensor = torch.FloatTensor(economy_values) # 경제 지표 텐서 변환\n",
    "\n",
    "    encoder_input_tensors = torch.zeros(dong_apartment_complexes_values.shape[0], 204, 12) # 인코더 입력 텐서들 초기화(인코더 입력 텐서 여러개) # (동 안의 단지 개수, 204(시점), 12)\n",
    "    for i, dong_apartment_complex_values in enumerate(dong_apartment_complexes_values):\n",
    "        dong_apartment_complex_tensor = torch.FloatTensor(dong_apartment_complex_values).repeat(204,1) \n",
    "        encoder_input_tensor = torch.cat((dong_apartment_complex_tensor, economy_tensor), dim=1)\n",
    "        encoder_input_tensors[i] = encoder_input_tensor\n",
    "\n",
    "    with torch.no_grad():\n",
    "        dong_apartment_complexes_embedding_matrixes = torch.zeros(encoder_input_tensors.shape[0], 204, embedding_dim) # (동 안의 단지 개수, 204, 6)\n",
    "        for i in range(encoder_input_tensors.shape[0]): # 동 안의 단지 (204, 6)\n",
    "            apartment_complex_embedding_matrix = torch.zeros(204,embedding_dim) # (204, 6)\n",
    "            for j in range(204): # 시점\n",
    "                apartment_complex_embedding_vector = model.encoder(encoder_input_tensors[i][j].unsqueeze(0)).squeeze() # (6, )\n",
    "                apartment_complex_embedding_matrix[j] = apartment_complex_embedding_vector\n",
    "            dong_apartment_complexes_embedding_matrixes[i] = apartment_complex_embedding_matrix\n",
    "\n",
    "\n",
    "    # dong_apartment_complexes_prices(동 안의 단지마다 가격 구한 뒤 리스트 형식으로 모으기) 완성 # (동 안의 단지 개수, 204, 1)\n",
    "    dong_apartment_complexes_aids = table_1[table_1['dong'] == dong]['aid'].values # (동 안의 단지 개수, )\n",
    "    dong_apartment_complexes_prices = torch.zeros(dong_apartment_complexes_aids.shape[0],204,1) # (동 안의 단지 개수, 204, 1)\n",
    "    for i, dong_apartment_complex_aid in zip(range(dong_apartment_complexes_aids.shape[0]), dong_apartment_complexes_aids): # 동 안의 단지 개수, 동 안의 단지들의 aids\n",
    "        dong_apartment_complexes_prices[i] = torch.from_numpy(pd.DataFrame({'did': range(0, 204)}).merge(table_3[table_3['aid'] == dong_apartment_complex_aid][['did','price']], on='did', how='outer').fillna(0).set_index('did').values) # (204, 1)\n",
    "\n",
    "\n",
    "    # dong_apartment_complexes_embedding_matrixes와 dong_apartment_complexes_prices window_size로 나누기\n",
    "    for i in range(204-window_size): # window_size 고려한 시점(0~199)\n",
    "        dong_apartment_complexes_embedding_matrixes_with_window_size = torch.zeros(max_apartment_complexes, window_size, embedding_dim) # (38, window_size, 6)\n",
    "        dong_apartment_complexes_prices_with_window_size = torch.zeros(max_apartment_complexes, 1) # (38, 1)\n",
    "        for j in range(dong_apartment_complexes_embedding_matrixes.shape[0]): # 동 안의 단지 개수\n",
    "            dong_apartment_complexes_embedding_matrixes_with_window_size[j] = dong_apartment_complexes_embedding_matrixes[j][i:i+window_size,:] # (window_size, 6)\n",
    "            dong_apartment_complexes_prices_with_window_size[j] = dong_apartment_complexes_prices[j][i+window_size,:] # (1, )\n",
    "        dongs_apartment_complexes_embedding_matrixes_with_window_size_num.append(dong_apartment_complexes_embedding_matrixes.shape[0]) # 자연수\n",
    "        dongs_apartment_complexes_embedding_matrixes_with_window_size_index.append(torch.nonzero(dong_apartment_complexes_prices_with_window_size, as_tuple=False)[:, 0]) # (1, )\n",
    "        dongs_apartment_complexes_embedding_matrixes_with_window_size.append(dong_apartment_complexes_embedding_matrixes_with_window_size) # (38, window_size, 6)\n",
    "        dongs_apartment_complexes_prices_with_window_size.append(dong_apartment_complexes_prices_with_window_size) # (38, 1)"
   ]
  }
 ],
 "metadata": {
  "kernelspec": {
   "display_name": "Python 3",
   "language": "python",
   "name": "python3"
  },
  "language_info": {
   "codemirror_mode": {
    "name": "ipython",
    "version": 3
   },
   "file_extension": ".py",
   "mimetype": "text/x-python",
   "name": "python",
   "nbconvert_exporter": "python",
   "pygments_lexer": "ipython3",
   "version": "3.11.4"
  }
 },
 "nbformat": 4,
 "nbformat_minor": 2
}
