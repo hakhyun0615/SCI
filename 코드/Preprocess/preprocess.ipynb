{
 "cells": [
  {
   "cell_type": "code",
   "execution_count": 1,
   "metadata": {},
   "outputs": [],
   "source": [
    "import pandas as pd\n",
    "pd.set_option('display.max_rows', None)"
   ]
  },
  {
   "cell_type": "code",
   "execution_count": 2,
   "metadata": {},
   "outputs": [],
   "source": [
    "window_size = 5"
   ]
  },
  {
   "cell_type": "markdown",
   "metadata": {},
   "source": [
    "### 준비"
   ]
  },
  {
   "cell_type": "code",
   "execution_count": 3,
   "metadata": {},
   "outputs": [],
   "source": [
    "transaction_all = pd.read_csv('../../데이터/transaction/transaction_all.csv')\n",
    "\n",
    "transaction_all['계약연도'] = transaction_all['계약년월'].apply(lambda x: str(x)[:4])\n",
    "transaction_all['거래금액(만원)'] = transaction_all['거래금액(만원)'].apply(lambda x: int(x.replace(',','')))\n",
    "transaction_all['제곱미터당 거래금액(만원)'] = transaction_all['거래금액(만원)'] / transaction_all['전용면적(㎡)']\n",
    "transaction_all['단지'] = transaction_all['시군구'] + ' ' + transaction_all['단지명']\n",
    "transaction_all = transaction_all[['단지', '계약년월', '건축년도', '제곱미터당 거래금액(만원)']]"
   ]
  },
  {
   "cell_type": "code",
   "execution_count": 4,
   "metadata": {},
   "outputs": [],
   "source": [
    "economy_all = pd.read_excel('../../데이터/Economy/economy_all.xlsx')\n",
    "date_range = pd.date_range(start=\"2006-01\", periods=len(economy_all), freq=\"M\")\n",
    "economy_all['계약년월'] = date_range.strftime('%Y%m').astype(int)"
   ]
  },
  {
   "cell_type": "code",
   "execution_count": 5,
   "metadata": {},
   "outputs": [
    {
     "name": "stdout",
     "output_type": "stream",
     "text": [
      "1237568\n",
      "8977\n"
     ]
    }
   ],
   "source": [
    "print(len(transaction_all))\n",
    "print(len(transaction_all['단지'].unique()))"
   ]
  },
  {
   "cell_type": "markdown",
   "metadata": {},
   "source": [
    "### 동일 동,단지이지만 건축년도가 다른 단지 제거"
   ]
  },
  {
   "cell_type": "code",
   "execution_count": 6,
   "metadata": {},
   "outputs": [],
   "source": [
    "transaction_all = transaction_all.groupby('단지').filter(lambda x: x['건축년도'].nunique() == 1)"
   ]
  },
  {
   "cell_type": "markdown",
   "metadata": {},
   "source": [
    "### 거개량 적은(window_size+1 미만) 단지 제거"
   ]
  },
  {
   "cell_type": "code",
   "execution_count": 7,
   "metadata": {},
   "outputs": [],
   "source": [
    "apartment_complex_volume = transaction_all.groupby('단지').agg({'건축년도':'first','제곱미터당 거래금액(만원)':'count'}).reset_index().rename(columns={'제곱미터당 거래금액(만원)':'거래량'})\n",
    "small_volume_apartment_complexes = apartment_complex_volume[apartment_complex_volume['거래량'] < window_size+1]['단지'].to_list()\n",
    "\n",
    "transaction_all = transaction_all[~transaction_all['단지'].isin(small_volume_apartment_complexes)].reset_index(drop=True)"
   ]
  },
  {
   "cell_type": "code",
   "execution_count": 8,
   "metadata": {},
   "outputs": [
    {
     "name": "stdout",
     "output_type": "stream",
     "text": [
      "1233257\n",
      "8326\n"
     ]
    }
   ],
   "source": [
    "print(len(transaction_all))\n",
    "print(len(transaction_all['단지'].unique()))"
   ]
  },
  {
   "cell_type": "markdown",
   "metadata": {},
   "source": [
    "### 이상치 제거"
   ]
  },
  {
   "cell_type": "code",
   "execution_count": 9,
   "metadata": {},
   "outputs": [],
   "source": [
    "transaction_all['Z 스코어'] = transaction_all.groupby('단지')['제곱미터당 거래금액(만원)'].transform(lambda x: (x-x.mean()) / x.std())\n",
    "transaction_all = transaction_all[transaction_all['Z 스코어'].between(-3, 3)]\n",
    "transaction_all = transaction_all.drop(columns=['Z 스코어']).reset_index(drop=True)"
   ]
  },
  {
   "cell_type": "code",
   "execution_count": 10,
   "metadata": {},
   "outputs": [
    {
     "name": "stdout",
     "output_type": "stream",
     "text": [
      "1208749\n",
      "8323\n"
     ]
    }
   ],
   "source": [
    "print(len(transaction_all))\n",
    "print(len(transaction_all['단지'].unique()))"
   ]
  },
  {
   "cell_type": "markdown",
   "metadata": {},
   "source": [
    "### 동일 단지,계약년월일 경우, 제곱미터당 거래금액(만원) 평균"
   ]
  },
  {
   "cell_type": "code",
   "execution_count": 11,
   "metadata": {},
   "outputs": [],
   "source": [
    "transaction_all = transaction_all.groupby(['단지','계약년월','건축년도'])['제곱미터당 거래금액(만원)'].mean().to_frame().reset_index()"
   ]
  },
  {
   "cell_type": "code",
   "execution_count": 12,
   "metadata": {},
   "outputs": [
    {
     "name": "stdout",
     "output_type": "stream",
     "text": [
      "417224\n",
      "8323\n"
     ]
    }
   ],
   "source": [
    "print(len(transaction_all))\n",
    "print(len(transaction_all['단지'].unique()))"
   ]
  },
  {
   "cell_type": "markdown",
   "metadata": {},
   "source": [
    "### 동과 단지 분리 후 저장"
   ]
  },
  {
   "cell_type": "code",
   "execution_count": 13,
   "metadata": {},
   "outputs": [],
   "source": [
    "transaction_all['동'] = transaction_all['단지'].apply(lambda x: x.split(' ')[:3]).apply(lambda x: ' '.join(x))\n",
    "transaction_all['단지'] = transaction_all['단지'].apply(lambda x: x.split(' ')[3:]).apply(lambda x: ' '.join(x))\n",
    "transaction_all = transaction_all[['동','단지','건축년도','계약년월','제곱미터당 거래금액(만원)']]"
   ]
  },
  {
   "cell_type": "code",
   "execution_count": 14,
   "metadata": {},
   "outputs": [],
   "source": [
    "transaction_all.to_excel('transaction_all.xlsx')\n",
    "transaction_all.to_csv('transaction_all.csv')"
   ]
  }
 ],
 "metadata": {
  "kernelspec": {
   "display_name": "Python 3",
   "language": "python",
   "name": "python3"
  },
  "language_info": {
   "codemirror_mode": {
    "name": "ipython",
    "version": 3
   },
   "file_extension": ".py",
   "mimetype": "text/x-python",
   "name": "python",
   "nbconvert_exporter": "python",
   "pygments_lexer": "ipython3",
   "version": "3.11.4"
  },
  "orig_nbformat": 4
 },
 "nbformat": 4,
 "nbformat_minor": 2
}
