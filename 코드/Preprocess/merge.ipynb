{
 "cells": [
  {
   "cell_type": "code",
   "execution_count": 2,
   "metadata": {},
   "outputs": [],
   "source": [
    "import pandas as pd"
   ]
  },
  {
   "attachments": {},
   "cell_type": "markdown",
   "metadata": {},
   "source": [
    "### 실거래가 전부 합치기"
   ]
  },
  {
   "cell_type": "code",
   "execution_count": null,
   "metadata": {},
   "outputs": [],
   "source": [
    "transaction_all = pd.DataFrame(columns=['시군구', '번지', '본번', '부번', '단지명', '전용면적(㎡)', '계약년월', '계약일', '거래금액(만원)', '층', '건축년도', '도로명'])\n",
    "total = 0\n",
    "\n",
    "for year in range(2006,2023):\n",
    "    df = pd.read_excel('../../데이터/transaction/transaction_'+str(year)+'.xlsx')\n",
    "    df.columns = list(df.iloc[15].values)\n",
    "    df = df[16:].reset_index(drop=True)\n",
    "    df = df[['시군구', '번지', '본번', '부번', '단지명', '전용면적(㎡)', '계약년월', '계약일', '거래금액(만원)', '층', '건축년도', '도로명']]\n",
    "    total += len(df)\n",
    "    print(len(df))\n",
    "    print(total)\n",
    "    transaction_all = pd.concat([transaction_all, df], ignore_index=True)\n",
    "\n",
    "print(len(transaction_all))\n",
    "transaction_all.to_csv('../../데이터/transaction/transaction_all.csv', index=False)"
   ]
  }
 ],
 "metadata": {
  "kernelspec": {
   "display_name": "Python 3",
   "language": "python",
   "name": "python3"
  },
  "language_info": {
   "codemirror_mode": {
    "name": "ipython",
    "version": 3
   },
   "file_extension": ".py",
   "mimetype": "text/x-python",
   "name": "python",
   "nbconvert_exporter": "python",
   "pygments_lexer": "ipython3",
   "version": "3.11.4"
  },
  "orig_nbformat": 4
 },
 "nbformat": 4,
 "nbformat_minor": 2
}
