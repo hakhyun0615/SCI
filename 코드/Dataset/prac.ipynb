{
 "cells": [
  {
   "cell_type": "code",
   "execution_count": 11,
   "metadata": {},
   "outputs": [],
   "source": [
    "import pandas as pd\n",
    "\n",
    "data = pd.read_csv('../../데이터/Transaction/transaction_final.csv',index_col=0)"
   ]
  },
  {
   "cell_type": "code",
   "execution_count": 15,
   "metadata": {},
   "outputs": [],
   "source": [
    "import torch\n",
    "from torch.utils.data import Dataset\n",
    "\n",
    "class TransactionDataset(Dataset):\n",
    "    def __init__(self, data, sequence_length=5):\n",
    "        X, Y = [], []\n",
    "        unique_complexes = list(data['단지명'].unique())\n",
    "        for complex in unique_complexes:\n",
    "            filtered_data_values = data[data['단지명']==complex]['평단가'].values\n",
    "            for i in range(len(filtered_data_values) - sequence_length):\n",
    "                X.append(filtered_data_values[i:i+sequence_length])\n",
    "                Y.append(filtered_data_values[i+sequence_length])\n",
    "        self.x = torch.FloatTensor(X)\n",
    "        self.y = torch.FloatTensor(Y)\n",
    "        self.len = len(X)\n",
    "\n",
    "    def __getitem__(self, i):\n",
    "        return self.x[i], self.y[i]\n",
    "\n",
    "    def __len__(self):\n",
    "        return self.len\n",
    "\n",
    "sample_dataset = TransactionDataset(data)"
   ]
  }
 ],
 "metadata": {
  "kernelspec": {
   "display_name": "Python 3",
   "language": "python",
   "name": "python3"
  },
  "language_info": {
   "codemirror_mode": {
    "name": "ipython",
    "version": 3
   },
   "file_extension": ".py",
   "mimetype": "text/x-python",
   "name": "python",
   "nbconvert_exporter": "python",
   "pygments_lexer": "ipython3",
   "version": "3.11.4"
  },
  "orig_nbformat": 4
 },
 "nbformat": 4,
 "nbformat_minor": 2
}
