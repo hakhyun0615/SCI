{
 "cells": [
  {
   "cell_type": "code",
   "execution_count": 155,
   "metadata": {},
   "outputs": [],
   "source": [
    "import numpy as np\n",
    "import pandas as pd\n",
    "\n",
    "from torch.utils.data import Dataset, DataLoader\n",
    "import torch"
   ]
  },
  {
   "cell_type": "code",
   "execution_count": 156,
   "metadata": {},
   "outputs": [],
   "source": [
    "data = pd.read_csv('../../데이터/Transaction/transaction_final.csv',index_col=0)"
   ]
  },
  {
   "cell_type": "code",
   "execution_count": 157,
   "metadata": {},
   "outputs": [],
   "source": [
    "class RNN_Transaction_Dataset(Dataset):\n",
    "    def __init__(self, data, sequence_length=5):\n",
    "        data['계약년월'] = pd.to_datetime(data['계약년월'])\n",
    "        interpolated_data = pd.DataFrame(data.groupby(['시군구', '단지명']).apply(price_per_pyeong_interpolate)['평단가']).reset_index().rename(columns={'level_2': '계약년월'})\n",
    "        dongs_data = []\n",
    "        for dong in interpolated_data['시군구'].unique():\n",
    "            dong_data = []\n",
    "            for apartment_complex in interpolated_data[interpolated_data['시군구'] == dong]['단지명'].unique():\n",
    "                filtered_interpolated_data_values = interpolated_data[interpolated_data['단지명'] == apartment_complex]['평단가'].values\n",
    "                for idx in range(len(filtered_interpolated_data_values) - sequence_length):\n",
    "                    apartment_complex_x = filtered_interpolated_data_values[idx:idx + sequence_length]\n",
    "                    apartment_complex_y = filtered_interpolated_data_values[idx + sequence_length:idx + sequence_length + 1]\n",
    "                    dong_data.append((apartment_complex_x, apartment_complex_y))\n",
    "            dongs_data.append(dong_data)\n",
    "        self.dongs_data = dongs_data\n",
    "        self.len = len(dongs_data)\n",
    "\n",
    "    # 동 하나 가져오기(따라서 batch_size도 1로 해야 함)\n",
    "    def __getitem__(self, i):\n",
    "        dong_data = self.dongs_data[i]\n",
    "        dong_x, dong_y = [], []\n",
    "        for apartment_complex_x, apartment_complex_y in dong_data:\n",
    "            dong_x.append(torch.FloatTensor(apartment_complex_x))\n",
    "            dong_y.append(torch.FloatTensor(apartment_complex_y))\n",
    "        return dong_x, dong_y\n",
    "\n",
    "    # 전체 동 개수\n",
    "    def __len__(self):\n",
    "        return self.len\n",
    "\n",
    "batch_size = 1\n",
    "train_dataset = RNN_Transaction_Dataset(data)\n",
    "train_loader = DataLoader(train_dataset, batch_size=batch_size)"
   ]
  },
  {
   "cell_type": "code",
   "execution_count": null,
   "metadata": {},
   "outputs": [],
   "source": [
    "class ODE_Transaction_Dataset(Dataset):\n",
    "    def __init__(self, data, sequence_length=5):\n",
    "        data['계약년월'] = pd.to_datetime(data['계약년월'])\n",
    "        interpolated_data = pd.DataFrame(data.groupby(['시군구', '단지명']).apply(price_per_pyeong_interpolate)['평단가']).reset_index().rename(columns={'level_2': '계약년월'})\n",
    "        dongs_data = []\n",
    "        for dong in interpolated_data['시군구'].unique():\n",
    "            dong_data = []\n",
    "            for apartment_complex in interpolated_data[interpolated_data['시군구'] == dong]['단지명'].unique():\n",
    "                filtered_interpolated_data_values = interpolated_data[interpolated_data['단지명'] == apartment_complex]['평단가'].values\n",
    "                for idx in range(len(filtered_interpolated_data_values) - sequence_length):\n",
    "                    apartment_complex_x = filtered_interpolated_data_values[idx:idx + sequence_length]\n",
    "                    apartment_complex_y = filtered_interpolated_data_values[idx + sequence_length:idx + sequence_length + 1]\n",
    "                    dong_data.append((apartment_complex_x, apartment_complex_y))\n",
    "            dongs_data.append(dong_data)\n",
    "        self.dongs_data = dongs_data\n",
    "        self.len = len(dongs_data)\n",
    "\n",
    "    # 동 하나 가져오기(따라서 batch_size도 1로 해야 함)\n",
    "    def __getitem__(self, i):\n",
    "        dong_data = self.dongs_data[i]\n",
    "        dong_x, dong_y = [], []\n",
    "        for apartment_complex_x, apartment_complex_y in dong_data:\n",
    "            dong_x.append(torch.FloatTensor(apartment_complex_x))\n",
    "            dong_y.append(torch.FloatTensor(apartment_complex_y))\n",
    "        return dong_x, dong_y\n",
    "\n",
    "    # 전체 동 개수\n",
    "    def __len__(self):\n",
    "        return self.len\n",
    "\n",
    "batch_size = 1\n",
    "train_dataset = RNN_Transaction_Dataset(data)\n",
    "train_loader = DataLoader(train_dataset, batch_size=batch_size)"
   ]
  },
  {
   "cell_type": "code",
   "execution_count": 8,
   "metadata": {},
   "outputs": [
    {
     "name": "stdout",
     "output_type": "stream",
     "text": [
      "158\n"
     ]
    }
   ],
   "source": [
    "import torch\n",
    "from torch.utils.data import Dataset\n",
    "\n",
    "class Filled_RNN_Dataset(Dataset):\n",
    "    def __init__(self, data, sequence_length=5):\n",
    "        interpolated_data = pd.DataFrame(data.groupby(['시군구','단지명']).apply(price_per_pyeong_interpolate)['평단가']).reset_index().rename(columns={'level_2': '계약년월'}).rename(columns={'level_2': '계약년월'})\n",
    "\n",
    "        # max_complex_len = 0\n",
    "        # for dong in interpolated_data['시군구'].unique():\n",
    "        #     dong_unique_complexes_len = len(data[data['시군구']==dong]['단지명'].unique())\n",
    "        #     if dong_unique_complexes_len > max_complex_len:\n",
    "        #         max_complex_len = dong_unique_complexes_len\n",
    "\n",
    "        dongs_X, dongs_Y = [], []\n",
    "\n",
    "        for i in range(len(pd.to_datetime(pd.date_range(start=\"2006-01-01\", end=\"2022-12-01\", freq='MS')))-sequence_length):\n",
    "            \n",
    "        \n",
    "\n",
    "        # dong_X, dong_Y = [], []\n",
    "        # for complex in unique_complexes:\n",
    "        #     filtered_data_values = data[data['단지명']==complex]['평단가'].values\n",
    "        #     for i in range(len(filtered_data_values) - sequence_length):\n",
    "        #         X.append(filtered_data_values[i:i+sequence_length])\n",
    "        #         Y.append(filtered_data_values[i+sequence_length])\n",
    "        # self.x = torch.FloatTensor(X)\n",
    "        # self.y = torch.FloatTensor(Y)\n",
    "        # self.len = len(X)\n",
    "\n",
    "    def __getitem__(self, i):\n",
    "        return self.x[i], self.y[i]\n",
    "\n",
    "    def __len__(self):\n",
    "        return self.len\n",
    "\n",
    "sample_dataset = Filled_RNN_Dataset(data)"
   ]
  }
 ],
 "metadata": {
  "kernelspec": {
   "display_name": "Python 3",
   "language": "python",
   "name": "python3"
  },
  "language_info": {
   "codemirror_mode": {
    "name": "ipython",
    "version": 3
   },
   "file_extension": ".py",
   "mimetype": "text/x-python",
   "name": "python",
   "nbconvert_exporter": "python",
   "pygments_lexer": "ipython3",
   "version": "3.11.4"
  },
  "orig_nbformat": 4
 },
 "nbformat": 4,
 "nbformat_minor": 2
}
