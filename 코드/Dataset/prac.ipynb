{
 "cells": [
  {
   "cell_type": "code",
   "execution_count": 15,
   "metadata": {},
   "outputs": [],
   "source": [
    "import numpy as np\n",
    "import pandas as pd\n",
    "\n",
    "from torch.utils.data import Dataset, DataLoader\n",
    "import torch"
   ]
  },
  {
   "cell_type": "code",
   "execution_count": 16,
   "metadata": {},
   "outputs": [],
   "source": [
    "transaction_df = pd.read_excel('../../데이터/Transaction/transaction_final.xlsx',index_col=0)\n",
    "economy_df = pd.read_excel('../../데이터/Economy/economy_all.xlsx')"
   ]
  },
  {
   "cell_type": "code",
   "execution_count": 30,
   "metadata": {},
   "outputs": [],
   "source": [
    "def price_per_pyeong_interpolate(group):\n",
    "    idx = pd.date_range(group['계약년월'].min(), group['계약년월'].max(), freq='MS')\n",
    "    group = group.set_index('계약년월').reindex(idx)\n",
    "    group['단지명'] = group['단지명'].fillna(method='ffill')\n",
    "    group['시군구'] = group['시군구'].fillna(method='ffill')\n",
    "    group['평단가'] = group['평단가'].interpolate()\n",
    "    return group"
   ]
  },
  {
   "cell_type": "code",
   "execution_count": 31,
   "metadata": {},
   "outputs": [],
   "source": [
    "class RNN_Transaction_Dataset(Dataset):\n",
    "    def __init__(self, data, sequence_length=5):\n",
    "        data['계약년월'] = pd.to_datetime(data['계약년월'])\n",
    "        interpolated_data = pd.DataFrame(data.groupby(['시군구', '단지명']).apply(price_per_pyeong_interpolate)['평단가']).reset_index().rename(columns={'level_2': '계약년월'})\n",
    "\n",
    "        dongs_x, dongs_y = [], []\n",
    "        for dong in interpolated_data['시군구'].unique():\n",
    "            for apartment_complex in interpolated_data[interpolated_data['시군구'] == dong]['단지명'].unique():\n",
    "                filtered_interpolated_data_values = interpolated_data[interpolated_data['단지명'] == apartment_complex]['평단가'].values\n",
    "                for idx in range(len(filtered_interpolated_data_values)-sequence_length):\n",
    "                    apartment_complex_x = filtered_interpolated_data_values[idx:idx+sequence_length]\n",
    "                    apartment_complex_y = filtered_interpolated_data_values[idx+sequence_length:idx+sequence_length+1]\n",
    "                    dongs_x.append(apartment_complex_x)\n",
    "                    dongs_y.append(apartment_complex_y)   \n",
    "\n",
    "        self.dongs_x = dongs_x\n",
    "        self.dongs_y = dongs_y\n",
    "        self.len = len(dongs_x)\n",
    "\n",
    "    def __getitem__(self, i):\n",
    "        return torch.FloatTensor(self.dongs_x[i]), torch.FloatTensor(self.dongs_y[i])\n",
    "\n",
    "    def __len__(self):\n",
    "        return self.len\n",
    "\n",
    "batch_size = 2\n",
    "train_dataset = RNN_Transaction_Dataset(transaction_df)\n",
    "train_loader = DataLoader(train_dataset, batch_size=batch_size)"
   ]
  },
  {
   "cell_type": "code",
   "execution_count": 32,
   "metadata": {},
   "outputs": [
    {
     "name": "stdout",
     "output_type": "stream",
     "text": [
      "tensor([[2586.9565, 2913.0435, 2760.8696, 2608.6956, 2741.8479],\n",
      "        [2913.0435, 2760.8696, 2608.6956, 2741.8479, 2875.0000]])\n"
     ]
    }
   ],
   "source": [
    "for x,y in train_loader:\n",
    "    print(x)\n",
    "    break"
   ]
  },
  {
   "cell_type": "code",
   "execution_count": 18,
   "metadata": {},
   "outputs": [],
   "source": [
    "def price_per_pyeong_fill_0(df):\n",
    "    months = pd.to_datetime(pd.date_range(start=\"20060101\", end=\"20221201\", freq='MS'))\n",
    "    complex_city_combinations = df[['단지명', '시군구']].drop_duplicates()\n",
    "\n",
    "    combinations = pd.DataFrame({\n",
    "        '단지명': np.tile(complex_city_combinations['단지명'], len(months)),\n",
    "        '시군구': np.tile(complex_city_combinations['시군구'], len(months)),\n",
    "        '계약년월': np.repeat(months, len(complex_city_combinations))\n",
    "    })\n",
    "    \n",
    "    df['계약년월'] = pd.to_datetime(df['계약년월'])\n",
    "    df = pd.merge(combinations, df, on=['단지명', '계약년월', '시군구'], how='left')\n",
    "    df['평단가'].fillna(0, inplace=True)\n",
    "\n",
    "    return df"
   ]
  },
  {
   "cell_type": "code",
   "execution_count": 59,
   "metadata": {},
   "outputs": [],
   "source": [
    "class RNN_Transformer_Dataset(Dataset):\n",
    "    def __init__(self, transaction_data, economy_data, sequence_length=5):\n",
    "        all_dong_max_apartment_complex = transaction_data.drop_duplicates(subset=['시군구','단지명']).groupby(['시군구'])['단지명'].count().max()\n",
    "\n",
    "        filled_data = price_per_pyeong_fill_0(transaction_data)\n",
    "        filled_data = filled_data[['시군구', '단지명', '계약년월', '평단가']]        \n",
    "\n",
    "        dongs_x, dongs_y = [], []\n",
    "        for dong in filled_data['시군구'].unique():\n",
    "            filtered_filled_data = filled_data[filled_data['시군구'] == dong]\n",
    "            date_range = pd.date_range('20060101', '20221201', freq='MS')\n",
    "            for idx in range(len(date_range)-sequence_length):\n",
    "                current_range_x = date_range[idx:idx+sequence_length]\n",
    "                current_range_y = date_range[idx+sequence_length:idx+sequence_length+1]\n",
    "                current_range_filled_x = filtered_filled_data[filtered_filled_data['계약년월'].isin(current_range_x)]\n",
    "                current_range_filled_y = filtered_filled_data[filtered_filled_data['계약년월'].isin(current_range_y)]\n",
    "                grouped_current_range_filled_x = current_range_filled_x.groupby('단지명').agg({'평단가': list}).reset_index()['평단가'].to_list()\n",
    "                grouped_current_range_filled_y = current_range_filled_y.groupby('단지명').agg({'평단가': list}).reset_index()['평단가'].to_list()\n",
    "                if len(grouped_current_range_filled_x) < all_dong_max_apartment_complex:\n",
    "                    for _ in range(all_dong_max_apartment_complex-len(grouped_current_range_filled_x)):\n",
    "                        grouped_current_range_filled_x.append([0.0]*sequence_length)\n",
    "                        grouped_current_range_filled_y.append([0.0])\n",
    "                economy_x, economy_y = [], []\n",
    "                economy_x.extend([\n",
    "                    economy_data['국고채금리'][idx:idx+sequence_length].to_list(),\n",
    "                    economy_data['콜금리'][idx:idx+sequence_length].to_list()\n",
    "                ])\n",
    "                economy_y.extend([\n",
    "                    economy_data['국고채금리'][idx+sequence_length:idx+sequence_length+1].to_list(),\n",
    "                    economy_data['콜금리'][idx+sequence_length:idx+sequence_length+1].to_list()\n",
    "                ])\n",
    "                grouped_current_range_filled_and_economy_x = []\n",
    "                grouped_current_range_filled_and_economy_x.extend([grouped_current_range_filled_x, economy_x])\n",
    "                grouped_current_range_filled_and_economy_y = []\n",
    "                grouped_current_range_filled_and_economy_y.extend([grouped_current_range_filled_y, economy_y])\n",
    "                dongs_x.append(grouped_current_range_filled_and_economy_x)\n",
    "                dongs_y.append(grouped_current_range_filled_and_economy_y)\n",
    "\n",
    "        self.dongs_x = dongs_x\n",
    "        self.dongs_y = dongs_y\n",
    "        self.len = len(dongs_x)\n",
    "\n",
    "    # 부동산_x, 경제_x, 부동산_y, 경제_y \n",
    "    def __getitem__(self, i):\n",
    "        return torch.FloatTensor(self.dongs_x[i][0]), torch.FloatTensor(self.dongs_x[i][1]), torch.FloatTensor(self.dongs_y[i][0]), torch.FloatTensor(self.dongs_y[i][1])\n",
    "\n",
    "    def __len__(self):\n",
    "        return self.len\n",
    "\n",
    "batch_size = 1\n",
    "train_dataset = RNN_Transformer_Dataset(transaction_df, economy_df)\n",
    "train_loader = DataLoader(train_dataset, batch_size=batch_size)"
   ]
  },
  {
   "cell_type": "code",
   "execution_count": 63,
   "metadata": {},
   "outputs": [
    {
     "name": "stdout",
     "output_type": "stream",
     "text": [
      "tensor([[[3.2380],\n",
      "         [1.9710]]])\n"
     ]
    }
   ],
   "source": [
    "for x,y,z,w in train_loader:\n",
    "    print(w)\n",
    "    break"
   ]
  },
  {
   "cell_type": "code",
   "execution_count": 8,
   "metadata": {},
   "outputs": [],
   "source": [
    "class NODE_Transaction_Dataset(Dataset):\n",
    "    def __init__(self, data, sequence_length=5):\n",
    "        data['계약년월'] = data['계약년월'].dt.strftime('%Y%m%d')\n",
    "\n",
    "        dongs_x, dongs_y = [], []\n",
    "        for dong in data['시군구'].unique():\n",
    "            for apartment_complex in data[data['시군구'] == dong]['단지명'].unique():\n",
    "                filtered_data_values = data[data['단지명'] == apartment_complex]['평단가'].values\n",
    "                filtered_data_times = data[data['단지명'] == apartment_complex]['계약년월'].apply(lambda x: int(x)).values \n",
    "                for idx in range(len(filtered_data_values)-sequence_length):\n",
    "                    apartment_complex_and_time_x = []\n",
    "                    apartment_complex_and_time_x.extend([\n",
    "                        filtered_data_values[idx:idx+sequence_length],\n",
    "                        filtered_data_times[idx:idx+sequence_length]\n",
    "                    ])\n",
    "                    apartment_complex_and_time_y = []\n",
    "                    apartment_complex_and_time_y.extend([\n",
    "                        filtered_data_values[idx+sequence_length:idx+sequence_length+1],\n",
    "                        filtered_data_times[idx+sequence_length:idx+sequence_length+1]\n",
    "                    ])\n",
    "                    dongs_x.append(apartment_complex_and_time_x)\n",
    "                    dongs_y.append(apartment_complex_and_time_y)\n",
    "\n",
    "        self.dongs_x = dongs_x\n",
    "        self.dongs_y = dongs_y\n",
    "        self.len = len(dongs_x)\n",
    "\n",
    "    # 부동산_x, 부동산_시점_x, 부동산_y, 부동산_시점_y \n",
    "    def __getitem__(self, i):\n",
    "        return torch.FloatTensor(self.dongs_x[i][0]), torch.tensor(self.dongs_x[i][1], dtype=torch.int64), torch.FloatTensor(self.dongs_y[i][0]), torch.tensor(self.dongs_y[i][1], dtype=torch.int64)\n",
    "\n",
    "    def __len__(self):\n",
    "        return self.len\n",
    "\n",
    "batch_size = 1\n",
    "train_dataset = NODE_Transaction_Dataset(transaction_df)\n",
    "train_loader = DataLoader(train_dataset, batch_size=batch_size)"
   ]
  },
  {
   "cell_type": "code",
   "execution_count": 9,
   "metadata": {},
   "outputs": [
    {
     "name": "stdout",
     "output_type": "stream",
     "text": [
      "tensor([[20060301, 20060401, 20060601, 20061001, 20061201]])\n"
     ]
    }
   ],
   "source": [
    "for x,y,z,w in train_loader:\n",
    "    print(y)\n",
    "    break"
   ]
  },
  {
   "cell_type": "code",
   "execution_count": null,
   "metadata": {},
   "outputs": [],
   "source": [
    "class NODE_Transformer_Dataset(Dataset):\n",
    "    def __init__(self, transaction_data, economy_data, sequence_length=5):\n",
    "        all_dong_max_apartment_complex = transaction_data.drop_duplicates(subset=['시군구','단지명']).groupby(['시군구'])['단지명'].count().max()\n",
    "\n",
    "        dongs_x, dongs_y = [], []\n",
    "        for dong in transaction_data['시군구'].unique():\n",
    "            filtered_filled_data = transaction_data[transaction_data['시군구'] == dong]\n",
    "            date_range = pd.date_range('20060101', '20221201', freq='MS')\n",
    "            for idx in range(len(date_range)-sequence_length):\n",
    "                current_range_x = date_range[idx:idx+sequence_length]\n",
    "                current_range_y = date_range[idx+sequence_length:idx+sequence_length+1]\n",
    "                current_range_filled_x = filtered_filled_data[filtered_filled_data['계약년월'].isin(current_range_x)]\n",
    "                current_range_filled_y = filtered_filled_data[filtered_filled_data['계약년월'].isin(current_range_y)]\n",
    "                grouped_current_range_filled_x = current_range_filled_x.groupby('단지명').agg({'평단가': list}).reset_index()['평단가'].to_list()\n",
    "                grouped_current_range_filled_y = current_range_filled_y.groupby('단지명').agg({'평단가': list}).reset_index()['평단가'].to_list()\n",
    "                if len(grouped_current_range_filled_x) < all_dong_max_apartment_complex:\n",
    "                    for _ in range(all_dong_max_apartment_complex-len(grouped_current_range_filled_x)):\n",
    "                        grouped_current_range_filled_x.append([0.0]*sequence_length)\n",
    "                        grouped_current_range_filled_y.append([0.0])\n",
    "                economy_x, economy_y = [], []\n",
    "                economy_x.extend([\n",
    "                    economy_data['국고채금리'][idx:idx+sequence_length].to_list(),\n",
    "                    economy_data['콜금리'][idx:idx+sequence_length].to_list()\n",
    "                ])\n",
    "                economy_y.extend([\n",
    "                    economy_data['국고채금리'][idx+sequence_length:idx+sequence_length+1].to_list(),\n",
    "                    economy_data['콜금리'][idx+sequence_length:idx+sequence_length+1].to_list()\n",
    "                ])\n",
    "                grouped_current_range_filled_and_economy_x = []\n",
    "                grouped_current_range_filled_and_economy_x.extend([grouped_current_range_filled_x, economy_x])\n",
    "                grouped_current_range_filled_and_economy_y = []\n",
    "                grouped_current_range_filled_and_economy_y.extend([grouped_current_range_filled_y, economy_y])\n",
    "                dongs_x.append(grouped_current_range_filled_and_economy_x)\n",
    "                dongs_y.append(grouped_current_range_filled_and_economy_y)\n",
    "\n",
    "        self.dongs_x = dongs_x\n",
    "        self.dongs_y = dongs_y\n",
    "        self.len = len(dongs_x)\n",
    "\n",
    "    # 부동산_x, 경제_x, 부동산_y, 경제_y \n",
    "    def __getitem__(self, i):\n",
    "        return torch.FloatTensor(self.dongs_x[i][0]), torch.FloatTensor(self.dongs_x[i][1]), torch.FloatTensor(self.dongs_y[i][0]), torch.FloatTensor(self.dongs_y[i][1])\n",
    "\n",
    "    def __len__(self):\n",
    "        return self.len\n",
    "\n",
    "batch_size = 1\n",
    "train_dataset = NODE_Transformer_Dataset(transaction_df, economy_df)\n",
    "train_loader = DataLoader(train_dataset, batch_size=batch_size)"
   ]
  },
  {
   "cell_type": "code",
   "execution_count": 13,
   "metadata": {},
   "outputs": [
    {
     "data": {
      "text/plain": [
       "DatetimeIndex(['2006-05-01', '2006-06-01', '2006-07-01', '2006-08-01',\n",
       "               '2006-09-01', '2006-10-01', '2006-11-01', '2006-12-01',\n",
       "               '2007-01-01', '2007-02-01',\n",
       "               ...\n",
       "               '2022-03-01', '2022-04-01', '2022-05-01', '2022-06-01',\n",
       "               '2022-07-01', '2022-08-01', '2022-09-01', '2022-10-01',\n",
       "               '2022-11-01', '2022-12-01'],\n",
       "              dtype='datetime64[ns]', length=200, freq='MS')"
      ]
     },
     "execution_count": 13,
     "metadata": {},
     "output_type": "execute_result"
    }
   ],
   "source": [
    "start_date = pd.Timestamp('20060101')\n",
    "date_range = pd.date_range(start_date+pd.tseries.offsets.DateOffset(months=5-1), '20221201', freq='MS')\n",
    "date_range"
   ]
  },
  {
   "cell_type": "code",
   "execution_count": 17,
   "metadata": {},
   "outputs": [
    {
     "name": "stdout",
     "output_type": "stream",
     "text": [
      "<class 'pandas.core.frame.DataFrame'>\n",
      "Int64Index: 246685 entries, 0 to 246684\n",
      "Data columns (total 4 columns):\n",
      " #   Column  Non-Null Count   Dtype         \n",
      "---  ------  --------------   -----         \n",
      " 0   시군구     246685 non-null  object        \n",
      " 1   단지명     246685 non-null  object        \n",
      " 2   계약년월    246685 non-null  datetime64[ns]\n",
      " 3   평단가     246685 non-null  float64       \n",
      "dtypes: datetime64[ns](1), float64(1), object(2)\n",
      "memory usage: 9.4+ MB\n"
     ]
    }
   ],
   "source": [
    "transaction_df.info()"
   ]
  },
  {
   "cell_type": "code",
   "execution_count": 26,
   "metadata": {},
   "outputs": [
    {
     "data": {
      "text/plain": [
       "DatetimeIndex(['2006-01-01', '2006-02-01'], dtype='datetime64[ns]', freq='MS')"
      ]
     },
     "execution_count": 26,
     "metadata": {},
     "output_type": "execute_result"
    }
   ],
   "source": [
    "pd.date_range(start_date, start_date+pd.tseries.offsets.DateOffset(months=1), freq='MS')"
   ]
  },
  {
   "cell_type": "code",
   "execution_count": 32,
   "metadata": {},
   "outputs": [
    {
     "name": "stdout",
     "output_type": "stream",
     "text": [
      "DatetimeIndex(['2006-01-01', '2006-02-01', '2006-03-01', '2006-04-01',\n",
      "               '2006-05-01', '2006-06-01', '2006-07-01', '2006-08-01',\n",
      "               '2006-09-01', '2006-10-01', '2006-11-01', '2006-12-01',\n",
      "               '2007-01-01', '2007-02-01', '2007-03-01'],\n",
      "              dtype='datetime64[ns]', freq='MS')\n",
      "                 시군구             단지명       계약년월          평단가\n",
      "0      서울특별시 강남구 개포동  개포2차현대아파트(220) 2006-03-01  2586.956522\n",
      "1      서울특별시 강남구 개포동  개포2차현대아파트(220) 2006-04-01  2913.043478\n",
      "2      서울특별시 강남구 개포동  개포2차현대아파트(220) 2006-06-01  2608.695652\n",
      "3      서울특별시 강남구 개포동  개포2차현대아파트(220) 2006-10-01  3141.304348\n",
      "4      서울특별시 강남구 개포동  개포2차현대아파트(220) 2006-12-01  3326.086957\n",
      "...              ...             ...        ...          ...\n",
      "86     서울특별시 강남구 개포동            포이벨리 2006-09-01  1180.000000\n",
      "87     서울특별시 강남구 개포동            포이벨리 2006-10-01  1380.000000\n",
      "17936  서울특별시 강남구 개포동  개포6차우성아파트1동~8동 2007-03-01  3875.000000\n",
      "17939  서울특별시 강남구 개포동         개포주공6단지 2007-03-01  5000.000000\n",
      "17952  서울특별시 강남구 개포동             경남1 2007-03-01  3896.551724\n",
      "\n",
      "[77 rows x 4 columns]\n",
      "[[2586.95652173913, 2913.04347826087, 2608.695652173913, 3141.304347826087, 3326.086956521739], [2725.0, 2750.0, 2833.333333333333, 3395.833333333333, 3666.666666666667, 3750.0, 3958.333333333333, 3875.0], [3590.909090909091, 3863.636363636364, 3818.181818181818, 4386.363636363636, 4545.454545454545, 5080.0, 5181.818181818182, 5200.0], [3480.0, 4200.0, 4200.0, 4660.0, 4640.0, 5000.0, 4522.727272727273, 4480.0, 5000.0], [3409.090909090909, 3681.818181818182, 3850.0, 4512.0, 4272.727272727273, 4181.818181818182, 4920.0, 4681.818181818182, 5000.0], [3000.0, 3103.448275862069, 3620.689655172414, 3655.172413793103, 3793.103448275862, 4137.931034482759, 3896.551724137931], [3062.5, 3020.833333333333, 3041.666666666667, 3404.166666666667, 3625.0, 3458.333333333333, 3341.666666666667, 3895.833333333333, 3020.833333333333], [2720.0, 2640.0, 2900.0, 3320.0, 3541.666666666667, 3212.0, 3229.166666666667, 3750.0, 3720.0], [5166.666666666667, 4904.761904761905, 5238.095238095239, 5619.047619047619, 5714.285714285715, 6047.619047619048, 6571.428571428572, 6500.0], [1110.0, 932.0, 1312.0, 1180.0, 1380.0]]\n"
     ]
    }
   ],
   "source": [
    "sequence_length = 5\n",
    "transaction_data = transaction_df\n",
    "economy_data = economy_df\n",
    "\n",
    "all_dong_max_apartment_complex = transaction_data.drop_duplicates(subset=['시군구','단지명']).groupby(['시군구'])['단지명'].count().max()\n",
    "\n",
    "transaction_data.drop_duplicates(subset=['시군구', '단지명', '계약년월'], keep='first', inplace=True) # 왜 rnn_transformer는 가능했지?\n",
    "dongs_x, dongs_y = [], []\n",
    "for dong in transaction_data['시군구'].unique():\n",
    "    filtered_data = transaction_data[transaction_data['시군구'] == dong]\n",
    "    start_date = pd.Timestamp('20060101')\n",
    "    date_range = pd.date_range('20060101', '20221201', freq='MS')\n",
    "    for idx in range(10,len(date_range)-sequence_length+1):\n",
    "        current_range_x = pd.date_range(start_date, start_date+pd.tseries.offsets.DateOffset(months=sequence_length-1+idx), freq='MS')\n",
    "        current_range_y = date_range[idx+sequence_length:idx+sequence_length+1]\n",
    "        current_range_filtered_x = filtered_data[filtered_data['계약년월'].isin(current_range_x)].groupby('단지명').filter(lambda x: len(x) >= sequence_length)\n",
    "        current_range_filtered_y = filtered_data[filtered_data['계약년월'].isin(current_range_y)].groupby('단지명').filter(lambda x: len(x) >= sequence_length)\n",
    "        grouped_current_range_filtered_x = current_range_filtered_x.groupby('단지명').agg({'평단가': list}).reset_index()['평단가'].to_list()\n",
    "        grouped_current_range_filtered_y = current_range_filtered_y.groupby('단지명').agg({'평단가': list}).reset_index()['평단가'].to_list()\n",
    "        print(current_range_x)\n",
    "        print(current_range_filtered_x)\n",
    "        print(grouped_current_range_filtered_x)\n",
    "        break\n",
    "        # if len(grouped_current_range_filled_x) < all_dong_max_apartment_complex:\n",
    "        #     for _ in range(all_dong_max_apartment_complex-len(grouped_current_range_filled_x)):\n",
    "        #         grouped_current_range_filled_x.append([0.0]*sequence_length)\n",
    "        #         grouped_current_range_filled_y.append([0.0])\n",
    "        # economy_x, economy_y = [], []\n",
    "        # economy_x.extend([\n",
    "        #     economy_data['국고채금리'][idx:idx+sequence_length].to_list(),\n",
    "        #     economy_data['콜금리'][idx:idx+sequence_length].to_list()\n",
    "        # ])\n",
    "        # economy_y.extend([\n",
    "        #     economy_data['국고채금리'][idx+sequence_length:idx+sequence_length+1].to_list(),\n",
    "        #     economy_data['콜금리'][idx+sequence_length:idx+sequence_length+1].to_list()\n",
    "        # ])\n",
    "        # grouped_current_range_filled_and_economy_x = []\n",
    "        # grouped_current_range_filled_and_economy_x.extend([grouped_current_range_filled_x, economy_x])\n",
    "        # grouped_current_range_filled_and_economy_y = []\n",
    "        # grouped_current_range_filled_and_economy_y.extend([grouped_current_range_filled_y, economy_y])\n",
    "        # dongs_x.append(grouped_current_range_filled_and_economy_x)\n",
    "        # dongs_y.append(grouped_current_range_filled_and_economy_y)\n",
    "    break"
   ]
  },
  {
   "cell_type": "code",
   "execution_count": 17,
   "metadata": {},
   "outputs": [
    {
     "name": "stdout",
     "output_type": "stream",
     "text": [
      "<class 'pandas.core.frame.DataFrame'>\n",
      "Int64Index: 246685 entries, 0 to 246684\n",
      "Data columns (total 4 columns):\n",
      " #   Column  Non-Null Count   Dtype         \n",
      "---  ------  --------------   -----         \n",
      " 0   시군구     246685 non-null  object        \n",
      " 1   단지명     246685 non-null  object        \n",
      " 2   계약년월    246685 non-null  datetime64[ns]\n",
      " 3   평단가     246685 non-null  float64       \n",
      "dtypes: datetime64[ns](1), float64(1), object(2)\n",
      "memory usage: 9.4+ MB\n"
     ]
    }
   ],
   "source": [
    "transaction_df.info()"
   ]
  },
  {
   "cell_type": "code",
   "execution_count": null,
   "metadata": {},
   "outputs": [],
   "source": []
  }
 ],
 "metadata": {
  "kernelspec": {
   "display_name": "Python 3",
   "language": "python",
   "name": "python3"
  },
  "language_info": {
   "codemirror_mode": {
    "name": "ipython",
    "version": 3
   },
   "file_extension": ".py",
   "mimetype": "text/x-python",
   "name": "python",
   "nbconvert_exporter": "python",
   "pygments_lexer": "ipython3",
   "version": "3.11.4"
  },
  "orig_nbformat": 4
 },
 "nbformat": 4,
 "nbformat_minor": 2
}
