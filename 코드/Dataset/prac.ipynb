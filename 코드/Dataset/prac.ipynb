{
 "cells": [
  {
   "cell_type": "code",
   "execution_count": 5,
   "metadata": {},
   "outputs": [],
   "source": [
    "import numpy as np\n",
    "import pandas as pd\n",
    "\n",
    "from torch.utils.data import Dataset, DataLoader\n",
    "import torch"
   ]
  },
  {
   "cell_type": "code",
   "execution_count": 7,
   "metadata": {},
   "outputs": [],
   "source": [
    "transaction_df = pd.read_excel('../../데이터/Transaction/transaction_final.xlsx',index_col=0)\n",
    "economy_df = pd.read_excel('../../데이터/Economy/economy_all.xlsx')"
   ]
  },
  {
   "cell_type": "code",
   "execution_count": 8,
   "metadata": {},
   "outputs": [],
   "source": [
    "def price_per_pyeong_interpolate(group):\n",
    "    idx = pd.date_range(group['계약년월'].min(), group['계약년월'].max(), freq='MS')\n",
    "    group = group.set_index('계약년월').reindex(idx)\n",
    "    group['단지명'] = group['단지명'].fillna(method='ffill')\n",
    "    group['시군구'] = group['시군구'].fillna(method='ffill')\n",
    "    group['평단가'] = group['평단가'].interpolate()\n",
    "    return group"
   ]
  },
  {
   "cell_type": "code",
   "execution_count": 4,
   "metadata": {},
   "outputs": [],
   "source": [
    "class RNN_Transaction_Dataset(Dataset):\n",
    "    def __init__(self, data, sequence_length=5):\n",
    "        data['계약년월'] = pd.to_datetime(data['계약년월'])\n",
    "        interpolated_data = pd.DataFrame(data.groupby(['시군구', '단지명']).apply(price_per_pyeong_interpolate)['평단가']).reset_index().rename(columns={'level_2': '계약년월'})\n",
    "\n",
    "        dongs_x, dongs_y = [], []\n",
    "        for dong in interpolated_data['시군구'].unique():\n",
    "            for apartment_complex in interpolated_data[interpolated_data['시군구'] == dong]['단지명'].unique():\n",
    "                filtered_interpolated_data_values = interpolated_data[interpolated_data['단지명'] == apartment_complex]['평단가'].values\n",
    "                for idx in range(len(filtered_interpolated_data_values)-sequence_length):\n",
    "                    apartment_complex_x = filtered_interpolated_data_values[idx:idx+sequence_length]\n",
    "                    apartment_complex_y = filtered_interpolated_data_values[idx+sequence_length:idx+sequence_length+1]\n",
    "                    dongs_x.append(apartment_complex_x)\n",
    "                    dongs_y.append(apartment_complex_y)   \n",
    "\n",
    "        self.dongs_x = dongs_x\n",
    "        self.dongs_y = dongs_y\n",
    "        self.len = len(dongs_x)\n",
    "\n",
    "    def __getitem__(self, i):\n",
    "        return torch.FloatTensor(self.dongs_x[i]), torch.FloatTensor(self.dongs_y[i])\n",
    "\n",
    "    def __len__(self):\n",
    "        return self.len\n",
    "\n",
    "batch_size = 2\n",
    "train_dataset = RNN_Transaction_Dataset(transaction_df)\n",
    "train_loader = DataLoader(train_dataset, batch_size=batch_size)"
   ]
  },
  {
   "cell_type": "code",
   "execution_count": null,
   "metadata": {},
   "outputs": [],
   "source": [
    "class RNN_Economy_Dataset(Dataset):\n",
    "    def __init__(self, data, sequence_length=5):\n",
    "        nation_economy_x, nation_economy_y, call_economy_x, call_economy_y = [], [], [], []\n",
    "        for i in range(len(data)-sequence_length-1):\n",
    "            nation_economy_x.append(data['국고채금리'][i:i+sequence_length].to_list())\n",
    "            nation_economy_y.append(data['국고채금리'][i+sequence_length:i+sequence_length+1].to_list())\n",
    "            call_economy_x.append(data['콜금리'][i:i+sequence_length].to_list())\n",
    "            call_economy_y.append(data['콜금리'][i+sequence_length:i+sequence_length+1].to_list())\n",
    "\n",
    "        self.nation_economy_x = torch.FloatTensor(nation_economy_x)\n",
    "        self.nation_economy_y = torch.FloatTensor(nation_economy_y)\n",
    "        self.call_economy_x = torch.FloatTensor(call_economy_x)\n",
    "        self.call_economy_y = torch.FloatTensor(call_economy_y)\n",
    "        self.len = len(nation_economy_x)\n",
    "\n",
    "    def __getitem__(self, i):\n",
    "        return self.nation_economy_x[i], self.nation_economy_y[i], self.call_economy_x[i], self.call_economy_y[i]\n",
    "\n",
    "    def __len__(self):\n",
    "        return self.len\n",
    "    \n",
    "batch_size = 2\n",
    "train_dataset = RNN_Economy_Dataset(economy_df)\n",
    "train_loader = DataLoader(train_dataset, batch_size=batch_size)"
   ]
  },
  {
   "cell_type": "code",
   "execution_count": 5,
   "metadata": {},
   "outputs": [
    {
     "name": "stdout",
     "output_type": "stream",
     "text": [
      "torch.Size([2, 5])\n",
      "torch.Size([2, 1])\n"
     ]
    },
    {
     "name": "stderr",
     "output_type": "stream",
     "text": [
      "C:\\Users\\USER\\AppData\\Local\\Temp\\ipykernel_12276\\1533908101.py:21: UserWarning: Failed to initialize NumPy: module compiled against API version 0x10 but this version of numpy is 0xe . Check the section C-API incompatibility at the Troubleshooting ImportError section at https://numpy.org/devdocs/user/troubleshooting-importerror.html#c-api-incompatibility for indications on how to solve this problem . (Triggered internally at ..\\torch\\csrc\\utils\\tensor_numpy.cpp:84.)\n",
      "  return torch.FloatTensor(self.dongs_x[i]), torch.FloatTensor(self.dongs_y[i])\n"
     ]
    }
   ],
   "source": [
    "for x,y in train_loader:\n",
    "    print(x.shape)\n",
    "    print(y.shape)\n",
    "    break"
   ]
  },
  {
   "cell_type": "code",
   "execution_count": 18,
   "metadata": {},
   "outputs": [],
   "source": [
    "def price_per_pyeong_fill_0(df):\n",
    "    months = pd.to_datetime(pd.date_range(start=\"20060101\", end=\"20221201\", freq='MS'))\n",
    "    complex_city_combinations = df[['단지명', '시군구']].drop_duplicates()\n",
    "\n",
    "    combinations = pd.DataFrame({\n",
    "        '단지명': np.tile(complex_city_combinations['단지명'], len(months)),\n",
    "        '시군구': np.tile(complex_city_combinations['시군구'], len(months)),\n",
    "        '계약년월': np.repeat(months, len(complex_city_combinations))\n",
    "    })\n",
    "    \n",
    "    df['계약년월'] = pd.to_datetime(df['계약년월'])\n",
    "    df = pd.merge(combinations, df, on=['단지명', '계약년월', '시군구'], how='left')\n",
    "    df['평단가'].fillna(0, inplace=True)\n",
    "\n",
    "    return df"
   ]
  },
  {
   "cell_type": "code",
   "execution_count": 59,
   "metadata": {},
   "outputs": [],
   "source": [
    "class RNN_Transformer_Dataset(Dataset):\n",
    "    def __init__(self, transaction_data, economy_data, sequence_length=5):\n",
    "        all_dong_max_apartment_complex = transaction_data.drop_duplicates(subset=['시군구','단지명']).groupby(['시군구'])['단지명'].count().max()\n",
    "\n",
    "        filled_data = price_per_pyeong_fill_0(transaction_data)\n",
    "        filled_data = filled_data[['시군구', '단지명', '계약년월', '평단가']]        \n",
    "\n",
    "        dongs_x, dongs_y = [], []\n",
    "        for dong in filled_data['시군구'].unique():\n",
    "            filtered_filled_data = filled_data[filled_data['시군구'] == dong]\n",
    "            date_range = pd.date_range('20060101', '20221201', freq='MS')\n",
    "            for idx in range(len(date_range)-sequence_length):\n",
    "                current_range_x = date_range[idx:idx+sequence_length]\n",
    "                current_range_y = date_range[idx+sequence_length:idx+sequence_length+1]\n",
    "                current_range_filled_x = filtered_filled_data[filtered_filled_data['계약년월'].isin(current_range_x)]\n",
    "                current_range_filled_y = filtered_filled_data[filtered_filled_data['계약년월'].isin(current_range_y)]\n",
    "                grouped_current_range_filled_x = current_range_filled_x.groupby('단지명').agg({'평단가': list}).reset_index()['평단가'].to_list()\n",
    "                grouped_current_range_filled_y = current_range_filled_y.groupby('단지명').agg({'평단가': list}).reset_index()['평단가'].to_list()\n",
    "                if len(grouped_current_range_filled_x) < all_dong_max_apartment_complex:\n",
    "                    for _ in range(all_dong_max_apartment_complex-len(grouped_current_range_filled_x)):\n",
    "                        grouped_current_range_filled_x.append([0.0]*sequence_length)\n",
    "                        grouped_current_range_filled_y.append([0.0])\n",
    "                economy_x, economy_y = [], []\n",
    "                economy_x.extend([\n",
    "                    economy_data['국고채금리'][idx:idx+sequence_length].to_list(),\n",
    "                    economy_data['콜금리'][idx:idx+sequence_length].to_list()\n",
    "                ])\n",
    "                economy_y.extend([\n",
    "                    economy_data['국고채금리'][idx+sequence_length:idx+sequence_length+1].to_list(),\n",
    "                    economy_data['콜금리'][idx+sequence_length:idx+sequence_length+1].to_list()\n",
    "                ])\n",
    "                grouped_current_range_filled_and_economy_x = []\n",
    "                grouped_current_range_filled_and_economy_x.extend([grouped_current_range_filled_x, economy_x])\n",
    "                grouped_current_range_filled_and_economy_y = []\n",
    "                grouped_current_range_filled_and_economy_y.extend([grouped_current_range_filled_y, economy_y])\n",
    "                dongs_x.append(grouped_current_range_filled_and_economy_x)\n",
    "                dongs_y.append(grouped_current_range_filled_and_economy_y)\n",
    "\n",
    "        self.dongs_x = dongs_x\n",
    "        self.dongs_y = dongs_y\n",
    "        self.len = len(dongs_x)\n",
    "\n",
    "    # 부동산_x, 경제_x, 부동산_y, 경제_y \n",
    "    def __getitem__(self, i):\n",
    "        return torch.FloatTensor(self.dongs_x[i][0]), torch.FloatTensor(self.dongs_x[i][1]), torch.FloatTensor(self.dongs_y[i][0]), torch.FloatTensor(self.dongs_y[i][1])\n",
    "\n",
    "    def __len__(self):\n",
    "        return self.len\n",
    "\n",
    "batch_size = 1\n",
    "train_dataset = RNN_Transformer_Dataset(transaction_df, economy_df)\n",
    "train_loader = DataLoader(train_dataset, batch_size=batch_size)"
   ]
  },
  {
   "cell_type": "code",
   "execution_count": 63,
   "metadata": {},
   "outputs": [
    {
     "name": "stdout",
     "output_type": "stream",
     "text": [
      "tensor([[[3.2380],\n",
      "         [1.9710]]])\n"
     ]
    }
   ],
   "source": [
    "for x,y,z,w in train_loader:\n",
    "    print(w)\n",
    "    break"
   ]
  },
  {
   "cell_type": "code",
   "execution_count": null,
   "metadata": {},
   "outputs": [],
   "source": [
    "class ODE_Transaction_Dataset(Dataset):\n",
    "    def __init__(self, data, sequence_length=5):\n",
    "        data['계약년월'] = pd.to_datetime(data['계약년월']).dt.strftime('%Y%m%d')\n",
    "\n",
    "        dongs_x, dongs_x_time, dongs_y, dongs_y_time = [], [], [], []\n",
    "        for dong in data['시군구'].unique():\n",
    "            for apartment_complex in data[data['시군구'] == dong]['단지명'].unique():\n",
    "                filtered_data_values = data[data['단지명'] == apartment_complex]['평단가'].values\n",
    "                filtered_data_times = data[data['단지명'] == apartment_complex]['계약년월'].apply(lambda x: int(x)).values \n",
    "                for idx in range(len(filtered_data_values)-sequence_length):\n",
    "                    apartment_complex_x = filtered_data_values[idx:idx+sequence_length]\n",
    "                    apartment_complex_x_time = filtered_data_times[idx:idx+sequence_length]\n",
    "                    apartment_complex_y = filtered_data_values[idx+sequence_length:idx+sequence_length+1]\n",
    "                    apartment_complex_y_time = filtered_data_times[idx+sequence_length:idx+sequence_length+1]\n",
    "                    dongs_x.append(apartment_complex_x)\n",
    "                    dongs_x_time.append(apartment_complex_x_time)\n",
    "                    dongs_y.append(apartment_complex_y)\n",
    "                    dongs_y_time.append(apartment_complex_y_time)\n",
    "\n",
    "        self.dongs_x = dongs_x\n",
    "        self.dongs_x_time = dongs_x_time\n",
    "        self.dongs_y = dongs_y\n",
    "        self.dongs_y_time = dongs_y_time\n",
    "        self.len = len(dongs_x)\n",
    "\n",
    "    def __getitem__(self, i):\n",
    "        return torch.FloatTensor(self.dongs_x[i]), torch.tensor(self.dongs_x_time[i], dtype=torch.int64), torch.FloatTensor(self.dongs_y[i]), torch.tensor(self.dongs_y_time[i], dtype=torch.int64)\n",
    "\n",
    "    def __len__(self):\n",
    "        return self.len\n",
    "\n",
    "batch_size = 2\n",
    "train_dataset = ODE_Transaction_Dataset(transaction_df)\n",
    "train_loader = DataLoader(train_dataset, batch_size=batch_size)"
   ]
  }
 ],
 "metadata": {
  "kernelspec": {
   "display_name": "Python 3",
   "language": "python",
   "name": "python3"
  },
  "language_info": {
   "codemirror_mode": {
    "name": "ipython",
    "version": 3
   },
   "file_extension": ".py",
   "mimetype": "text/x-python",
   "name": "python",
   "nbconvert_exporter": "python",
   "pygments_lexer": "ipython3",
   "version": "3.11.4"
  },
  "orig_nbformat": 4
 },
 "nbformat": 4,
 "nbformat_minor": 2
}
