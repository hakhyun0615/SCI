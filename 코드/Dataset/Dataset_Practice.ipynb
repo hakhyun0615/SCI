{
 "cells": [
  {
   "cell_type": "code",
   "execution_count": 1,
   "metadata": {},
   "outputs": [],
   "source": [
    "import numpy as np\n",
    "import pandas as pd\n",
    "# pd.set_option('display.max_rows', None)\n",
    "\n",
    "from sklearn.experimental import enable_iterative_imputer\n",
    "from sklearn.impute import IterativeImputer\n",
    "\n",
    "from torch.utils.data import Dataset, DataLoader\n",
    "import torch\n",
    "\n",
    "import sys\n",
    "import os\n",
    "sys.path.append(os.path.abspath(\"..\"))\n",
    "from utils import preprocess"
   ]
  },
  {
   "cell_type": "code",
   "execution_count": 2,
   "metadata": {},
   "outputs": [],
   "source": [
    "transaction_df = pd.read_csv('../../데이터/Transaction/transaction_all.csv')\n",
    "economy_df = pd.read_excel('../../데이터/Economy/economy_all.xlsx')\n",
    "\n",
    "transaction_df, economy_df = preprocess(transaction_df, economy_df, window_size=5)"
   ]
  },
  {
   "cell_type": "code",
   "execution_count": 19,
   "metadata": {},
   "outputs": [],
   "source": [
    "df = transaction_df\n",
    "window_size = 5"
   ]
  },
  {
   "cell_type": "markdown",
   "metadata": {},
   "source": [
    "### RNN_Transaction_Dataset"
   ]
  },
  {
   "cell_type": "code",
   "execution_count": 5,
   "metadata": {},
   "outputs": [],
   "source": [
    "def price_interpolate(group, start, end, method='linear'):\n",
    "    idx = pd.date_range(start, end, freq='MS')\n",
    "    group = group.set_index('계약년월').reindex(idx)\n",
    "    group['동'] = group['동'].fillna(method='ffill')\n",
    "    group['단지'] = group['단지'].fillna(method='ffill')\n",
    "    group['건축년도'] = group['건축년도'].fillna(method='ffill')\n",
    "    group['제곱미터당 거래금액'] = group[['제곱미터당 거래금액']].interpolate()\n",
    "    \n",
    "    if method == 'linear':\n",
    "        group['제곱미터당 거래금액'] = group[['제곱미터당 거래금액']].interpolate(method='linear')\n",
    "    elif method == 'quadratic':\n",
    "        group['제곱미터당 거래금액'] = group[['제곱미터당 거래금액']].interpolate(method='quadratic')\n",
    "    elif method == 'nearest':\n",
    "        group['제곱미터당 거래금액'] = group[['제곱미터당 거래금액']].interpolate(method='nearest')\n",
    "    elif method == 'spline':\n",
    "        group['제곱미터당 거래금액'] = group[['제곱미터당 거래금액']].interpolate(method='spline', order=2)\n",
    "    elif method == 'polynomial':\n",
    "        group['제곱미터당 거래금액'] = group[['제곱미터당 거래금액']].interpolate(method='polynomial', order=3)\n",
    "    \n",
    "    return group"
   ]
  },
  {
   "cell_type": "code",
   "execution_count": 13,
   "metadata": {},
   "outputs": [],
   "source": [
    "class RNN_Transaction_Dataset(Dataset):\n",
    "    def __init__(self, df, window_size=5):\n",
    "        # 보간\n",
    "        df['계약년월'] = pd.to_datetime(df['계약년월'].astype(str), format='%Y%m')\n",
    "        interpolated_df = pd.DataFrame(df.groupby(['동', '단지']).apply(lambda group: price_interpolate(group,group['계약년월'].min(),group['계약년월'].max()))['제곱미터당 거래금액']).reset_index().rename(columns={'level_2':'계약년월'})\n",
    "\n",
    "        dongs_x, dongs_y = [], []\n",
    "        for dong in df['동'].unique():\n",
    "            for apartment_complex in df[df['동'] == dong]['단지'].unique():\n",
    "                filtered_df = df[(df['동'] == dong)*(df['단지'] == apartment_complex)]\n",
    "                filtered_df_values = filtered_df['제곱미터당 거래금액'].values\n",
    "                for idx in range(len(filtered_df_values)-window_size):\n",
    "                    dongs_x.append(filtered_df_values[idx:idx+window_size])\n",
    "                    dongs_y.append(filtered_df_values[idx+window_size:idx+window_size+1])\n",
    "        self.dongs_x = dongs_x\n",
    "        self.dongs_y = dongs_y\n",
    "        self.len = len(dongs_x)\n",
    "\n",
    "    # 부동산_x, 부동산_y\n",
    "    def __getitem__(self, i):\n",
    "        return torch.FloatTensor(self.dongs_x[i][0]), torch.FloatTensor(self.dongs_x[i][1]), torch.FloatTensor(self.dongs_y[i][0]), torch.FloatTensor(self.dongs_y[i][1])\n",
    "\n",
    "    def __len__(self):\n",
    "        return self.len"
   ]
  },
  {
   "cell_type": "code",
   "execution_count": 14,
   "metadata": {},
   "outputs": [
    {
     "name": "stdout",
     "output_type": "stream",
     "text": [
      "tensor([[ 7.6849,  8.6174, 10.3881,  7.7170, 10.3881]])\n",
      "tensor([[3., 4., 5., 6., 7.]])\n",
      "tensor([[10.3881]])\n",
      "tensor([[8.]])\n"
     ]
    }
   ],
   "source": [
    "batch_size = 1\n",
    "dataset = RNN_Transaction_Dataset(transaction_df)\n",
    "dataloader = DataLoader(dataset, batch_size=batch_size)\n",
    "\n",
    "for x,y,z,w in dataloader:\n",
    "    print(x)\n",
    "    print(y)\n",
    "    print(z)\n",
    "    print(w)\n",
    "    break"
   ]
  },
  {
   "cell_type": "code",
   "execution_count": null,
   "metadata": {},
   "outputs": [],
   "source": [
    "df['계약년월'] = pd.to_datetime(df['계약년월'].astype(str), format='%Y%m')\n",
    "interpolated_df = pd.DataFrame(df.groupby(['동', '단지']).apply(lambda group: price_interpolate(group,group['계약년월'].min(),group['계약년월'].max()))['제곱미터당 거래금액']).reset_index().rename(columns={'level_2':'계약년월'})\n",
    "\n",
    "dongs_x, dongs_y = [], []\n",
    "for dong in df['동'].unique():\n",
    "    for apartment_complex in df[df['동'] == dong]['단지'].unique():\n",
    "        filtered_df = df[(df['동'] == dong)*(df['단지'] == apartment_complex)]\n",
    "        filtered_df_values = filtered_df['제곱미터당 거래금액'].values\n",
    "        for idx in range(len(filtered_df_values)-window_size):\n",
    "            dongs_x.append(filtered_df_values[idx:idx+window_size])\n",
    "            dongs_y.append(filtered_df_values[idx+window_size:idx+window_size+1])"
   ]
  },
  {
   "cell_type": "markdown",
   "metadata": {},
   "source": [
    "### LSTM_Transformer_Dataset"
   ]
  },
  {
   "cell_type": "code",
   "execution_count": 7,
   "metadata": {},
   "outputs": [],
   "source": [
    "def price_fill_0(df):\n",
    "    months = pd.to_datetime(pd.date_range(start=\"20060101\", end=\"20221201\", freq='MS'))\n",
    "    complex_city_combinations = df[['단지', '동']].drop_duplicates()\n",
    "\n",
    "    combinations = pd.DataFrame({\n",
    "        '단지': np.tile(complex_city_combinations['단지'], len(months)),\n",
    "        '동': np.tile(complex_city_combinations['동'], len(months)),\n",
    "        '계약년월': np.repeat(months, len(complex_city_combinations))\n",
    "    })\n",
    "    \n",
    "    df['계약년월'] = pd.to_datetime(df['계약년월'].astype(str), format='%Y%m')\n",
    "    df = pd.merge(combinations, df, on=['단지', '계약년월', '동'], how='left')\n",
    "    df['제곱미터당 거래금액(만원)'].fillna(0, inplace=True)\n",
    "\n",
    "    return df"
   ]
  },
  {
   "cell_type": "code",
   "execution_count": 8,
   "metadata": {},
   "outputs": [],
   "source": [
    "class LSTM_Transformer_Dataset(Dataset):\n",
    "    def __init__(self, transaction_data, economy_data, window_size=5):\n",
    "        all_dong_max_apartment_complex = 311 # transaction_data.drop_duplicates(subset=['동','단지']).groupby(['동'])['단지'].count().max()\n",
    "\n",
    "        filled_data = price_fill_0(transaction_data)\n",
    "        filled_data = filled_data[['동', '단지', '계약년월', '제곱미터당 거래금액']]        \n",
    "\n",
    "        dongs_x, dongs_y = [], []\n",
    "        for dong in filled_data['동'].unique():\n",
    "            filtered_filled_data = filled_data[filled_data['동'] == dong]\n",
    "            date_range = pd.date_range('20060101', '20221201', freq='MS')\n",
    "            for idx in range(len(date_range)-window_size):\n",
    "                current_range_x = date_range[idx:idx+window_size]\n",
    "                current_range_y = date_range[idx+window_size:idx+window_size+1]\n",
    "                current_range_filled_x = filtered_filled_data[filtered_filled_data['계약년월'].isin(current_range_x)]\n",
    "                current_range_filled_y = filtered_filled_data[filtered_filled_data['계약년월'].isin(current_range_y)]\n",
    "                grouped_current_range_filled_x = current_range_filled_x.groupby('단지').agg({'제곱미터당 거래금액': list}).reset_index()['제곱미터당 거래금액'].to_list()\n",
    "                grouped_current_range_filled_y = current_range_filled_y.groupby('단지').agg({'제곱미터당 거래금액': list}).reset_index()['제곱미터당 거래금액'].to_list()\n",
    "                if len(grouped_current_range_filled_x) < all_dong_max_apartment_complex:\n",
    "                    for _ in range(all_dong_max_apartment_complex-len(grouped_current_range_filled_x)):\n",
    "                        grouped_current_range_filled_x.append([0.0]*window_size)\n",
    "                        grouped_current_range_filled_y.append([0.0])\n",
    "                economy_x, economy_y = [], []\n",
    "                economy_x.append(economy_data['통화량'][idx:idx+window_size].to_list())\n",
    "                economy_y.append(economy_data['통화량'][idx+window_size:idx+window_size+1].to_list())\n",
    "                grouped_current_range_filled_and_economy_x = []\n",
    "                grouped_current_range_filled_and_economy_x.extend([grouped_current_range_filled_x, economy_x])\n",
    "                grouped_current_range_filled_and_economy_y = []\n",
    "                grouped_current_range_filled_and_economy_y.extend([grouped_current_range_filled_y, economy_y])\n",
    "                dongs_x.append(grouped_current_range_filled_and_economy_x)\n",
    "                dongs_y.append(grouped_current_range_filled_and_economy_y)\n",
    "\n",
    "        self.dongs_x = dongs_x\n",
    "        self.dongs_y = dongs_y\n",
    "        self.len = len(dongs_x)\n",
    "\n",
    "    # 부동산_x, 경제_x, 부동산_y, 경제_y \n",
    "    def __getitem__(self, i):\n",
    "        return torch.FloatTensor(self.dongs_x[i][0]), torch.FloatTensor(self.dongs_x[i][1]), torch.FloatTensor(self.dongs_y[i][0]), torch.FloatTensor(self.dongs_y[i][1])\n",
    "\n",
    "    def __len__(self):\n",
    "        return self.len"
   ]
  },
  {
   "cell_type": "code",
   "execution_count": 9,
   "metadata": {},
   "outputs": [
    {
     "name": "stdout",
     "output_type": "stream",
     "text": [
      "torch.float32\n"
     ]
    }
   ],
   "source": [
    "batch_size = 1\n",
    "train_dataset = LSTM_Transformer_Dataset(transaction_all, economy_all)\n",
    "train_loader = DataLoader(train_dataset, batch_size=batch_size)\n",
    "\n",
    "for x,y,z,w in train_loader:\n",
    "    print(w.dtype)\n",
    "    break"
   ]
  }
 ],
 "metadata": {
  "kernelspec": {
   "display_name": "Python 3",
   "language": "python",
   "name": "python3"
  },
  "language_info": {
   "codemirror_mode": {
    "name": "ipython",
    "version": 3
   },
   "file_extension": ".py",
   "mimetype": "text/x-python",
   "name": "python",
   "nbconvert_exporter": "python",
   "pygments_lexer": "ipython3",
   "version": "3.11.4"
  },
  "orig_nbformat": 4
 },
 "nbformat": 4,
 "nbformat_minor": 2
}
