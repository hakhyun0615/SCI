{
 "cells": [
  {
   "cell_type": "code",
   "execution_count": 17,
   "metadata": {},
   "outputs": [],
   "source": [
    "import numpy as np\n",
    "import pandas as pd\n",
    "# pd.set_option('display.max_rows', None)\n",
    "\n",
    "from sklearn.experimental import enable_iterative_imputer\n",
    "from sklearn.impute import IterativeImputer\n",
    "\n",
    "from torch.utils.data import Dataset, DataLoader\n",
    "import torch\n",
    "\n",
    "import sys\n",
    "import os\n",
    "sys.path.append(os.path.abspath(\"..\"))\n",
    "from utils import preprocess"
   ]
  },
  {
   "cell_type": "code",
   "execution_count": 18,
   "metadata": {},
   "outputs": [],
   "source": [
    "transaction_df = pd.read_csv('../../데이터/Transaction/transaction_all.csv')\n",
    "economy_df = pd.read_excel('../../데이터/Economy/economy_all.xlsx')\n",
    "\n",
    "transaction_df, economy_df = preprocess(transaction_df, economy_df, window_size=5)"
   ]
  },
  {
   "cell_type": "code",
   "execution_count": 19,
   "metadata": {},
   "outputs": [],
   "source": [
    "df = transaction_df\n",
    "window_size = 5"
   ]
  },
  {
   "cell_type": "markdown",
   "metadata": {},
   "source": [
    "### LSTM_Transaction_Train_Dataset"
   ]
  },
  {
   "cell_type": "code",
   "execution_count": 5,
   "metadata": {},
   "outputs": [],
   "source": [
    "def price_interpolate(group, start, end):\n",
    "    idx = pd.date_range(start, end, freq='MS')\n",
    "    group = group.set_index('계약년월').reindex(idx)\n",
    "    group['동'] = group['동'].fillna(method='ffill')\n",
    "    group['단지'] = group['단지'].fillna(method='ffill')\n",
    "    group['건축년도'] = group['건축년도'].fillna(method='ffill')\n",
    "    group['제곱미터당 거래금액'] = group[['제곱미터당 거래금액']].interpolate()\n",
    "    # imputer = IterativeImputer(max_iter=10, random_state=0)\n",
    "    # group['제곱미터당 거래금액'] = imputer.fit_transform(group[['제곱미터당 거래금액']])\n",
    "    \n",
    "    return group"
   ]
  },
  {
   "cell_type": "code",
   "execution_count": 13,
   "metadata": {},
   "outputs": [],
   "source": [
    "class LSTM_Transaction_Train_Dataset(Dataset):\n",
    "    def __init__(self, df, window_size=5):\n",
    "        df['계약년월'] = pd.to_datetime(df['계약년월'].astype(str), format='%Y%m')\n",
    "        interpolated_df = pd.DataFrame(df.groupby(['동', '단지']).apply(lambda group: price_interpolate(group,group['계약년월'].min(),group['계약년월'].max()))['제곱미터당 거래금액']).reset_index().rename(columns={'level_2':'계약년월'})\n",
    "\n",
    "        dongs_x, dongs_y = [], []\n",
    "        for dong in interpolated_df['동'].unique():\n",
    "            for apartment_complex in interpolated_df[interpolated_df['동'] == dong]['단지'].unique():\n",
    "                filtered_interpolated_df = interpolated_df[(interpolated_df['동'] == dong)*(interpolated_df['단지'] == apartment_complex)]\n",
    "                filtered_interpolated_df_values = filtered_interpolated_df['제곱미터당 거래금액'].values\n",
    "                filtered_interpolated_df_times = filtered_interpolated_df['계약년월'].apply(lambda x: float((x.year-pd.Timestamp('2006-01').year)*12+(x.month-pd.Timestamp('2006-01').month)+1)).values\n",
    "                for idx in range(len(filtered_interpolated_df_values)-window_size):\n",
    "                    dongs_x.append([filtered_interpolated_df_values[idx:idx+window_size],filtered_interpolated_df_times[idx:idx+window_size]])\n",
    "                    dongs_y.append([filtered_interpolated_df_values[idx+window_size:idx+window_size+1],filtered_interpolated_df_times[idx+window_size:idx+window_size+1]])\n",
    "        self.dongs_x = dongs_x\n",
    "        self.dongs_y = dongs_y\n",
    "        self.len = len(dongs_x)\n",
    "\n",
    "    # 부동산_x, 부동산_시점_x, 부동산_y, 부동산_시점_y \n",
    "    def __getitem__(self, i):\n",
    "        return torch.FloatTensor(self.dongs_x[i][0]), torch.FloatTensor(self.dongs_x[i][1]), torch.FloatTensor(self.dongs_y[i][0]), torch.FloatTensor(self.dongs_y[i][1])\n",
    "\n",
    "    def __len__(self):\n",
    "        return self.len\n",
    "\n",
    "batch_size = 1\n",
    "train_dataset = LSTM_Transaction_Train_Dataset(transaction_df)\n",
    "train_loader = DataLoader(train_dataset, batch_size=batch_size)"
   ]
  },
  {
   "cell_type": "code",
   "execution_count": 14,
   "metadata": {},
   "outputs": [
    {
     "name": "stdout",
     "output_type": "stream",
     "text": [
      "tensor([[ 7.6849,  8.6174, 10.3881,  7.7170, 10.3881]])\n",
      "tensor([[3., 4., 5., 6., 7.]])\n",
      "tensor([[10.3881]])\n",
      "tensor([[8.]])\n"
     ]
    }
   ],
   "source": [
    "for x,y,z,w in train_loader:\n",
    "    print(x)\n",
    "    print(y)\n",
    "    print(z)\n",
    "    print(w)\n",
    "    break"
   ]
  },
  {
   "cell_type": "markdown",
   "metadata": {},
   "source": [
    "### LSTM_Transaction_Val_Dataset"
   ]
  },
  {
   "cell_type": "code",
   "execution_count": 20,
   "metadata": {},
   "outputs": [],
   "source": [
    "def price_interpolate(group, start, end):\n",
    "    idx = pd.date_range(start, end, freq='MS')\n",
    "    group = group.set_index('계약년월').reindex(idx)\n",
    "    group['동'] = group['동'].fillna(method='ffill')\n",
    "    group['단지'] = group['단지'].fillna(method='ffill')\n",
    "    group['건축년도'] = group['건축년도'].fillna(method='ffill')\n",
    "    group['제곱미터당 거래금액'] = group[['제곱미터당 거래금액']].interpolate()\n",
    "    # imputer = IterativeImputer(max_iter=10, random_state=0)\n",
    "    # group['제곱미터당 거래금액'] = imputer.fit_transform(group[['제곱미터당 거래금액']])\n",
    "    \n",
    "    return group"
   ]
  },
  {
   "cell_type": "code",
   "execution_count": 21,
   "metadata": {},
   "outputs": [],
   "source": [
    "class LSTM_Transaction_Val_Dataset(Dataset):\n",
    "    def __init__(self, df, window_size=5):\n",
    "        df['계약년월'] = pd.to_datetime(df['계약년월'].astype(str), format='%Y%m')\n",
    "        df_2022 = df[df['계약년월'].dt.year == 2022]\n",
    "        df_else = df[df['계약년월'].dt.year != 2022]\n",
    "\n",
    "        dongs_x, dongs_y = [], []\n",
    "        for dong in df_2022['동'].unique():\n",
    "            for apartment_complex in df_2022[df_2022['동'] == dong]['단지'].unique():\n",
    "                # 2022년 이전 거래 window_size만큼 가져와 2022년 첫 거래 예측\n",
    "                filtered_df_2022 = df_2022[(df_2022['동'] == dong)*(df_2022['단지'] == apartment_complex)]\n",
    "                filtered_df_2022_values = filtered_df_2022['제곱미터당 거래금액'].values\n",
    "                filtered_df_2022_times = filtered_df_2022['계약년월'].apply(lambda x: float((x.year-pd.Timestamp('2006-01').year)*12+(x.month-pd.Timestamp('2006-01').month)+1)).values\n",
    "\n",
    "                filtered_df_else = df_else[(df_else['동'] == dong)*(df_else['단지'] == apartment_complex)]\n",
    "                past_date_range = pd.date_range(start='2006-01-01', end=filtered_df_else.iloc[-1]['계약년월']-pd.DateOffset(months=window_size), freq='MS')\n",
    "                interpolate_date_range = pd.date_range(start=filtered_df_else[filtered_df_else['계약년월'].isin(past_date_range)].iloc[-1]['계약년월'], end=filtered_df_else.iloc[-1]['계약년월'], freq='MS')\n",
    "                \n",
    "                double_filtered_df_else = price_interpolate(filtered_df_else[filtered_df_else['계약년월'].isin(interpolate_date_range)],interpolate_date_range[0],interpolate_date_range[-1]).reset_index().rename(columns={'index': '계약년월'})[-window_size:]\n",
    "                double_filtered_df_else_values = double_filtered_df_else['제곱미터당 거래금액'].values\n",
    "                double_filtered_df_times = double_filtered_df_else['계약년월'].apply(lambda x: float((x.year-pd.Timestamp('2006-01').year)*12+(x.month-pd.Timestamp('2006-01').month)+1)).values\n",
    "                dongs_x.append([double_filtered_df_else_values,double_filtered_df_times])\n",
    "                dongs_y.append([filtered_df_2022_values[0:1],filtered_df_2022_times[0:1]])\n",
    "                \n",
    "                # 2022년 나머지 거래 예측\n",
    "                if len(filtered_df_2022) > 1:\n",
    "                    filtered_df = df[(df['동'] == dong)*(df['단지'] == apartment_complex)]\n",
    "                    for idx in range(len(filtered_df_2022)-1):\n",
    "                        past_date_range = pd.date_range(start='2006-01-01', end=filtered_df_2022.iloc[idx]['계약년월']-pd.DateOffset(months=window_size), freq='MS')\n",
    "                        interpolate_date_range = pd.date_range(start=filtered_df[filtered_df['계약년월'].isin(past_date_range)].iloc[-1]['계약년월'], end=filtered_df_2022.iloc[idx]['계약년월'], freq='MS')\n",
    "                        double_filtered_df = price_interpolate(filtered_df[filtered_df['계약년월'].isin(interpolate_date_range)],interpolate_date_range[0],interpolate_date_range[-1]).reset_index().rename(columns={'index': '계약년월'})[-window_size:]\n",
    "                        double_filtered_df_values = double_filtered_df['제곱미터당 거래금액'].values\n",
    "                        double_filtered_df_times = double_filtered_df['계약년월'].apply(lambda x: float((x.year-pd.Timestamp('2006-01').year)*12+(x.month-pd.Timestamp('2006-01').month)+1)).values\n",
    "                        dongs_x.append([double_filtered_df_values,double_filtered_df_times])\n",
    "                        dongs_y.append([filtered_df_2022_values[idx+1:idx+2],filtered_df_2022_times[idx+1:idx+2]])\n",
    "                else:\n",
    "                    continue\n",
    "\n",
    "        self.dongs_x = dongs_x\n",
    "        self.dongs_y = dongs_y\n",
    "        self.len = len(dongs_x)\n",
    "\n",
    "    # 부동산_x, 부동산_시점_x, 부동산_y, 부동산_시점_y \n",
    "    def __getitem__(self, i):\n",
    "        return torch.FloatTensor(self.dongs_x[i][0]), torch.FloatTensor(self.dongs_x[i][1]), torch.FloatTensor(self.dongs_y[i][0]), torch.FloatTensor(self.dongs_y[i][1])\n",
    "\n",
    "    def __len__(self):\n",
    "        return self.len\n",
    "\n",
    "batch_size = 1\n",
    "val_dataset = LSTM_Transaction_Val_Dataset(transaction_df)\n",
    "val_loader = DataLoader(val_dataset, batch_size=batch_size)"
   ]
  },
  {
   "cell_type": "code",
   "execution_count": 22,
   "metadata": {},
   "outputs": [
    {
     "name": "stdout",
     "output_type": "stream",
     "text": [
      "tensor([[25.0094, 27.5103, 27.3019, 27.0935, 26.8851]])\n",
      "tensor([[188., 189., 190., 191., 192.]])\n",
      "tensor([[27.5103]])\n",
      "tensor([[196.]])\n"
     ]
    }
   ],
   "source": [
    "for x,y,z,w in val_loader:\n",
    "    print(x)\n",
    "    print(y)\n",
    "    print(z)\n",
    "    print(w)\n",
    "    break"
   ]
  },
  {
   "cell_type": "markdown",
   "metadata": {},
   "source": [
    "### LSTM_Transformer_Dataset"
   ]
  },
  {
   "cell_type": "code",
   "execution_count": 7,
   "metadata": {},
   "outputs": [],
   "source": [
    "def price_fill_0(df):\n",
    "    months = pd.to_datetime(pd.date_range(start=\"20060101\", end=\"20221201\", freq='MS'))\n",
    "    complex_city_combinations = df[['단지', '동']].drop_duplicates()\n",
    "\n",
    "    combinations = pd.DataFrame({\n",
    "        '단지': np.tile(complex_city_combinations['단지'], len(months)),\n",
    "        '동': np.tile(complex_city_combinations['동'], len(months)),\n",
    "        '계약년월': np.repeat(months, len(complex_city_combinations))\n",
    "    })\n",
    "    \n",
    "    df['계약년월'] = pd.to_datetime(df['계약년월'].astype(str), format='%Y%m')\n",
    "    df = pd.merge(combinations, df, on=['단지', '계약년월', '동'], how='left')\n",
    "    df['제곱미터당 거래금액(만원)'].fillna(0, inplace=True)\n",
    "\n",
    "    return df"
   ]
  },
  {
   "cell_type": "code",
   "execution_count": 8,
   "metadata": {},
   "outputs": [],
   "source": [
    "class LSTM_Transformer_Dataset(Dataset):\n",
    "    def __init__(self, transaction_data, economy_data, window_size=5):\n",
    "        all_dong_max_apartment_complex = 311 # transaction_data.drop_duplicates(subset=['동','단지']).groupby(['동'])['단지'].count().max()\n",
    "\n",
    "        filled_data = price_fill_0(transaction_data)\n",
    "        filled_data = filled_data[['동', '단지', '계약년월', '제곱미터당 거래금액']]        \n",
    "\n",
    "        dongs_x, dongs_y = [], []\n",
    "        for dong in filled_data['동'].unique():\n",
    "            filtered_filled_data = filled_data[filled_data['동'] == dong]\n",
    "            date_range = pd.date_range('20060101', '20221201', freq='MS')\n",
    "            for idx in range(len(date_range)-window_size):\n",
    "                current_range_x = date_range[idx:idx+window_size]\n",
    "                current_range_y = date_range[idx+window_size:idx+window_size+1]\n",
    "                current_range_filled_x = filtered_filled_data[filtered_filled_data['계약년월'].isin(current_range_x)]\n",
    "                current_range_filled_y = filtered_filled_data[filtered_filled_data['계약년월'].isin(current_range_y)]\n",
    "                grouped_current_range_filled_x = current_range_filled_x.groupby('단지').agg({'제곱미터당 거래금액': list}).reset_index()['제곱미터당 거래금액'].to_list()\n",
    "                grouped_current_range_filled_y = current_range_filled_y.groupby('단지').agg({'제곱미터당 거래금액': list}).reset_index()['제곱미터당 거래금액'].to_list()\n",
    "                if len(grouped_current_range_filled_x) < all_dong_max_apartment_complex:\n",
    "                    for _ in range(all_dong_max_apartment_complex-len(grouped_current_range_filled_x)):\n",
    "                        grouped_current_range_filled_x.append([0.0]*window_size)\n",
    "                        grouped_current_range_filled_y.append([0.0])\n",
    "                economy_x, economy_y = [], []\n",
    "                economy_x.append(economy_data['통화량'][idx:idx+window_size].to_list())\n",
    "                economy_y.append(economy_data['통화량'][idx+window_size:idx+window_size+1].to_list())\n",
    "                grouped_current_range_filled_and_economy_x = []\n",
    "                grouped_current_range_filled_and_economy_x.extend([grouped_current_range_filled_x, economy_x])\n",
    "                grouped_current_range_filled_and_economy_y = []\n",
    "                grouped_current_range_filled_and_economy_y.extend([grouped_current_range_filled_y, economy_y])\n",
    "                dongs_x.append(grouped_current_range_filled_and_economy_x)\n",
    "                dongs_y.append(grouped_current_range_filled_and_economy_y)\n",
    "\n",
    "        self.dongs_x = dongs_x\n",
    "        self.dongs_y = dongs_y\n",
    "        self.len = len(dongs_x)\n",
    "\n",
    "    # 부동산_x, 경제_x, 부동산_y, 경제_y \n",
    "    def __getitem__(self, i):\n",
    "        return torch.FloatTensor(self.dongs_x[i][0]), torch.FloatTensor(self.dongs_x[i][1]), torch.FloatTensor(self.dongs_y[i][0]), torch.FloatTensor(self.dongs_y[i][1])\n",
    "\n",
    "    def __len__(self):\n",
    "        return self.len\n",
    "\n",
    "batch_size = 1\n",
    "train_dataset = LSTM_Transformer_Dataset(transaction_all, economy_all)\n",
    "train_loader = DataLoader(train_dataset, batch_size=batch_size)"
   ]
  },
  {
   "cell_type": "code",
   "execution_count": 9,
   "metadata": {},
   "outputs": [
    {
     "name": "stdout",
     "output_type": "stream",
     "text": [
      "torch.float32\n"
     ]
    }
   ],
   "source": [
    "for x,y,z,w in train_loader:\n",
    "    print(w.dtype)\n",
    "    break"
   ]
  },
  {
   "cell_type": "markdown",
   "metadata": {},
   "source": [
    "### ODE_Transaction_Dataset"
   ]
  },
  {
   "cell_type": "code",
   "execution_count": 11,
   "metadata": {},
   "outputs": [],
   "source": [
    "class ODE_Transaction_Dataset(Dataset):\n",
    "    def __init__(self, data, window_size=5):\n",
    "        data['계약년월'] = pd.to_datetime(data['계약년월'].astype(str), format='%Y%m')\n",
    "        \n",
    "        dongs_x, dongs_y = [], []\n",
    "        for dong in data['동'].unique():\n",
    "            for apartment_complex in data[data['동'] == dong]['단지'].unique():\n",
    "                    filtered_data = data[(data['동'] == dong)*(data['단지'] == apartment_complex)]\n",
    "                    filtered_data_values = filtered_data['제곱미터당 거래금액'].values\n",
    "                    filtered_data_times = filtered_data['계약년월'].apply(lambda x: float((x.year-pd.Timestamp('2006-01').year)*12+(x.month-pd.Timestamp('2006-01').month)+1)).values\n",
    "                    for idx in range(len(filtered_data_values)-window_size):\n",
    "                        dongs_x.append([filtered_data_values[idx:idx+window_size],filtered_data_times[idx:idx+window_size]])\n",
    "                        dongs_y.append([filtered_data_values[idx+window_size:idx+window_size+1],filtered_data_times[idx+window_size:idx+window_size+1]])\n",
    "                        \n",
    "        self.dongs_x = dongs_x\n",
    "        self.dongs_y = dongs_y\n",
    "        self.len = len(dongs_x)\n",
    "\n",
    "    # 부동산_x, 부동산_시점_x, 부동산_y, 부동산_시점_y \n",
    "    def __getitem__(self, i):\n",
    "        return torch.FloatTensor(self.dongs_x[i][0]), torch.FloatTensor(self.dongs_x[i][1]), torch.FloatTensor(self.dongs_y[i][0]), torch.FloatTensor(self.dongs_y[i][1])\n",
    "\n",
    "    def __len__(self):\n",
    "        return self.len\n",
    "\n",
    "batch_size = 1\n",
    "train_dataset = ODE_Transaction_Dataset(transaction_df)\n",
    "train_loader = DataLoader(train_dataset, batch_size=batch_size)"
   ]
  },
  {
   "cell_type": "code",
   "execution_count": 12,
   "metadata": {},
   "outputs": [
    {
     "name": "stdout",
     "output_type": "stream",
     "text": [
      "torch.float32\n"
     ]
    }
   ],
   "source": [
    "for x,y,z,w in train_loader:\n",
    "    print(w.dtype)\n",
    "    break"
   ]
  },
  {
   "cell_type": "markdown",
   "metadata": {},
   "source": [
    "### ODE_Transformer_Dataset"
   ]
  },
  {
   "cell_type": "code",
   "execution_count": 14,
   "metadata": {},
   "outputs": [],
   "source": [
    "class ODE_Transformer_Dataset(Dataset):\n",
    "    def __init__(self, transaction_data, economy_data, window_size=5):\n",
    "        all_dong_max_apartment_complex = 311 # transaction_data.drop_duplicates(subset=['동','단지']).groupby(['동'])['단지'].count().max()\n",
    "\n",
    "        transaction_data['계약년월'] = pd.to_datetime(transaction_data['계약년월'].astype(str), format='%Y%m')\n",
    "        date_range = pd.date_range('20060101', '20221201', freq='MS')\n",
    "        economy_data.index = date_range\n",
    "\n",
    "        dongs_x, dongs_y = [], []\n",
    "\n",
    "        # 동별로 탐색\n",
    "        for dong in transaction_data['동'].unique():\n",
    "            filtered_data = transaction_data[transaction_data['동'] == dong]\n",
    "\n",
    "            # 200601부터 sequence_length(window_size)만큼 탐색\n",
    "            for idx in range(len(date_range)-window_size+1): # len(date_range)-sequence_length+1\n",
    "                # x,y 포함된 기간 가져오기\n",
    "                current_range = date_range[:idx+window_size+1]\n",
    "                \n",
    "                # x 기간(y 기간 전)에 sequence_length만큼 거래가 존재하는 단지만 가져오기(단, current_range_filtered_data에는 모든 기간 포함)\n",
    "                current_range_apartment_complex = filtered_data[filtered_data['계약년월'].isin(current_range[:-1])].groupby('단지').filter(lambda x: len(x) >= window_size)['단지'].unique()\n",
    "                current_range_filtered_data = filtered_data[filtered_data['단지'].isin(current_range_apartment_complex)]\n",
    "\n",
    "                # x 기간의 단지별 평단가, 시간, 경제(x 기간 중 마지막 window_size 만큼)\n",
    "                current_range_filtered_x = current_range_filtered_data[current_range_filtered_data['계약년월'].isin(current_range[:-1])].groupby('단지').apply(lambda x: x.tail(window_size)).reset_index(drop=True)\n",
    "                grouped_current_range_filtered_x = current_range_filtered_x.groupby('단지').agg({'제곱미터당 거래금액(만원)': list}).reset_index()['제곱미터당 거래금액(만원)'].to_list()\n",
    "                grouped_current_range_filtered_time_x = current_range_filtered_x.groupby('단지').agg({'계약년월': list}).reset_index()['계약년월'].to_list()\n",
    "                grouped_current_range_filtered_time_x = [[float((ts.year-pd.Timestamp('2006-01').year)*12+(ts.month-pd.Timestamp('2006-01').month)+1) for ts in sublist] for sublist in grouped_current_range_filtered_time_x]\n",
    "                grouped_current_range_filtered_economy_x = [[economy_data['통화량'][ts] for ts in current_range[-1-window_size:-1]]]\n",
    "\n",
    "                # y 기간의 단지별 평단가, 시간, 경제\n",
    "                grouped_current_range_filtered_y = []\n",
    "                grouped_current_range_filtered_time_y = []\n",
    "                grouped_current_range_filtered_economy_y = []\n",
    "                for apartment_complex in current_range_apartment_complex:\n",
    "                    if current_range_filtered_data[current_range_filtered_data['단지']==apartment_complex]['계약년월'].isin([current_range[-1]]).any():                \n",
    "                        grouped_current_range_filtered_y.append(current_range_filtered_data[(current_range_filtered_data['단지']==apartment_complex) & (current_range_filtered_data['계약년월']==current_range[-1])]['제곱미터당 거래금액(만원)'].to_list())\n",
    "                    else:\n",
    "                        grouped_current_range_filtered_y.append([0.0])\n",
    "                    grouped_current_range_filtered_time_y.append([current_range[-1]])\n",
    "                grouped_current_range_filtered_time_y = [[float((ts.year-pd.Timestamp('2006-01').year)*12+(ts.month-pd.Timestamp('2006-01').month)+1) for ts in sublist] for sublist in grouped_current_range_filtered_time_y]\n",
    "                grouped_current_range_filtered_economy_y.append([economy_data['통화량'][current_range[-1]]])\n",
    "                \n",
    "                # 최대 단지 수만큼 단지별 평단가 채우기\n",
    "                if len(grouped_current_range_filtered_x) < all_dong_max_apartment_complex:\n",
    "                    for _ in range(all_dong_max_apartment_complex-len(grouped_current_range_filtered_x)):\n",
    "                        grouped_current_range_filtered_x.append([0.0]*window_size)\n",
    "                        grouped_current_range_filtered_time_x.append([0.0]*window_size)\n",
    "                        grouped_current_range_filtered_y.append([0.0])\n",
    "                        grouped_current_range_filtered_time_y.append([0.0])\n",
    "\n",
    "                # y 기간의 단지별 평단가가 0이면 뒤로 빼기\n",
    "                sorted_indices = np.argsort([-y[0] if y[0] != 0 else float('inf') for y in grouped_current_range_filtered_y])\n",
    "                grouped_current_range_filtered_x = np.array(grouped_current_range_filtered_x)[sorted_indices].tolist()\n",
    "                grouped_current_range_filtered_y = np.array(grouped_current_range_filtered_y)[sorted_indices].tolist()\n",
    "                grouped_current_range_filtered_time_x = np.array(grouped_current_range_filtered_time_x)[sorted_indices].tolist()\n",
    "                grouped_current_range_filtered_time_y = np.array(grouped_current_range_filtered_time_y)[sorted_indices].tolist()\n",
    "\n",
    "                # x,y 단지별 평단가, 시간, 경제 모두 묶고 dongs에 하나씩 붙이기\n",
    "                grouped_current_range_filtered_and_time_and_economy_x = []\n",
    "                grouped_current_range_filtered_and_time_and_economy_x.extend([grouped_current_range_filtered_x, grouped_current_range_filtered_time_x, grouped_current_range_filtered_economy_x])\n",
    "                grouped_current_range_filtered_and_time_and_economy_y = []\n",
    "                grouped_current_range_filtered_and_time_and_economy_y.extend([grouped_current_range_filtered_y, grouped_current_range_filtered_time_y, grouped_current_range_filtered_economy_y])\n",
    "                dongs_x.append(grouped_current_range_filtered_and_time_and_economy_x)\n",
    "                dongs_y.append(grouped_current_range_filtered_and_time_and_economy_y)\n",
    "        self.dongs_x = dongs_x\n",
    "        self.dongs_y = dongs_y\n",
    "        self.len = len(dongs_x)\n",
    "\n",
    "    # 부동산_x, 시간_x, 경제_x, 부동산_y, 시간_y, 경제_y \n",
    "    def __getitem__(self, i):\n",
    "        return torch.FloatTensor(self.dongs_x[i][0]), torch.FloatTensor(self.dongs_x[i][1]), torch.FloatTensor(self.dongs_x[i][2]), torch.FloatTensor(self.dongs_y[i][0]), torch.FloatTensor(self.dongs_y[i][1]), torch.FloatTensor(self.dongs_y[i][2])\n",
    " \n",
    "    def __len__(self):\n",
    "        return self.len\n",
    "\n",
    "batch_size = 1\n",
    "train_dataset = ODE_Transformer_Dataset(transaction_all, economy_all)\n",
    "train_loader = DataLoader(train_dataset, batch_size=batch_size)"
   ]
  },
  {
   "cell_type": "code",
   "execution_count": 15,
   "metadata": {},
   "outputs": [
    {
     "name": "stdout",
     "output_type": "stream",
     "text": [
      "torch.Size([1, 311, 5])\n",
      "torch.Size([1, 311, 5])\n",
      "torch.Size([1, 1, 5])\n",
      "torch.Size([1, 311, 1])\n",
      "torch.Size([1, 311, 1])\n",
      "torch.Size([1, 1, 1])\n"
     ]
    }
   ],
   "source": [
    "for x,y,z,w,p,q in train_loader:\n",
    "    print(x.shape)\n",
    "    print(y.shape)\n",
    "    print(z.shape)\n",
    "    print(w.shape)\n",
    "    print(p.shape)\n",
    "    print(q.shape)\n",
    "    break"
   ]
  }
 ],
 "metadata": {
  "kernelspec": {
   "display_name": "Python 3",
   "language": "python",
   "name": "python3"
  },
  "language_info": {
   "codemirror_mode": {
    "name": "ipython",
    "version": 3
   },
   "file_extension": ".py",
   "mimetype": "text/x-python",
   "name": "python",
   "nbconvert_exporter": "python",
   "pygments_lexer": "ipython3",
   "version": "3.11.4"
  },
  "orig_nbformat": 4
 },
 "nbformat": 4,
 "nbformat_minor": 2
}
